{
 "cells": [
  {
   "cell_type": "code",
   "execution_count": null,
   "metadata": {},
   "outputs": [],
   "source": [
    "library(kBET)\n",
    "library(dplyr)\n",
    "library(ggplot2)\n",
    "ulimit::memory_limit(6000)"
   ]
  },
  {
   "cell_type": "code",
   "execution_count": null,
   "metadata": {},
   "outputs": [],
   "source": [
    "#dir = '/home/groups/graylab_share/OMERO.rdsStore/engje/Data/20201105_SMT101/filtered_data'\n",
    "dir = './Data/filtered_data'\n",
    "setwd(dir)"
   ]
  },
  {
   "cell_type": "code",
   "execution_count": null,
   "metadata": {},
   "outputs": [],
   "source": [
    "#data files to process\n",
    "file_list = c('20201207_JE-TMA-41-43-62_SampledMeanIntensity_arcsinh_robust.csv',\n",
    " '20201207_JE-TMA-41-43-62_SampledMeanIntensity_log2_robust.csv',\n",
    " '20201207_JE-TMA-41-43-62_SampledMeanIntensity_arcsinh_quantile.csv',\n",
    " '20201207_JE-TMA-41-43-62_SampledMeanIntensity_arcsinh_power.csv',\n",
    " '20201207_JE-TMA-41-43-62_SampledMeanIntensity_raw_robust.csv',\n",
    " '20201207_JE-TMA-41-43-62_SampledMeanIntensity_log2_power.csv',\n",
    " '20201207_JE-TMA-41-43-62_SampledMeanIntensity_raw_min-max.csv',\n",
    " '20201207_JE-TMA-41-43-62_SampledMeanIntensity_raw_max-abs.csv',\n",
    " '20201207_JE-TMA-41-43-62_SampledMeanIntensity_raw_quantile.csv',\n",
    " '20201207_JE-TMA-41-43-62_SampledMeanIntensity_log2.csv',\n",
    " '20201207_JE-TMA-41-43-62_SampledMeanIntensity_raw_standard.csv',\n",
    " '20201207_JE-TMA-41-43-62_SampledMeanIntensity_arcsinh_max-abs.csv',\n",
    " '20201207_JE-TMA-41-43-62_SampledMeanIntensity_log2_quantile.csv',\n",
    " '20201207_JE-TMA-41-43-62_SampledMeanIntensity_log2_max-abs.csv',\n",
    " '20201207_JE-TMA-41-43-62_SampledMeanIntensity_log2_standard.csv',\n",
    " '20201207_JE-TMA-41-43-62_SampledMeanIntensity_arcsinh_min-max.csv',\n",
    " '20201207_JE-TMA-41-43-62_SampledMeanIntensity_raw_power.csv',\n",
    " '20201207_JE-TMA-41-43-62_SampledMeanIntensity_arcsinh_standard.csv',\n",
    " '20201207_JE-TMA-41-43-62_SampledMeanIntensity_arcsinh.csv',\n",
    " '20201207_JE-TMA-41-43-62_SampledMeanIntensity_log2_min-max.csv',\n",
    " '20201207_JE-TMA-41-43-62_SampledMeanIntensity_raw.csv',\n",
    " '20201208_JE-TMA-41-43-62_SampledMeanIntensity_log2_standard.csv',\n",
    " '20201208_JE-TMA-41-43-62_SampledMeanIntensity_log2_power.csv',\n",
    " '20201208_JE-TMA-41-43-62_SampledMeanIntensity_log2_max-abs.csv',\n",
    " '20201208_JE-TMA-41-43-62_SampledMeanIntensity_arcsinh_max-abs.csv',\n",
    " '20201208_JE-TMA-41-43-62_SampledMeanIntensity_log2.csv',\n",
    " '20201208_JE-TMA-41-43-62_SampledMeanIntensity_raw_power.csv',\n",
    " '20201208_JE-TMA-41-43-62_SampledMeanIntensity_arcsinh_standard.csv',\n",
    " '20201208_JE-TMA-41-43-62_SampledMeanIntensity_raw_quantile.csv',\n",
    " '20201208_JE-TMA-41-43-62_SampledMeanIntensity_arcsinh_min-max.csv',\n",
    " '20201208_JE-TMA-41-43-62_SampledMeanIntensity_arcsinh.csv',\n",
    " '20201208_JE-TMA-41-43-62_SampledMeanIntensity_raw.csv',\n",
    " '20201208_JE-TMA-41-43-62_SampledMeanIntensity_arcsinh_robust.csv',\n",
    " '20201208_JE-TMA-41-43-62_SampledMeanIntensity_log2_robust.csv',\n",
    " '20201208_JE-TMA-41-43-62_SampledMeanIntensity_log2_min-max.csv',\n",
    " '20201208_JE-TMA-41-43-62_SampledMeanIntensity_raw_robust.csv',\n",
    " '20201208_JE-TMA-41-43-62_SampledMeanIntensity_raw_standard.csv',\n",
    " '20201208_JE-TMA-41-43-62_SampledMeanIntensity_arcsinh_quantile.csv',\n",
    " '20201208_JE-TMA-41-43-62_SampledMeanIntensity_log2_quantile.csv',\n",
    " '20201208_JE-TMA-41-43-62_SampledMeanIntensity_arcsinh_power.csv',\n",
    " '20201208_JE-TMA-41-43-62_SampledMeanIntensity_raw_max-abs.csv',\n",
    " '20201208_JE-TMA-41-43-62_SampledMeanIntensity_raw_min-max.csv',\n",
    " '20201209_JE-TMA-41-43-62_SampledMeanIntensity_raw_max-abs.csv',\n",
    " '20201209_JE-TMA-41-43-62_SampledMeanIntensity_arcsinh_standard.csv',\n",
    " '20201209_JE-TMA-41-43-62_SampledMeanIntensity_arcsinh_robust.csv',\n",
    " '20201209_JE-TMA-41-43-62_SampledMeanIntensity_arcsinh_power.csv',\n",
    " '20201209_JE-TMA-41-43-62_SampledMeanIntensity_log2_power.csv',\n",
    " '20201209_JE-TMA-41-43-62_SampledMeanIntensity_log2_min-max.csv',\n",
    " '20201209_JE-TMA-41-43-62_SampledMeanIntensity_arcsinh.csv',\n",
    " '20201209_JE-TMA-41-43-62_SampledMeanIntensity_raw_robust.csv',\n",
    " '20201209_JE-TMA-41-43-62_SampledMeanIntensity_log2.csv',\n",
    " '20201209_JE-TMA-41-43-62_SampledMeanIntensity_raw_min-max.csv',\n",
    " '20201209_JE-TMA-41-43-62_SampledMeanIntensity_raw_standard.csv',\n",
    " '20201209_JE-TMA-41-43-62_SampledMeanIntensity_log2_max-abs.csv',\n",
    " '20201209_JE-TMA-41-43-62_SampledMeanIntensity_log2_robust.csv',\n",
    " '20201209_JE-TMA-41-43-62_SampledMeanIntensity_log2_standard.csv',\n",
    " '20201209_JE-TMA-41-43-62_SampledMeanIntensity_log2_quantile.csv',\n",
    " '20201209_JE-TMA-41-43-62_SampledMeanIntensity_raw_power.csv',\n",
    " '20201209_JE-TMA-41-43-62_SampledMeanIntensity_arcsinh_max-abs.csv',\n",
    " '20201209_JE-TMA-41-43-62_SampledMeanIntensity_arcsinh_quantile.csv',\n",
    " '20201209_JE-TMA-41-43-62_SampledMeanIntensity_raw_quantile.csv',\n",
    " '20201209_JE-TMA-41-43-62_SampledMeanIntensity_arcsinh_min-max.csv',\n",
    " '20201209_JE-TMA-41-43-62_SampledMeanIntensity_raw.csv',\n",
    ")"
   ]
  },
  {
   "cell_type": "code",
   "execution_count": null,
   "metadata": {},
   "outputs": [],
   "source": [
    "#run kbet\n",
    "for (file in file_list){\n",
    "print(file)\n",
    "data  <- read.csv(file)\n",
    "strs <- strsplit(file, \"Intensity_\")\n",
    "strs2 <- strsplit(file, \"_JE-TMA\")\n",
    "data_test <- data %>% select(which(sapply(.,is.numeric)))\n",
    "avector <- data[['batch']]\n",
    "start_time <- Sys.time()\n",
    "batch.estimate <- kBET(data_test, avector)\n",
    "end_time <- Sys.time()\n",
    "end_time - start_time\n",
    "batch.estimate$summary\n",
    "write.csv(batch.estimate$summary,sprintf(\"%s_JE-TMA-41-43-62_kbet_%s\", strs2[[1]][1] ,strs[[1]][2]))\n",
    "    }"
   ]
  },
  {
   "cell_type": "code",
   "execution_count": null,
   "metadata": {},
   "outputs": [],
   "source": [
    "plot.data <- data.frame(class=rep(c('observed', 'expected'), \n",
    "                                  each=length(batch.estimate$stats$kBET.observed)), \n",
    "                        data =  c(batch.estimate$stats$kBET.observed,\n",
    "                                  batch.estimate$stats$kBET.expected))\n",
    "g <- ggplot(plot.data, aes(class, data)) + geom_boxplot() + \n",
    "     labs(x='Test', y='Rejection rate',title='kBET test results') +\n",
    "     theme_bw() +  \n",
    "     scale_y_continuous(limits=c(0,1))"
   ]
  },
  {
   "cell_type": "code",
   "execution_count": null,
   "metadata": {},
   "outputs": [],
   "source": [
    "g"
   ]
  },
  {
   "cell_type": "code",
   "execution_count": null,
   "metadata": {},
   "outputs": [],
   "source": []
  }
 ],
 "metadata": {
  "kernelspec": {
   "display_name": "R",
   "language": "R",
   "name": "ir"
  },
  "language_info": {
   "codemirror_mode": "r",
   "file_extension": ".r",
   "mimetype": "text/x-r-source",
   "name": "R",
   "pygments_lexer": "r",
   "version": "3.6.1"
  }
 },
 "nbformat": 4,
 "nbformat_minor": 4
}
