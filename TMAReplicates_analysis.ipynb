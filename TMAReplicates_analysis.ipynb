{
 "cells": [
  {
   "cell_type": "markdown",
   "metadata": {},
   "source": [
    "# Comparison of Adjacent TMA sections\n",
    "\n",
    "**Question:** How does the signal-to-background ratio compare across experimental replicates?\n",
    "\n",
    "**Samples:** \n",
    "- TMA: Purchased from biomax: https://www.biomax.us/tissue-arrays/Breast/BR1506\n",
    "- Adjacent Sections: BM-Her2N75-15, BM-Her2N75-17, BM-Her2N75-18 (section 16 skipped.)\n",
    "- Scenes: (i.e. TMA cores) \n",
    "  - 17: ER+/HER2+, immune rich. \n",
    "  - 49: ER+/HER2+\n",
    "  - 59: HER2+ immune rich\n",
    "\n",
    "**Method**: For each stain, pixel intensity was manually thresholded to separate the positive pixels from the background. We analyze the percent positive cells based on the thresholds, the intensity of positive pixels, background pixesl, and signal-to-background ratio (SBR) or adjacent sections and different tissues on the same slide. We also automatically estimated dynamic range using the 5th and 98th percentile of single cell intensity in the tissue."
   ]
  },
  {
   "cell_type": "code",
   "execution_count": 1,
   "metadata": {},
   "outputs": [],
   "source": [
    "#load libraries\n",
    "import pandas as pd\n",
    "import matplotlib.pyplot as plt\n",
    "import matplotlib\n",
    "import sys\n",
    "import numpy as np\n",
    "import os\n",
    "from scipy.stats.stats import pearsonr\n",
    "import itertools\n",
    "from scipy import stats\n",
    "matplotlib.rcParams.update({'font.size': 20})\n",
    "import seaborn as sns\n"
   ]
  },
  {
   "cell_type": "markdown",
   "metadata": {},
   "source": [
    "## Load Data"
   ]
  },
  {
   "cell_type": "code",
   "execution_count": 2,
   "metadata": {},
   "outputs": [],
   "source": [
    "#set location of files\n",
    "#os.chdir('/home/groups/graylab_share/OMERO.rdsStore/engje/Data/cycIF_ValidationStudies/cycIF_Validation/')\n",
    "codedir =  os.getcwd()"
   ]
  },
  {
   "cell_type": "code",
   "execution_count": null,
   "metadata": {},
   "outputs": [],
   "source": [
    "#load threshold, SNR data\n",
    "\n",
    "d_rename = {'Her2':'HER2','LaminAC':'LamAC','pH3':'pHH3'}\n",
    "df_t = pd.read_csv(f'{codedir}/Metadata/BM-Her2N75/SNR_jenny_replicates.csv',index_col=0)\n",
    "df_t.marker = df_t.marker.replace(to_replace=d_rename)\n",
    "df_t['scene'] = [item.split('Scene-0')[1] for item in df_t.scene]\n",
    "#load metadata from feature extraction\n",
    "df_m = pd.read_csv(f'{codedir}/Metadata/BM-Her2N75/metadata_JennyReps.csv',index_col=0)"
   ]
  },
  {
   "cell_type": "code",
   "execution_count": null,
   "metadata": {},
   "outputs": [],
   "source": [
    "#calculate actual signal (ie measure signal minus background)\n",
    "df_t['meanpos'] = df_t.meanpos - df_t.meanneg"
   ]
  },
  {
   "cell_type": "markdown",
   "metadata": {},
   "source": [
    "# import mean int"
   ]
  },
  {
   "cell_type": "code",
   "execution_count": null,
   "metadata": {},
   "outputs": [],
   "source": [
    "#import dataframes with mean intensity\n",
    "df_mi =pd.DataFrame()\n",
    "     \n",
    "ls_sample =  ['BM-Her2N75-15','BM-Her2N75-17','BM-Her2N75-18']\n",
    "\n",
    "for s_sample in ls_sample:\n",
    "    df_tt = pd.read_csv(f'{codedir}/Data/features_{s_sample}-3S_MeanIntensity.csv',index_col=0)\n",
    "    df_mi = df_mi.append(df_tt)\n",
    "#add the slide/scene information \n",
    "\n",
    "df_mi['slide'] = [item.split('_')[0] for item in df_mi.index]\n",
    "df_mi.drop('_Nuclei',axis=1,inplace=True)"
   ]
  },
  {
   "cell_type": "code",
   "execution_count": null,
   "metadata": {},
   "outputs": [],
   "source": [
    "df_mi['slide_scene'] = df_mi.slide + '_' + df_mi.scene"
   ]
  },
  {
   "cell_type": "code",
   "execution_count": null,
   "metadata": {},
   "outputs": [],
   "source": [
    "if not os.path.exists(f'{codedir}/Data/20201229_BM-Her2N75-15-17-18_MeanIntensity.csv'):\n",
    "    print('saving')\n",
    "    df_mi[~df_mi.index.str.contains('cell00000')].to_csv(f'{codedir}/Data/20201229_BM-Her2N75-15-17-18_MeanIntensity.csv')"
   ]
  },
  {
   "cell_type": "code",
   "execution_count": null,
   "metadata": {},
   "outputs": [],
   "source": [
    "#output sampled data for normalization and kBET evaluation\n",
    "#select 1000 rand cells for each scene in ls_scene\n",
    "filterdir = '/home/groups/graylab_share/OMERO.rdsStore/engje/Data/20201105_SMT101/filtered_data'\n",
    "i_rand = 9\n",
    "df_sample = pd.DataFrame()\n",
    "for s_scene in sorted(set(df_mi.slide_scene)):\n",
    "    df_scene = df_mi[df_mi.slide_scene==s_scene]\n",
    "    df_sample = df_sample.append(df_scene.sample(n=600,  replace=False,  random_state=i_rand)) #7, 8, 9 (2)\n",
    "df_sample = df_sample.loc[:,df_sample.dtypes=='float64']\n",
    "df_sample['batch'] = [item.split('_')[0] for item in df_sample.index]\n",
    "if not os.path.exists(f'{codedir}/Data/20201229_BM-Her2N75-15-17-18_MeanIntensity.csv'):\n",
    "    print('saving')\n",
    "    np.log2(df_sample.loc[:,df_sample.dtypes=='float64']+1).to_csv(f'{filterdir}/2020120{i_rand}_BM-Her2N75_SampledMeanIntensity_log2.csv')\n",
    "    (df_sample.loc[:,df_sample.dtypes=='float64']).to_csv(f'{filterdir}/2020120{i_rand}_BM-Her2N75_SampledMeanIntensity_raw.csv')"
   ]
  },
  {
   "cell_type": "markdown",
   "metadata": {},
   "source": [
    "# Dynamic Range"
   ]
  },
  {
   "cell_type": "code",
   "execution_count": null,
   "metadata": {},
   "outputs": [],
   "source": [
    "#calculate 5th and 98th percentile to estimate dynamic range\n",
    "i_high_quantile = 0.98\n",
    "i_high_quantile = 0.999\n",
    "df_result = pd.DataFrame()\n",
    "for s_slide in ['BM-Her2N75-15', 'BM-Her2N75-17', 'BM-Her2N75-18']:\n",
    "    for s_scene in ['scene017', 'scene049', 'scene059']:\n",
    "        for s_marker in df_mi.columns[df_mi.dtypes=='float64']:\n",
    "            se_feat = df_mi.loc[((df_mi.slide==s_slide) & (df_mi.scene==s_scene)),s_marker]\n",
    "            s_index = f'{s_slide}_{s_scene}_{s_marker}'\n",
    "            df_result.loc[s_index,'low05'] = se_feat.quantile(0.05)\n",
    "            df_result.loc[s_index,'high95'] = se_feat.quantile(i_high_quantile)\n",
    "            df_result.loc[s_index,'slide'] = s_slide\n",
    "            df_result.loc[s_index,'core'] = s_scene\n",
    "            df_result.loc[s_index,'marker'] = s_marker.split('_')[0]\n",
    "df_result['dynamic_range'] = df_result.high95 - df_result.low05\n",
    "df_result['estimated_SBR'] = (df_result.high95- df_result.low05)/df_result.low05\n"
   ]
  },
  {
   "cell_type": "markdown",
   "metadata": {},
   "source": [
    "# histograms: manual vs estimated"
   ]
  },
  {
   "cell_type": "code",
   "execution_count": null,
   "metadata": {},
   "outputs": [],
   "source": [
    "#use the histograms\n",
    "matplotlib.rcParams.update({'font.size': 8})\n",
    "for s_marker in df_mi.columns[df_mi.dtypes=='float64']:\n",
    "    fig,ax = plt.subplots(3,1,figsize=(4,4.2),dpi=200)\n",
    "    for idxs, s_scene in enumerate(sorted(set(df_mi.scene))):\n",
    "        df_scene = df_mi[df_mi.scene==s_scene]\n",
    "        for idx, s_slide in enumerate(sorted(set(df_mi.slide))): \n",
    "            se_slide = df_scene[df_scene.slide==s_slide].loc[:,s_marker]\n",
    "            se_slide.name = f\"{s_slide.split('-')[-1]}\"\n",
    "            i_max = np.quantile(se_slide,.995)\n",
    "            sns.kdeplot(se_slide,shade=True,ax=ax[idxs],clip=(0,i_max),label=f\"{s_slide.split('-')[-1]}\")    \n",
    "            i_high = np.quantile(se_slide,.98)\n",
    "            i_mid = np.quantile(se_slide,.465)\n",
    "            i_low = np.quantile(se_slide,.05)\n",
    "            i_manual = df_t[(df_t.slide==s_slide) & (df_t.scene==s_scene.split('scene0')[1])& (df_t.marker==s_marker.split('_')[0])].minimum[0]\n",
    "            ax[idxs].axvline(i_high, c=f'C{idx}', alpha=0.5,ls=':')\n",
    "            ax[idxs].axvline(i_low, c=f'C{idx}', alpha=0.5,ls=':')\n",
    "            ax[idxs].axvline(i_manual, c=f'C{idx}',alpha=0.5,ls='--')\n",
    "        ax[idxs].set_xlim(left=0,right=i_max)\n",
    "        ax[idxs].set_xlabel('')\n",
    "        ax[idxs].set_title(s_scene.split('scene')[1])\n",
    "        #ax[idxs].get_legend().remove()\n",
    "    ax[idxs].legend(loc='right')\n",
    "    plt.suptitle(s_marker.split('_')[0],x=.35,y=1,weight='bold')\n",
    "    plt.tight_layout()\n",
    "    fig.savefig(f'{codedir}/Figures/TMArepeats_{s_marker}_kde.png')\n",
    "    break\n",
    "    if s_marker != 'HER2_Ring':\n",
    "        plt.close()\n"
   ]
  },
  {
   "cell_type": "code",
   "execution_count": null,
   "metadata": {},
   "outputs": [],
   "source": [
    "#shaded histograms\n",
    "hatch=['', '-', '|']\n",
    "matplotlib.rcParams.update({'font.size': 8})\n",
    "for s_marker in df_mi.columns[df_mi.dtypes=='float64']:\n",
    "    fig,ax = plt.subplots(3,3,figsize=(7,5),dpi=200)\n",
    "    for idxs, s_scene in enumerate(sorted(set(df_mi.scene))):\n",
    "        df_scene = df_mi[df_mi.scene==s_scene]\n",
    "        for idx, s_slide in enumerate(sorted(set(df_mi.slide))): \n",
    "            se_slide = df_scene[df_scene.slide==s_slide].loc[:,s_marker]\n",
    "            se_slide.name = f\"{s_slide.split('-')[-1]}\"\n",
    "            i_max = np.quantile(se_slide,.995)\n",
    "            a_sing = sns.kdeplot(se_slide,shade=False,ax=ax[idx,idxs],clip=(0,i_max),color=f'C{idx}',label=f\"{s_slide.split('-')[-1]}\").get_lines()[0].get_data()\n",
    "            i_high = np.quantile(se_slide,i_high_quantile)\n",
    "            i_low = np.quantile(se_slide,.05)\n",
    "            ax[idx,idxs].fill_between(x=a_sing[0], y1=a_sing[1], y2=0,where=a_sing[0] > i_high,facecolor=f'C{idx}',alpha=0.5)\n",
    "            ax[idx,idxs].fill_between(x=a_sing[0], y1=a_sing[1], y2=0,where=a_sing[0] < i_low,facecolor=f'C{idx}',alpha=0.5)\n",
    "            i_manual = df_t[(df_t.slide==s_slide) & (df_t.scene==s_scene.split('scene0')[1])& (df_t.marker==s_marker.split('_')[0])].minimum[0]\n",
    "            ax[idx,idxs].axvline(i_manual, c=f'C{idx}',alpha=0.5,ls='--')\n",
    "            ax[idx,idxs].set_xlim(left=0,right=i_max)\n",
    "            ax[idx,idxs].set_xlabel('')\n",
    "        ax[0,idxs].set_title(s_scene.split('scene')[1])\n",
    "    plt.suptitle(s_marker.split('_')[0],x=.35,y=1,weight='bold')\n",
    "    plt.tight_layout()\n",
    "    fig.savefig(f'{codedir}/Figures/TMArepeats_shaded_{s_marker}_kde.png')\n",
    "    break\n",
    "    if s_marker != 'HER2_Ring':\n",
    "        plt.close()"
   ]
  },
  {
   "cell_type": "code",
   "execution_count": null,
   "metadata": {},
   "outputs": [],
   "source": [
    "fig,ax = plt.subplots(figsize=(22,4))\n",
    "sns.barplot(x=\"marker\", y=\"dynamic_range\", hue=\"slide\", data=df_result, ax=ax,palette='muted',ci=None)\n",
    "h, l = ax.get_legend_handles_labels()\n",
    "sns.stripplot(x=\"marker\", y=\"dynamic_range\", hue=\"slide\", data=df_result,dodge=True, ax=ax,palette='dark')\n",
    "ax.legend(h,l)\n",
    "ax.set_title('Dynamic Range of Markers in Replicate Stainings on Three Tissues')\n",
    "s_ylabel = f'Dynamic Range\\n 0.05 - {i_high_quantile}'\n",
    "ax.set_ylabel(s_ylabel)\n",
    "s_figname =f'{codedir}/Figures/Dynamic_Range_all_markers_TMAs_{i_high_quantile}.png'\n",
    "plt.tight_layout()\n",
    "fig.savefig(s_figname)"
   ]
  },
  {
   "cell_type": "code",
   "execution_count": null,
   "metadata": {},
   "outputs": [],
   "source": [
    "df_15 = df_result[df_result.slide=='BM-Her2N75-15']\n",
    "df_15.index = [item.split('scene')[1] for item in df_15.index]\n",
    "df_17 = df_result[df_result.slide=='BM-Her2N75-17']\n",
    "df_17.index = [item.split('scene')[1] for item in df_17.index]\n",
    "df_18 = df_result[df_result.slide=='BM-Her2N75-18']\n",
    "df_18.index = [item.split('scene')[1] for item in df_18.index]\n",
    "\n",
    "df1 = df_15.loc[:,df_15.dtypes=='float64']/df_17.loc[:,df_17.dtypes=='float64']\n",
    "df2 = df_17.loc[:,df_17.dtypes=='float64']/df_18.loc[:,df_18.dtypes=='float64']\n",
    "df3 = df_18.loc[:,df_18.dtypes=='float64']/df_15.loc[:,df_15.dtypes=='float64']\n"
   ]
  },
  {
   "cell_type": "code",
   "execution_count": null,
   "metadata": {},
   "outputs": [],
   "source": [
    "df_long = pd.DataFrame()\n",
    "df_long = df_long.append(df1)\n",
    "df_long = df_long.append(df2)\n",
    "df_long = df_long.append(df3)\n",
    "df_long['marker'] = [item.split('_')[1] for item in df_long.index]\n",
    "df_long['core'] = [item.split('_')[0] for item in df_long.index]"
   ]
  },
  {
   "cell_type": "code",
   "execution_count": null,
   "metadata": {},
   "outputs": [],
   "source": [
    "df_long.sort_values('marker',inplace=True)"
   ]
  },
  {
   "cell_type": "code",
   "execution_count": null,
   "metadata": {},
   "outputs": [],
   "source": [
    "#dynamic range\n",
    "matplotlib.rcParams.update({'font.size': 20})\n",
    "s_title = 'Relative Dynamic Range of Adj. Slides'\n",
    "s_ylabel = 'Sec a/b DR'\n",
    "s_figname =f'{codedir}/Figures/Dynamic_Range_mean_Ratio_TMAs_{i_high_quantile}.png'\n",
    "fig, ax = plt.subplots(figsize=(8,4),dpi=200)\n",
    "sns.boxplot(data=df_long, x='marker', y='dynamic_range', palette = 'muted')\n",
    "sns.stripplot(data=df_long, x='marker', y='dynamic_range', palette = 'dark')\n",
    "ax.set_ylabel(s_ylabel)\n",
    "ax.set_ylim(0,4)\n",
    "ax.set_xlabel(\"Marker\")\n",
    "ax.axhline(1,color='black')\n",
    "\n",
    "labels=ax.get_xticklabels()\n",
    "ax.set_xticklabels(labels, rotation=90)\n",
    "ax.set_title(s_title)\n",
    "\n",
    "plt.tight_layout()\n",
    "fig.savefig(s_figname)"
   ]
  },
  {
   "cell_type": "code",
   "execution_count": null,
   "metadata": {},
   "outputs": [],
   "source": [
    "#barplot of mean\n",
    "s_title = 'Quantile SBR of Adj. Slides'\n",
    "s_ylabel = f'Sec a/b Est. SBR\\n 0.05 - {i_high_quantile}'\n",
    "s_figname =f'{codedir}/Figures/Estimated_SBR_mean_Ratio_TMAs_{i_high_quantile}.png'\n",
    "fig, ax = plt.subplots(figsize=(8,4),dpi=200)\n",
    "sns.boxplot(data=df_long, x='marker', y='estimated_SBR', palette = 'muted')\n",
    "sns.stripplot(data=df_long, x='marker', y='estimated_SBR', palette = 'dark')\n",
    "ax.set_ylabel(s_ylabel)\n",
    "ax.set_ylim(0,4)\n",
    "ax.set_xlabel(\"Marker\")\n",
    "ax.axhline(1,color='black')\n",
    "\n",
    "labels=ax.get_xticklabels()\n",
    "ax.set_xticklabels(labels, rotation=90)\n",
    "ax.set_title(s_title)\n",
    "\n",
    "plt.tight_layout()\n",
    "fig.savefig(s_figname)"
   ]
  },
  {
   "cell_type": "markdown",
   "metadata": {},
   "source": [
    "# Percent Positive\n",
    "\n",
    "Thresholds were set on the images, using the pattern of staining to set an intensity value above which pixels were considered positive for a stain.\n",
    "\n",
    "Here, the same theresholds are applied to the single cell mean intensity values. If a cell has a mean intensity above the pixel threshold, it is considered positive. Percent of positive cells over all segmented cells is calculated for each marker."
   ]
  },
  {
   "cell_type": "code",
   "execution_count": null,
   "metadata": {},
   "outputs": [],
   "source": [
    "#calculate positive cells based on thresholding the mean intensity dataframe\n",
    "\n",
    "#empty dataframe\n",
    "df_pos = pd.DataFrame()\n",
    "df_pos_cell = pd.DataFrame(index=df_mi.index)\n",
    "#for each sample\n",
    "for s_index in df_t.index:\n",
    "    s_tissue = df_t.loc[s_index,'slide']\n",
    "    s_marker = df_t.loc[s_index,'marker']\n",
    "    s_scene = df_t.loc[s_index,'scene']\n",
    "    df_m_slide = df_m[(df_m.slide==s_tissue) & (df_m.marker == s_marker)]\n",
    "    if len(df_m_slide) !=1:\n",
    "        print(df_m_slide)\n",
    "    #when the features were extracted we had some exposure normalization ... need to undo\n",
    "    i_thresh = df_t.loc[s_index,'threshold']/(df_m_slide.loc[:,'refexp']/df_m_slide.loc[:,'exposure'])\n",
    "    s_marker_loc = df_mi.columns[pd.Series([item.split('_')[0]==s_marker for item in df_mi.columns])][0]\n",
    "    df_slide = df_mi[(df_mi.slide==s_tissue)& (df_mi.scene==f'scene0{s_scene}')]\n",
    "    df_pos.loc[s_marker,f'{s_tissue}_s{s_scene}'] = ((df_mi[(df_mi.slide==s_tissue)& (df_mi.scene==f'scene0{s_scene}')].loc[:,s_marker_loc] > i_thresh[0]).sum())/len(df_mi[(df_mi.slide==s_tissue)& (df_mi.scene==f'scene0{s_scene}')])\n",
    "    df_pos_cell.loc[df_slide.index,s_marker_loc] = (df_slide.loc[:,s_marker_loc] > i_thresh[0])"
   ]
  },
  {
   "cell_type": "code",
   "execution_count": null,
   "metadata": {},
   "outputs": [],
   "source": [
    "#generate plotting dataframe\n",
    "#percent pos\n",
    "df_percent = pd.DataFrame()\n",
    "df_15 = df_pos.loc[:,df_pos.columns[df_pos.columns.str.contains('N75-15')]]\n",
    "df_15.columns = [item.split('_s')[1] for item in df_15.columns]\n",
    "df_17 = df_pos.loc[:,df_pos.columns[df_pos.columns.str.contains('N75-17')]]\n",
    "df_17.columns = [item.split('_s')[1] for item in df_17.columns]\n",
    "df_18 = df_pos.loc[:,df_pos.columns[df_pos.columns.str.contains('N75-18')]]\n",
    "df_18.columns = [item.split('_s')[1] for item in df_18.columns]\n",
    "\n",
    "df1 = df_15/df_17\n",
    "df2 = df_17/df_18\n",
    "df3 = df_18/df_15\n",
    "\n",
    "df_long = pd.DataFrame()\n",
    "df_longer = pd.DataFrame()\n",
    "df_long = df_long.append(df1)\n",
    "df_long = df_long.append(df2)\n",
    "df_long = df_long.append(df3)\n",
    "for s_marker in df1.index:\n",
    "    se_app = df_long.T.unstack()[s_marker]\n",
    "    se_app.name = 'value'\n",
    "    df_app = pd.DataFrame(se_app)\n",
    "    df_app['marker'] = s_marker\n",
    "    df_longer = df_longer.append(df_app)\n",
    "#stats\n",
    "print(df_long.mean(axis=1).mean())\n",
    "print(df_long.mean(axis=1).std())"
   ]
  },
  {
   "cell_type": "code",
   "execution_count": null,
   "metadata": {},
   "outputs": [],
   "source": [
    "#boxplot\n",
    "s_title = \"Relative % Pos. of Adj. Slides\"\n",
    "s_ylabel = \"Sec. a/b % Pos.\"\n",
    "s_figname =f'{codedir}/Figures/BM-Her2N75/Percent_Positive_JennyReps_boxplot.png'\n",
    "fig, ax = plt.subplots(figsize=(8,4),dpi=200)\n",
    "sns.boxplot(data=df_longer, x='marker', y='value', palette = 'muted')\n",
    "sns.stripplot(data=df_longer, x='marker', y='value', palette = 'dark')\n",
    "ax.set_ylabel(s_ylabel)\n",
    "#ax.set_ylim(0,4.1)\n",
    "ax.set_xlabel(\"Marker\")\n",
    "ax.axhline(1,color='black')\n",
    "\n",
    "labels=ax.get_xticklabels()\n",
    "ax.set_xticklabels(labels, rotation=90)\n",
    "ax.set_title(s_title)\n",
    "\n",
    "plt.tight_layout()\n",
    "fig.savefig(s_figname)"
   ]
  },
  {
   "cell_type": "markdown",
   "metadata": {},
   "source": [
    "# mean intensity \n",
    "\n",
    "The mean intensity of pixels above the threshold"
   ]
  },
  {
   "cell_type": "code",
   "execution_count": null,
   "metadata": {},
   "outputs": [],
   "source": [
    "#mean intensity\n",
    "df_percent = pd.DataFrame()\n",
    "df_15 = ((df_t[df_t.slide=='BM-Her2N75-15']).groupby(['marker','scene']).meanpos.mean())\n",
    "df_17 = ((df_t[df_t.slide=='BM-Her2N75-17']).groupby(['marker','scene']).meanpos.mean())\n",
    "df_18 = ((df_t[df_t.slide=='BM-Her2N75-18']).groupby(['marker','scene']).meanpos.mean())\n",
    "\n",
    "df1 = df_15.unstack()/df_17.unstack()\n",
    "df2 = df_17.unstack()/df_18.unstack()\n",
    "df3 = df_18.unstack()/df_15.unstack()\n",
    "\n",
    "df_long = pd.DataFrame()\n",
    "df_longer = pd.DataFrame()\n",
    "df_long = df_long.append(df1)\n",
    "df_long = df_long.append(df2)\n",
    "df_long = df_long.append(df3)\n",
    "for s_marker in df1.index:\n",
    "    ls_app = df_long.loc[s_marker].unstack().values\n",
    "    df_app = pd.DataFrame(ls_app,columns=['value'])\n",
    "    df_app['marker'] = s_marker\n",
    "    df_longer = df_longer.append(df_app)\n",
    "#stats\n",
    "print(df_long.mean(axis=1).mean())\n",
    "print(df_long.mean(axis=1).std())"
   ]
  },
  {
   "cell_type": "code",
   "execution_count": null,
   "metadata": {},
   "outputs": [],
   "source": [
    "#boxplot\n",
    "\n",
    "s_title = \"Relative Mean Int. of Adj. Slides\"\n",
    "s_ylabel = \"Sec. a/b Mean Int.\"\n",
    "\n",
    "s_figname = f'{codedir}/Figures/BM-Her2N75/Mean_Intensity_Ratio_JennyReps_boxplot.png'\n",
    "\n",
    "fig, ax = plt.subplots(figsize=(8,4),dpi=200)\n",
    "#df_plot = df_percent.sort_values('mean_ratio', ascending=False).loc[:,['mean_ratio','stand_dev']]\n",
    "#df_plot.plot(kind='bar', yerr='stand_dev', ax=ax, title = s_title,legend=False)\n",
    "sns.boxplot(data=df_longer, x='marker', y='value', palette = 'muted')\n",
    "sns.stripplot(data=df_longer, x='marker', y='value', palette = 'dark')\n",
    "ax.set_ylabel(s_ylabel)\n",
    "ax.set_ylim(0,4)\n",
    "ax.set_xlabel(\"Marker\")\n",
    "ax.axhline(1,color='black')\n",
    "\n",
    "labels=ax.get_xticklabels()\n",
    "ax.set_xticklabels(labels, rotation=90)\n",
    "ax.set_title(s_title)\n",
    "\n",
    "\n",
    "plt.tight_layout()\n",
    "fig.savefig(s_figname)"
   ]
  },
  {
   "cell_type": "markdown",
   "metadata": {},
   "source": [
    "# background\n",
    "\n",
    "The mean intensity of pixels below the threshold"
   ]
  },
  {
   "cell_type": "code",
   "execution_count": null,
   "metadata": {},
   "outputs": [],
   "source": [
    "#background\n",
    "\n",
    "#mean intensity\n",
    "df_percent = pd.DataFrame()\n",
    "df_15 = ((df_t[df_t.slide=='BM-Her2N75-15']).groupby(['marker','scene']).meanneg.mean())\n",
    "df_17 = ((df_t[df_t.slide=='BM-Her2N75-17']).groupby(['marker','scene']).meanneg.mean())\n",
    "df_18 = ((df_t[df_t.slide=='BM-Her2N75-18']).groupby(['marker','scene']).meanneg.mean())\n",
    "\n",
    "df1 = df_15.unstack()/df_17.unstack()\n",
    "df2 = df_17.unstack()/df_18.unstack()\n",
    "df3 = df_18.unstack()/df_15.unstack()\n",
    "\n",
    "df_long = pd.DataFrame()\n",
    "df_longer = pd.DataFrame()\n",
    "df_long = df_long.append(df1)\n",
    "df_long = df_long.append(df2)\n",
    "df_long = df_long.append(df3)\n",
    "for s_marker in df1.index:\n",
    "    ls_app = df_long.loc[s_marker].unstack().values\n",
    "    df_app = pd.DataFrame(ls_app,columns=['value'])\n",
    "    df_app['marker'] = s_marker\n",
    "    df_longer = df_longer.append(df_app)\n",
    "#stats\n",
    "print(df_long.mean(axis=1).mean())\n",
    "print(df_long.mean(axis=1).std())"
   ]
  },
  {
   "cell_type": "code",
   "execution_count": null,
   "metadata": {},
   "outputs": [],
   "source": [
    "#yay\n",
    "s_title = \"Relative Background of Adj. Slides\"\n",
    "s_ylabel = \"Sec. a/b BG\"\n",
    "\n",
    "s_figname =f'{codedir}/Figures/BM-Her2N75/Background_Noise_Ratio_JennyReps_boxplot.png'\n",
    "\n",
    "fig, ax = plt.subplots(figsize=(8,4),dpi=200)\n",
    "sns.boxplot(data=df_longer, x='marker', y='value', palette = 'muted')\n",
    "sns.stripplot(data=df_longer, x='marker', y='value', palette = 'dark')\n",
    "ax.set_ylabel(s_ylabel)\n",
    "ax.set_ylim(0,4)\n",
    "ax.set_xlabel(\"Marker\")\n",
    "ax.axhline(1,color='black')\n",
    "\n",
    "labels=ax.get_xticklabels()\n",
    "ax.set_xticklabels(labels, rotation=90)\n",
    "ax.set_title(s_title)\n",
    "\n",
    "\n",
    "plt.tight_layout()\n",
    "fig.savefig(s_figname)"
   ]
  },
  {
   "cell_type": "markdown",
   "metadata": {},
   "source": [
    "# Signal to Background Ratio\n",
    "\n",
    "SBR = mean intensity above threshold/mean intensity below threshold\n",
    "\n",
    "compare SBR of rep1 relative to 2, rep2 to 3 and rep3 to 1\n",
    "\n",
    "three tissues analyzed per TMA (so total n=9)"
   ]
  },
  {
   "cell_type": "code",
   "execution_count": null,
   "metadata": {},
   "outputs": [],
   "source": [
    "df_t['SNR'] = df_t.meanpos/df_t.meanneg"
   ]
  },
  {
   "cell_type": "code",
   "execution_count": null,
   "metadata": {},
   "outputs": [],
   "source": [
    "#generate plotting dataframe\n",
    "df_percent = pd.DataFrame()\n",
    "df_15 = ((df_t[df_t.slide=='BM-Her2N75-15']).groupby(['marker','scene']).SNR.mean())\n",
    "df_17 = ((df_t[df_t.slide=='BM-Her2N75-17']).groupby(['marker','scene']).SNR.mean())\n",
    "df_18 = ((df_t[df_t.slide=='BM-Her2N75-18']).groupby(['marker','scene']).SNR.mean())\n",
    "\n",
    "df1 = df_15.unstack()/df_17.unstack()\n",
    "df2 = df_17.unstack()/df_18.unstack()\n",
    "df3 = df_18.unstack()/df_15.unstack()\n",
    "\n",
    "df_long = pd.DataFrame()\n",
    "df_longer = pd.DataFrame()\n",
    "df_long = df_long.append(df1)\n",
    "df_long = df_long.append(df2)\n",
    "df_long = df_long.append(df3)\n",
    "for s_marker in df1.index:\n",
    "    ls_app = df_long.loc[s_marker].unstack().values\n",
    "    df_app = pd.DataFrame(ls_app,columns=['value'])\n",
    "    df_app['marker'] = s_marker\n",
    "    df_longer = df_longer.append(df_app)\n",
    "#stats\n",
    "print(df_long.mean(axis=1).mean())\n",
    "print(df_long.mean(axis=1).std())"
   ]
  },
  {
   "cell_type": "code",
   "execution_count": null,
   "metadata": {},
   "outputs": [],
   "source": [
    "\n",
    "s_title = \"Manual SBR of Adj. Slides\"\n",
    "s_ylabel = \"Sec. a/b SBR\"\n",
    "\n",
    "s_figname =f'{codedir}/Figures/BM-Her2N75/SNR_Ratio_JennyReps__boxplot.png'\n",
    "fig, ax = plt.subplots(figsize=(8,4),dpi=200)\n",
    "#df_plot = df_percent.sort_values('mean_ratio', ascending=False).loc[:,['mean_ratio','stand_dev']]\n",
    "#df_plot.plot(kind='bar', yerr='stand_dev', ax=ax, title = s_title,legend=False)\n",
    "sns.boxplot(data=df_longer, x='marker', y='value', palette = 'muted')\n",
    "sns.stripplot(data=df_longer, x='marker', y='value', palette = 'dark')\n",
    "ax.set_ylabel(s_ylabel)\n",
    "ax.set_ylim(0,4)\n",
    "ax.set_xlabel(\"Marker\")\n",
    "ax.axhline(1,color='black')\n",
    "\n",
    "labels=ax.get_xticklabels()\n",
    "ax.set_xticklabels(labels, rotation=90)\n",
    "ax.set_title(s_title)\n",
    "\n",
    "\n",
    "plt.tight_layout()\n",
    "fig.savefig(s_figname)"
   ]
  },
  {
   "cell_type": "code",
   "execution_count": null,
   "metadata": {},
   "outputs": [],
   "source": [
    "#zoomed in plot\n",
    "s_title = \"Relative SBR of Adj. Slides\"\n",
    "s_ylabel = \"Sec. a/b SBR\"\n",
    "\n",
    "s_figname =f'{codedir}/Figures/BM-Her2N75/SNR_Ratio_JennyReps_zoomed_boxplot.png'\n",
    "fig, ax = plt.subplots(figsize=(8,4),dpi=200)\n",
    "#df_plot = df_percent.sort_values('mean_ratio', ascending=False).loc[:,['mean_ratio','stand_dev']]\n",
    "#df_plot.plot(kind='bar', yerr='stand_dev', ax=ax, title = s_title,legend=False)\n",
    "sns.boxplot(data=df_longer, x='marker', y='value', palette = 'muted')\n",
    "sns.stripplot(data=df_longer, x='marker', y='value', palette = 'dark')\n",
    "ax.set_ylabel(s_ylabel)\n",
    "#ax.set_ylim(0,4)\n",
    "ax.set_xlabel(\"Marker\")\n",
    "ax.axhline(1,color='black')\n",
    "\n",
    "labels=ax.get_xticklabels()\n",
    "ax.set_xticklabels(labels, rotation=90)\n",
    "ax.set_title(s_title)\n",
    "\n",
    "\n",
    "plt.tight_layout()\n",
    "fig.savefig(s_figname)"
   ]
  },
  {
   "cell_type": "markdown",
   "metadata": {},
   "source": [
    "# Compare SBR btwn tissue\n",
    "\n",
    "SBR = mean intensity above threshold/mean intensity below threshold\n",
    "\n",
    "compare SBR of tissue 1 relative to 2, tissue2 to 3 and tissue3 to 1\n",
    "\n",
    "(total n=9)"
   ]
  },
  {
   "cell_type": "code",
   "execution_count": null,
   "metadata": {},
   "outputs": [],
   "source": [
    "#gereate plotting dataframe\n",
    "df_percent = pd.DataFrame()\n",
    "df_15 = ((df_t[df_t.scene=='17']).groupby(['marker','slide']).SNR.mean()) #15 = 17\n",
    "df_17 = ((df_t[df_t.scene=='49']).groupby(['marker','slide']).SNR.mean()) # 17 = 49\n",
    "df_18 = ((df_t[df_t.scene=='59']).groupby(['marker','slide']).SNR.mean()) # 18 = 59\n",
    "\n",
    "df1 = df_15.unstack()/df_17.unstack()\n",
    "df2 = df_17.unstack()/df_18.unstack()\n",
    "df3 = df_18.unstack()/df_15.unstack()\n",
    "\n",
    "df_long = pd.DataFrame()\n",
    "df_longer = pd.DataFrame()\n",
    "df_long = df_long.append(df1)\n",
    "df_long = df_long.append(df2)\n",
    "df_long = df_long.append(df3)\n",
    "for s_marker in df1.index:\n",
    "    ls_app = df_long.loc[s_marker].unstack().values\n",
    "    df_app = pd.DataFrame(ls_app,columns=['value'])\n",
    "    df_app['marker'] = s_marker\n",
    "    df_longer = df_longer.append(df_app)\n",
    "#stats\n",
    "print(df_long.mean(axis=1).mean())\n",
    "print(df_long.mean(axis=1).std())"
   ]
  },
  {
   "cell_type": "code",
   "execution_count": null,
   "metadata": {},
   "outputs": [],
   "source": [
    "s_title = \"Relative SBR of Tissues on Same Slide\"\n",
    "s_ylabel = \"Tiss. a/b SBR\"\n",
    "s_figname =f'{codedir}/Figures/BM-Her2N75/Tissue_SNR_Ratio_JennyReps_boxplot.png'\n",
    "fig, ax = plt.subplots(figsize=(8,4),dpi=200)\n",
    "sns.boxplot(data=df_longer, x='marker', y='value', palette = 'muted')\n",
    "sns.stripplot(data=df_longer, x='marker', y='value', palette = 'dark')\n",
    "ax.set_ylabel(s_ylabel)\n",
    "ax.set_ylim(0,4)\n",
    "ax.set_xlabel(\"Marker\")\n",
    "ax.axhline(1,color='black')\n",
    "\n",
    "labels=ax.get_xticklabels()\n",
    "ax.set_xticklabels(labels, rotation=90)\n",
    "ax.set_title(s_title)\n",
    "plt.tight_layout()\n",
    "fig.savefig(s_figname)\n"
   ]
  },
  {
   "cell_type": "code",
   "execution_count": null,
   "metadata": {},
   "outputs": [],
   "source": []
  }
 ],
 "metadata": {
  "kernelspec": {
   "display_name": "Python3.9.5",
   "language": "python",
   "name": "python3.9.5"
  },
  "language_info": {
   "codemirror_mode": {
    "name": "ipython",
    "version": 3
   },
   "file_extension": ".py",
   "mimetype": "text/x-python",
   "name": "python",
   "nbconvert_exporter": "python",
   "pygments_lexer": "ipython3",
   "version": "3.9.5"
  }
 },
 "nbformat": 4,
 "nbformat_minor": 2
}
