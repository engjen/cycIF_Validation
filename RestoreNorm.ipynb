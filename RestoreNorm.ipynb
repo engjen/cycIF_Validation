{
 "cells": [
  {
   "cell_type": "markdown",
   "metadata": {},
   "source": [
    "# Testing the RESTORE algorithm\n",
    "\n",
    "I ran the RESTORE algorithm on my replicate data to see how well it normalized. \n",
    "\n",
    "The conclusion: the batch effects after RESTORE normalization were the same as before normalization.\n",
    "\n",
    "### Adapted From Single-cell analysis hands-on session\n",
    "Erik Burlingame, Chang Lab, OHSU, 2020-12-2\n",
    "\n",
    "\n",
    "Note: This notebook requires a special python environment and the RESTORE code\n",
    "\n",
    "*please see:*\n",
    "https://gitlab.com/eburling/SCA"
   ]
  },
  {
   "cell_type": "code",
   "execution_count": null,
   "metadata": {},
   "outputs": [],
   "source": [
    "import sklearn\n",
    "import os\n",
    "import pandas as pd # dataframe operations\n",
    "import seaborn as sns # clustergram viz\n",
    "import numpy as np # array operations\n",
    "import holoviews as hv # viz\n",
    "import datashader as ds # viz for large data\n",
    "from sklearn.preprocessing import minmax_scale # data scaling\n",
    "from holoviews.operation.datashader import datashade # viz for large data\n",
    "from colorcet import fire, glasbey_hv # perceptually accurate colormaps\n",
    "hv.extension('bokeh') # specify which library for plotting, e.g. 'bokeh' or 'matplotlib'\n",
    "import matplotlib.pyplot as plt"
   ]
  },
  {
   "cell_type": "code",
   "execution_count": null,
   "metadata": {},
   "outputs": [],
   "source": [
    "#os.chdir('../Collaborators')\n",
    "import RESTORE # normalization code, clone Erik's repository https://gitlab.com/eburling/SCA\n",
    "#also follow his instructions for building the rapids environment"
   ]
  },
  {
   "cell_type": "code",
   "execution_count": null,
   "metadata": {},
   "outputs": [],
   "source": [
    "#load data\n",
    "#os.chdir('/home/groups/graylab_share/OMERO.rdsStore/engje/Data/cycIF_ValidationStudies/cycIF_Validation')\n",
    "codedir=os.getcwd()\n",
    "rootdir = f'{codedir}/Data/'\n",
    "datadir = f'{codedir}/Data/filtered_data'\n",
    "os.chdir(datadir)\n",
    "s_type = \"BM-Her2\"#'JE-TMA' \n",
    "\n",
    "if s_type == 'sampled':\n",
    "    s_date = '20201209'\n",
    "    s_trans = 'raw'\n",
    "    df=pd.read_csv(f'{s_date}_JE-TMA-41-43-62_SampledMeanIntensity_{s_trans}.csv',index_col=0)\n",
    "    #df=pd.read_csv(f'{s_date}_BM-Her2N75_SampledMeanIntensity_{s_trans}.csv',index_col=0) # for Biomax TMA\n",
    "#or load full data\n",
    "if s_type == \"JE-TMA\":\n",
    "    df=pd.read_csv(f'20201210_JE-TMA-41-43-62_FilteredMeanIntensity.csv',index_col=0)\n",
    "if s_type == \"BM-Her2\":\n",
    "    df=pd.read_csv(f'20201229_BM-Her2N75-15-17-18_MeanIntensity.csv',index_col=0)\n",
    "df['batch'] = [item.split('_')[0] for item in df.index]\n"
   ]
  },
  {
   "cell_type": "code",
   "execution_count": null,
   "metadata": {},
   "outputs": [],
   "source": [
    "df.head()"
   ]
  },
  {
   "cell_type": "code",
   "execution_count": null,
   "metadata": {},
   "outputs": [],
   "source": [
    "raw_marker_mask = df.dtypes=='float64'\n",
    "raw_marker_cols = df.columns[raw_marker_mask]\n",
    "df['scene'] = [item.split('_cell')[0] for item in df.index]"
   ]
  },
  {
   "cell_type": "markdown",
   "metadata": {},
   "source": [
    "# local thresholds"
   ]
  },
  {
   "cell_type": "code",
   "execution_count": null,
   "metadata": {},
   "outputs": [],
   "source": [
    "#scene by scene (i.e. local thresholds)\n",
    "i_thresh = 0.5 #0.66\n",
    "i_low = 0.5\n",
    "d_result = {}\n",
    "d_result_good = {}\n",
    "figs = []\n",
    "for QUERY_MARKER in raw_marker_cols:\n",
    "    for QUERY_SCENE in sorted(set(df.scene)):\n",
    "        tissue_mask = (df.scene==QUERY_SCENE)\n",
    "        query_df = df.loc[tissue_mask,raw_marker_cols]\n",
    "        r_vals = []\n",
    "        good_r_vals = []\n",
    "\n",
    "        for marker in query_df:\n",
    "            if marker != QUERY_MARKER:\n",
    "                X = query_df[[QUERY_MARKER, marker]].T\n",
    "                svd =sklearn.decomposition.TruncatedSVD(n_components=2)\n",
    "                svd.fit(X)\n",
    "                r = svd.singular_values_[1] / svd.singular_values_[0]\n",
    "                if r > 0.66:\n",
    "                    fig = datashade(hv.Scatter(X.T, QUERY_MARKER, [marker]),\n",
    "                        cmap=fire,\n",
    "                        normalization='log')\n",
    "                    figs.append(fig)\n",
    "                if r > i_low:\n",
    "                    r_vals.append((marker, r))\n",
    "                if r > i_thresh:\n",
    "                    good_r_vals.append((marker, r))\n",
    "        d_result_good.update({f'{QUERY_MARKER}_{QUERY_SCENE}':(good_r_vals)})\n",
    "        d_result.update({f'{QUERY_MARKER}_{QUERY_SCENE}':(r_vals)})"
   ]
  },
  {
   "cell_type": "code",
   "execution_count": null,
   "metadata": {},
   "outputs": [],
   "source": [
    "total = 0\n",
    "for key, item in d_result.items():\n",
    "    if len(item) ==0:\n",
    "        total +=1\n",
    "        print(key)"
   ]
  },
  {
   "cell_type": "code",
   "execution_count": null,
   "metadata": {},
   "outputs": [],
   "source": [
    "#manually add mutually exclusive - sacrifice DAPI and CK17 for JE-TMA\n",
    "if s_type == \"JE-TMA\":\n",
    "    d_result_good['HER2_cellmem25_JE-TMA-62_scene09'] = [('Ki67_nuclei', 0.5725681893270853)] \n",
    "    d_result_good['aSMA_perinuc5_JE-TMA-43_scene05'] = [('CD31_perinuc5', 0.8094300105819111)]\n",
    "    d_result_good['aSMA_perinuc5_JE-TMA-43_scene12'] = [('CK7_cytoplasm', 0.6378682711189212)]\n",
    "    d_result_good['Ki67_nuclei_JE-TMA-41_scene13'] = [('PCNA_nuclei', 0.46020656345741257)]\n",
    "if s_type == \"BM-Her2\":\n",
    "    d_result_good['CK14_Ring_BM-Her2N75-17_scene017'] = [('CD68_Ring', 0.6527263360741544)]\n",
    "    d_result_good['CK14_Ring_BM-Her2N75-17_scene049'] = [('CD68_Ring', 0.6527263360741544)]\n",
    "    d_result_good['CK5_Ring_BM-Her2N75-17_scene017'] = [('CD68_Ring', 0.6527263360741544)]"
   ]
  },
  {
   "cell_type": "code",
   "execution_count": null,
   "metadata": {},
   "outputs": [],
   "source": [
    "#JE TMA results\n",
    "# at r val cut off of 0.5, 44% of scenes had no mutually exclusive partners\n",
    "425/950\n",
    "# at r val cut off if 0.3, 7% had no mututally exclusive partners\n",
    "68/950\n",
    "# at r val cut off if 0.2, 1% had no mututally exclusive partners\n",
    "10/950"
   ]
  },
  {
   "cell_type": "code",
   "execution_count": null,
   "metadata": {},
   "outputs": [],
   "source": [
    "# BM-Her2 results\n",
    "# at r val cut off if 0.3, 1.6% had no mututally exclusive partners\n",
    "3/180\n",
    "# at r val cut off of 0.5, 23% of scenes had no mutually exclusive partners\n",
    "total/180"
   ]
  },
  {
   "cell_type": "code",
   "execution_count": null,
   "metadata": {},
   "outputs": [],
   "source": [
    "# plot r vals\n",
    "'''\n",
    "r_box = hv.BoxWhisker(r_vals,'neg_marker','r_val').opts(title=QUERY_MARKER,\n",
    "                                    xrotation=45,\n",
    "                                    width=800,\n",
    "                                    toolbar=None).sort('r_val')\n",
    "r_box\n",
    "'''"
   ]
  },
  {
   "cell_type": "code",
   "execution_count": null,
   "metadata": {},
   "outputs": [],
   "source": [
    "#bi_scatters = hv.Layout(figs).cols(3)\n",
    "#bi_scatters"
   ]
  },
  {
   "cell_type": "code",
   "execution_count": null,
   "metadata": {},
   "outputs": [],
   "source": [
    "#select top r vals\n",
    "d_result_r = {}\n",
    "for QUERY_MARKER in raw_marker_cols:\n",
    "    for QUERY_SCENE in sorted(set(df.scene)):\n",
    "        good_r_vals = d_result_good[f'{QUERY_MARKER}_{QUERY_SCENE}']\n",
    "        r_vals = d_result[f'{QUERY_MARKER}_{QUERY_SCENE}']\n",
    "        es_marker = [item[0] for item in good_r_vals]\n",
    "        es_marker_low = [item[0] for item in r_vals]\n",
    "        if len(es_marker) == 0:\n",
    "            d_result_r.update({f'{QUERY_MARKER}_{QUERY_SCENE}':es_marker_low})\n",
    "        else:\n",
    "            d_result_r.update({f'{QUERY_MARKER}_{QUERY_SCENE}':es_marker})"
   ]
  },
  {
   "cell_type": "code",
   "execution_count": null,
   "metadata": {},
   "outputs": [],
   "source": [
    "#find median threshold of r vals above 0.5, or 0.2 if none above 0.5\n",
    "df_result = pd.DataFrame(index=raw_marker_cols,columns=sorted(set(df.scene)))\n",
    "for key, items in d_result_r.items():\n",
    "    if s_type == \"JE-TMA\":\n",
    "        QUERY_MARKER = key.split('_JE')[0]\n",
    "        QUERY_SCENE = 'JE' + key.split('_JE')[1]\n",
    "    elif s_type == \"BM-Her2\":\n",
    "        QUERY_MARKER = key.split('_BM')[0]\n",
    "        QUERY_SCENE = 'BM' + key.split('_BM')[1]\n",
    "    tissue_mask = (df.scene==QUERY_SCENE)\n",
    "    query_df = df.loc[tissue_mask,raw_marker_cols]\n",
    "    a_norm = np.array([])\n",
    "    for BG_MARKER in items:\n",
    "        X = RESTORE.process_data(query_df[[QUERY_MARKER, BG_MARKER]], \n",
    "                        QUERY_MARKER, BG_MARKER)\n",
    "        if len(X) > 2:\n",
    "            norm_factor, clusters = RESTORE.get_ssc_thresh(X)\n",
    "            a_norm = np.append(a_norm,norm_factor)\n",
    "    df_result.loc[QUERY_MARKER,QUERY_SCENE] = np.median(a_norm)\n",
    "    #break"
   ]
  },
  {
   "cell_type": "code",
   "execution_count": null,
   "metadata": {},
   "outputs": [],
   "source": [
    "df_result"
   ]
  },
  {
   "cell_type": "code",
   "execution_count": null,
   "metadata": {},
   "outputs": [],
   "source": [
    "# for JE-TMA half (48%) of the markers did not have sufficient mutual exclusive relationship\n",
    "# for BM-HER2 all markers had partners!\n",
    "len(df_result.dropna())/len(df_result)\n",
    "s_type"
   ]
  },
  {
   "cell_type": "code",
   "execution_count": null,
   "metadata": {},
   "outputs": [],
   "source": [
    "#save restore normalization factors\n",
    "if s_type == \"JE-TMA\":\n",
    "    if not os.path.exists('20201229_JE-TMA-41-43-62_restore_local_normfactor.csv'):\n",
    "        df_result.to_csv('20201229_JE-TMA-41-43-62_restore_local_normfactor.csv')\n",
    "elif s_type == \"BM-Her2\":\n",
    "    if not os.path.exists('20201229_BM-Her2N75-15-17-18_restore_local_normfactor.csv'):\n",
    "        df_result.to_csv('20201229_BM-Her2N75-15-17-18_restore_local_normfactor.csv')"
   ]
  },
  {
   "cell_type": "code",
   "execution_count": null,
   "metadata": {},
   "outputs": [],
   "source": [
    "#load saved normalization factors\n",
    "if s_type == \"JE-TMA\":\n",
    "    df_result = pd.read_csv('20201229_JE-TMA-41-43-62_restore_local_normfactor.csv',index_col=0)\n",
    "elif s_type == \"BM-Her2\":\n",
    "    df_result = pd.read_csv('20201229_BM-Her2N75-15-17-18_restore_local_normfactor.csv',index_col=0)\n",
    "# apply normalization: division\n",
    "df_norm = pd.DataFrame(index=df.index)\n",
    "for QUERY_MARKER in df_result.dropna().index.tolist():\n",
    "    for QUERY_SCENE in sorted(set(df.scene)):\n",
    "        ls_index = df[df.scene==QUERY_SCENE].index\n",
    "        i_min = df.loc[ls_index,QUERY_MARKER].min()\n",
    "        i_thresh = df_result.loc[QUERY_MARKER,QUERY_SCENE]\n",
    "        df_norm.loc[ls_index,QUERY_MARKER] = (df.loc[ls_index,QUERY_MARKER] - i_min)/(i_thresh - i_min)"
   ]
  },
  {
   "cell_type": "code",
   "execution_count": null,
   "metadata": {},
   "outputs": [],
   "source": [
    "df_norm['batch'] = [item.split('_')[0] for item in df_norm.index]"
   ]
  },
  {
   "cell_type": "code",
   "execution_count": null,
   "metadata": {},
   "outputs": [],
   "source": [
    "#save the 3 normalized, sampled dataframes for kbet analysis\n",
    "s_trans ='raw'\n",
    "s_date = '20201207'\n",
    "if s_type == \"JE-TMA\":\n",
    "    df_sample=pd.read_csv(f'{s_date}_JE-TMA-41-43-62_SampledMeanIntensity_{s_trans}.csv',index_col=0)\n",
    "elif s_type == \"BM-Her2\":\n",
    "    df_sample=pd.read_csv(f'{s_date}_BM-Her2N75_SampledMeanIntensity_{s_trans}.csv',index_col=0) # for Biomax TMA\n",
    "#save for kbet\n",
    "if s_type == \"JE-TMA\":\n",
    "    df_norm.loc[df_sample.index,:].to_csv(f'{s_date}_JE-TMA-41-43-62_SampledMeanIntensity_restore_local.csv')\n",
    "elif s_type == \"BM-Her2\":\n",
    "    df_norm.loc[df_sample[~df_sample.index.str.contains('cell0000')].index,:].to_csv(f'{s_date}_BM-Her2N75_SampledMeanIntensity_restore_local.csv')"
   ]
  },
  {
   "cell_type": "code",
   "execution_count": null,
   "metadata": {},
   "outputs": [],
   "source": [
    "\n",
    "#plot histograms\n",
    "#save\n",
    "df_norm['batch'] = [item.split('_')[0] for item in df_norm.index]\n",
    "#plot \n",
    "%matplotlib inline\n",
    "s_trans = 'local'\n",
    "s_date = s_type\n",
    "bins=50\n",
    "for s_marker in df_result.dropna().index.tolist():\n",
    "    print(s_marker)\n",
    "    fig,ax=plt.subplots(2,1,figsize = (5,5))\n",
    "    for idxs, s_batch in enumerate(sorted(set(df_norm.batch))):\n",
    "        df_batch = df_norm[(df_norm.batch==s_batch)].loc[:,s_marker] + 1 #set minimum to 1\n",
    "        if len(df_batch.dropna()) == 0:\n",
    "            continue\n",
    "        ax[1].hist(df_batch,bins=bins,alpha=0.4, color=f'C{idxs}',label=s_batch)\n",
    "        ax[0].hist(df.loc[df.index.str.contains(s_batch),s_marker],bins=bins,alpha=0.4, color=f'C{idxs}',label=s_batch)\n",
    "        ax[0].set_yscale('log')\n",
    "        ax[1].set_yscale('log')\n",
    "        ax[0].set_title(f'{s_marker.split(\"_\")[0]}: Raw Data')\n",
    "        ax[1].set_title(f'{s_marker.split(\"_\")[0]}: Restore {s_trans}')\n",
    "        ax[0].legend()\n",
    "    plt.tight_layout()\n",
    "    fig.savefig(f'{rootdir}/20201228/Different_Scaling_restore_{s_marker}_{s_trans}_{s_date}.png')\n"
   ]
  },
  {
   "cell_type": "code",
   "execution_count": null,
   "metadata": {},
   "outputs": [],
   "source": []
  }
 ],
 "metadata": {
  "kernelspec": {
   "display_name": "python3.9.5",
   "language": "python",
   "name": "base"
  },
  "language_info": {
   "codemirror_mode": {
    "name": "ipython",
    "version": 3
   },
   "file_extension": ".py",
   "mimetype": "text/x-python",
   "name": "python",
   "nbconvert_exporter": "python",
   "pygments_lexer": "ipython3",
   "version": "3.9.5"
  }
 },
 "nbformat": 4,
 "nbformat_minor": 4
}
