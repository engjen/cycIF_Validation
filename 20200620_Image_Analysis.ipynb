{
 "cells": [
  {
   "cell_type": "markdown",
   "metadata": {},
   "source": [
    "# Full Image Analysis Pipeline\n",
    "\n",
    "Our open-source python library `mplex-image` enables automation and scaling while documenting the steps of multiplex image processing and analysis. This notebook can be used to reproduce our Figure 3 analysis of tissue micorarrays - including metadata extraction from microscopy files, image registration, autofluorescence subtraction, cell segmentation and feature extraction, normalization and clustering to identify tumor cell types.\n",
    "\n",
    "Currently, we have implemented pipelines for [cycIF](https://gitlab.com/engje/cmif/-/blob/master/mplex_image/cmif.py), [Codex](https://gitlab.com/engje/cmif/-/blob/master/mplex_image/codex.py) and [Macsima (beta)](https://gitlab.com/engje/cmif/-/blob/master/mplex_image/mics.py) multiplex imaging platforms. This is an example of the cycIF pipeline."
   ]
  },
  {
   "cell_type": "code",
   "execution_count": 4,
   "metadata": {},
   "outputs": [],
   "source": [
    "# Import libraries\n",
    "from mplex_image import preprocess, mpimage, cmif, process"
   ]
  },
  {
   "cell_type": "markdown",
   "metadata": {},
   "source": [
    "# 1 Set paths\n",
    "\n",
    "Specify full file path to directories containing code and images (.czi and .tiff). Then, specify a list of slide to be processed `ls_sample`"
   ]
  },
  {
   "cell_type": "code",
   "execution_count": 6,
   "metadata": {},
   "outputs": [],
   "source": [
    "# Set Paths\n",
    "codedir = '/home/groups/graylab_share/OMERO.rdsStore/engje/Data/cycIF_ValidationStudies/cycIF_Validation'\n",
    "czidir = f'{codedir}/Images/PipelineExample/czi'\n",
    "tiffdir = f'{codedir}/Images/PipelineExample/PipelineExample/RawImages'\n",
    "qcdir = f'{codedir}/Images/PipelineExample/QC'\n",
    "regdir = f'{codedir}/Images/PipelineExample/RegisteredImages'\n",
    "subdir = f'{codedir}/Images/PipelineExample/SubtractedRegisteredImages'\n",
    "segdir = f'{codedir}/Images/PipelineExample/Segmentation'\n",
    "\n",
    "preprocess.cmif_mkdir([tiffdir,qcdir,regdir,segdir,subdir])\n",
    "\n",
    "# List slides to be processed\n",
    "ls_sample = ['JE-TMA-41','JE-TMA-42', 'JE-TMA-43']"
   ]
  },
  {
   "cell_type": "markdown",
   "metadata": {},
   "source": [
    "# 2   Export exposure time metadata from .czi\n",
    "The Zeiss Axioscan full slide scanner outputs Carl Zeiss Images (.czi). These and other proprietary file formats may be opened with the [python-bioformats](https://pypi.org/project/python-bioformats/) package. Metadata, such as exposure time, is read from the image file rather than manually recored (which is tedious and error prone). Each subfolder within the directory `czidir` contains all .czi files from the entire cycIF expeiment for a single slide.\n",
    "\n",
    "**Note:** Due to large size of czi images, these are hosted on synapse.org"
   ]
  },
  {
   "cell_type": "code",
   "execution_count": null,
   "metadata": {},
   "outputs": [],
   "source": [
    "for s_sample in ls_sample:\n",
    "    #parse file names\n",
    "    df_img = cmif.parse_czi(f'{czidir}/{s_sample}',b_scenes=True)\n",
    "    #scenes\n",
    "    cmif.exposure_times_scenes(df_img, codedir, czidir=f'{czidir}/{s_sample}', s_end='.czi')"
   ]
  },
  {
   "cell_type": "markdown",
   "metadata": {},
   "source": [
    "# 3 QC Raw Images\n",
    "Export all raw tiffs as 16 bit original images using the microscope software. Put in separate folders,\n",
    "one per slide, within RawImages folder inside of `codedir`. This section will then generate overviews of all rounds, for QC purposes."
   ]
  },
  {
   "cell_type": "code",
   "execution_count": null,
   "metadata": {},
   "outputs": [],
   "source": [
    "preprocess.cmif_mkdir([f'{qcdir}/RawImages'])\n",
    "\n",
    "for s_sample in ls_sample:\n",
    "    os.chdir(f'{tiffdir}/{s_sample}')\n",
    "    #investigate tissues\n",
    "    df_img = mpimage.parse_org(s_end = \"ORG.tif\",type='raw')\n",
    "    cmif.visualize_raw_images(df_img,qcdir,color='c1')\n"
   ]
  },
  {
   "cell_type": "markdown",
   "metadata": {},
   "source": [
    "# 4 Register Images\n",
    "This section creates a Matlab script for registration and starts a job on our server (OHSU exacloud).\n",
    "During registration, we have the funtionality to crop the tissue by entering the `new_scene_id : '[upperleftXcoord upperleftYcoord width height]'` as a key : value pair in the `d_register` dictionary of dictionaries. Leaving the dictionary blank will start registration without cropping. Each registered scene goes to a separate folder."
   ]
  },
  {
   "cell_type": "code",
   "execution_count": null,
   "metadata": {},
   "outputs": [],
   "source": [
    "d_register = {'JE-TMA-41':{}, #TMA registration\n",
    "    'JE-TMA-42':{},\n",
    "    'JE-TMA-43':{},\n",
    "    #Example of tissue registration with cropping\n",
    "    'NP029':{1:'[0 2000 15000 18000]',2:'[15000 14000 15000 6000]'}, #large registration\n",
    " }\n",
    "ls_order = ['R1','R0','R2','R3','R4','R5','R5Q','R6','R7','R8','R9','R10','R11','R12','R12Q'] \n",
    "\n",
    "for key,item in d_register.items():\n",
    "   #run registration\n",
    "   cmif.run_registration_matlab(d_register, ls_order, f'{tiffdir}/{key}', f'{regdir}/')\n"
   ]
  },
  {
   "cell_type": "markdown",
   "metadata": {},
   "source": [
    "# 5   Check Registration\n",
    "\n",
    "This section will then generate overviews of all rounds of each registered image stack, for QC purposes.\n"
   ]
  },
  {
   "cell_type": "code",
   "execution_count": null,
   "metadata": {},
   "outputs": [],
   "source": [
    "cmif.visualize_reg_images(f'{regdir}',qcdir,color='c1')"
   ]
  },
  {
   "cell_type": "markdown",
   "metadata": {},
   "source": [
    "# 6a  Create AF Subtracted Images\n",
    "\n",
    "Images acquired of background autofluorescence by are scaled by exposure time and subtracted from the respective channel, producing a new image. `d_channel` specifies the name of the background marker to subtract from each channel. `ls_exclude` lists which markers upon which to not perform any AF subtraction (typically c5 images).\n",
    "\n",
    "Images are output to an AFSubtracted folder within each registered scene's  **separate folder**. The scenes are subsequently combined into a single folder in **6b**."
   ]
  },
  {
   "cell_type": "code",
   "execution_count": null,
   "metadata": {},
   "outputs": [],
   "source": [
    "#parameters\n",
    "d_channel = {'c2':'R5Qc2','c3':'R5Qc3','c4':'R5Qc4','c5':'R5Qc5'}\n",
    "ls_exclude=['DAPI','BMP2', 'CD20', 'CD3', 'CD44', 'CD45', 'CK19',\n",
    " 'ColI', 'Ecad', 'FoxP3', 'GRNZB', 'LamAC', 'PgR', 'R0c5', 'R12Qc5',]\n",
    "\n",
    "#subtract\n",
    "df_img, df_exp,df_markers,df_copy = cmif.autofluorescence_subtract(regdir,codedir,d_channel,ls_exclude)\n"
   ]
  },
  {
   "cell_type": "markdown",
   "metadata": {},
   "source": [
    "##  6b  Move AF Subtracted Images\n",
    "\n",
    "Move all scenes from the same slide to **one folder**, for segmentation.\n"
   ]
  },
  {
   "cell_type": "code",
   "execution_count": null,
   "metadata": {},
   "outputs": [],
   "source": [
    "for s_sample in ls_sample:\n",
    "    cmif.move_af_img(s_sample, regdir, subdir, dirtype='tma',b_move=True)"
   ]
  },
  {
   "cell_type": "markdown",
   "metadata": {},
   "source": [
    "##  7   Prep for Segmentation\n",
    "\n",
    "First, rename filenames that use non-standard marker names.\n",
    "\n",
    "Then, all inputs are for segmentation are automatically generated, including copying any additional images needed (e.g. DAPI channels), verifying segmentation thresholds, and preparing input files for segmentation (i.e. RoundCyclesTable.txt and Cluster.java specifically for Guillaume Thibault’s segmentation software).\n",
    "\n",
    "**Note:** For the analysis presented in our paper, we used a Java-based software for cell segmentation and feature extraction. However, we have implemented the open-source segmentation algorithm [Cellpose](https://gitlab.com/engje/cmif/-/blob/master/mplex_image/segment.py) on our cycIF data as a python-based alternative."
   ]
  },
  {
   "cell_type": "code",
   "execution_count": null,
   "metadata": {},
   "outputs": [],
   "source": [
    "#parameters\n",
    "d_rename = {}\n",
    "dapi_copy={'-R12_':112}\n",
    "marker_copy ={} #'CK19':['CK5','CK7'],'CD44':['CD45']\n",
    "d_segment = {'CK19':1002,'CK5':1002,'CD45':2002,'Ecad':1302,'CD44':3002,'CK7':1002,'CK14':1002}\n",
    "\n",
    "cmif.rename_files(d_rename,dir=subdir,b_test=True)\n",
    "cmif.copy_files(dir=subdir,dapi_copy=dapi_copy, marker_copy=marker_copy,b_test=False)\n",
    "cmif.segmentation_thresholds(subdir,qcdir, d_segment)\n",
    "cmif.segmentation_inputs(subdir,segdir,d_segment,tma_bool=False,b_start=False, i_counter=5)"
   ]
  },
  {
   "cell_type": "markdown",
   "metadata": {},
   "source": [
    "##  8  Get Dataframe\n",
    "\n",
    "After segmentation with Guillaume's software, the output is separate feature files for each marker. Here we extract all markers' features from the separate .txt files into single .tsv's; one for the single cell fluorescence intensity (MeanIntensity.tsv) and others for the cell locations (CentroidX.tsv, CentroidY.tsv).\n"
   ]
  },
  {
   "cell_type": "code",
   "execution_count": null,
   "metadata": {},
   "outputs": [],
   "source": [
    "for s_sample in ls_sample:\n",
    "    cmif.extract_dataframe(s_sample, segdir,qcdir)"
   ]
  },
  {
   "cell_type": "markdown",
   "metadata": {},
   "source": [
    "## 9  Filter Data\n",
    "\n",
    "Post-processing includes filtering out lost cells based on last round DAPI staining and selection of dataframe columns based on desired biomarker sub-cellular location (we have standardized marker names and subcellular locations for our panel)."
   ]
  },
  {
   "cell_type": "code",
   "execution_count": null,
   "metadata": {},
   "outputs": [],
   "source": [
    "#parameters\n",
    "s_dapi = 'DAPI12_Nuclei'\n",
    "dapi_thresh = 1000\n",
    "d_channel = {}\n",
    "ls_exclude=[]\n",
    "\n",
    "for s_sample in ls_sample:\n",
    "    cmif.prepare_dataframe(s_sample,s_dapi,dapi_thresh,d_channel,ls_exclude,segdir, codedir)"
   ]
  },
  {
   "cell_type": "markdown",
   "metadata": {},
   "source": [
    "# 10 Normalization \n",
    "[Next notebook](https://github.com/engjen/cycIF_Validation/blob/master/Fig3_Normalize_JE-TMA-reps_cluster_analysis.ipynb) demonstrates how to normalize by background and apply kmeans clustering for cell type definition. \n",
    "\n"
   ]
  }
 ],
 "metadata": {
  "kernelspec": {
   "display_name": "Python 3.x.y",
   "language": "python",
   "name": "python3.x.y"
  },
  "language_info": {
   "codemirror_mode": {
    "name": "ipython",
    "version": 3
   },
   "file_extension": ".py",
   "mimetype": "text/x-python",
   "name": "python",
   "nbconvert_exporter": "python",
   "pygments_lexer": "ipython3",
   "version": "3.7.4"
  }
 },
 "nbformat": 4,
 "nbformat_minor": 2
}
