{
 "cells": [
  {
   "cell_type": "markdown",
   "metadata": {},
   "source": [
    "# Image Processing Pipeline\n",
    "\n",
    "Image and metadata QC, image registration, single cell segmentation and feature extraction. \n"
   ]
  },
  {
   "cell_type": "markdown",
   "metadata": {},
   "source": [
    "# Table of contents <a name=\"contents\"></a>\n",
    "0. [Download Image data](#image)\n",
    "1. [Import Libraries](#lib)\n",
    "2. [Metadata](#meta)\n",
    "3. [QC Images](#qc1)\n",
    "4. [Register Images](#reg)\n",
    "5. [QC Registration](#qcreg)\n",
    "6. [Autofluorescence Subtraction](#afsub)\n",
    "7. [Segmentation](#seg)\n",
    "8. [Feature Extraction](#feat)\n",
    "8. [Filter Data](#filter)"
   ]
  },
  {
   "cell_type": "markdown",
   "metadata": {},
   "source": [
    "## 0  Dowload Example Images <a name=\"image\"></a>\n",
    "\n",
    "[contents](#contents)\n",
    "\n",
    "To run this example code, download tiffs and czis from https://www.synapse.org/#!Synapse:syn22315952\n",
    "Proper folder naming/structure will be: \n",
    "\n",
    " - ./PipelineExample/RawImages/\n",
    " - ./PipelineExample/czis/\n"
   ]
  },
  {
   "cell_type": "code",
   "execution_count": null,
   "metadata": {},
   "outputs": [],
   "source": [
    "#libraries\n",
    "import os\n",
    "import synapseclient\n",
    "import synapseutils\n",
    "\n",
    "#navigate to code folder\n",
    "os.chdir('PipelineExample')\n",
    "codedir = os.getcwd()\n",
    "\n",
    "#input/output folders\n",
    "czidir = f'{codedir}/czis'\n",
    "tiffdir = f'{codedir}/RawImages'\n",
    "\n",
    "# login to Synapse\n",
    "syn = synapseclient.login(email='me@example.com', password='secret', rememberMe=True) #change to your username and password\n",
    "\n",
    "# download tiffs and czis\n",
    "all_files = synapseutils.syncFromSynapse(syn, entity='syn22315956', path=tiffdir)\n",
    "all_files = synapseutils.syncFromSynapse(syn, entity='syn22315953', path=czidir)\n"
   ]
  },
  {
   "cell_type": "markdown",
   "metadata": {},
   "source": [
    "# Example Code\n",
    "\n",
    "## 1   Import Libraries and Set Paths <a name=\"lib\"></a>\n",
    "\n",
    "[contents](#contents)\n",
    "\n",
    "Within the root directory, the code will auto-generate a standardized folder structure. Folders are for Raw Images (unregistered tiffs single channel),\n",
    " QC outputs, Registered Images, Autofluorescence Subtracted Images, Segmentation outputs and Cropped images for viewing. So only\n",
    " `codedir`variable should be modified, retaining the standardized folder structure.\n",
    " \n",
    "List the names of the slides to be processed as `ls_sample`. Each slide may have 1 or more scenes acquired during scanning.\n"
   ]
  },
  {
   "cell_type": "code",
   "execution_count": 5,
   "metadata": {},
   "outputs": [],
   "source": [
    "# Import libraries\n",
    "import os\n",
    "import sys\n",
    "import numpy as np\n",
    "import pandas as pd\n",
    "import shutil\n",
    "import matplotlib.pyplot as plt\n",
    "import re\n",
    "from skimage import io\n",
    "\n",
    "# Start Preprocessing\n",
    "if os.getcwd().split('/')[-1] != 'PipelineExample':\n",
    "    os.chdir('PipelineExample')\n",
    "codedir = os.getcwd()\n",
    "\n",
    "#input/output folders\n",
    "czidir = f'{codedir}/czis'\n",
    "tiffdir = f'{codedir}/RawImages'\n",
    "qcdir = f'{codedir}/QC'\n",
    "regdir = f'{codedir}/RegisteredImages'\n",
    "subdir = f'{codedir}/SubtractedRegisteredImages'\n",
    "segdir = f'{codedir}/Segmentation'\n",
    "cropdir = f'{codedir}/Cropped'"
   ]
  },
  {
   "cell_type": "code",
   "execution_count": 6,
   "metadata": {},
   "outputs": [],
   "source": [
    "# Start Preprocessing\n",
    "from mplex_image import preprocess, mpimage, cmif, process\n",
    "preprocess.cmif_mkdir([tiffdir,qcdir,regdir,segdir,subdir,cropdir,czidir])\n",
    "\n",
    "ls_sample = ['BC44290-146']"
   ]
  },
  {
   "cell_type": "markdown",
   "metadata": {},
   "source": [
    "## 2   QC and export metadata from .czi <a name=\"meta\"></a>\n",
    "\n",
    "[contents](#contents)\n",
    "\n",
    "\"Level-1\" i.e. original microscope image file QC is performed (check number of files + naming), changing file names if there are any typos. \n",
    "Important metadata, including exposure time (used to normalize images for autofluorescence subtraction) and\n",
    "coordinates of czi scenes is exported to csv. \n",
    "\n",
    "FILE STRUCTURE: All images from each sample should be in subfolders named by sample ID within `czidir`.\n"
   ]
  },
  {
   "cell_type": "code",
   "execution_count": null,
   "metadata": {},
   "outputs": [],
   "source": [
    "from mplex_image import metadata\n",
    "import javabridge\n",
    "import bioformats\n",
    "javabridge.start_vm(class_path=bioformats.JARS)\n",
    "for s_sample in ls_sample:\n",
    "    os.chdir(f'{czidir}/{s_sample}')\n",
    "    #1 rename undescores to dot to match convention (done)\n",
    "    d_rename = mpimage.underscore_to_dot(s_sample,s_end='.czi')\n",
    "    d_rename.update({'HER2_ER':'HER2.ER'})\n",
    "    preprocess.dchange_fname(d_rename) #,b_test=False)\n",
    "\n",
    "    #2 Check files/naming\n",
    "    df_img = cmif.parse_czi(f'{czidir}/{s_sample}',b_scenes=True)\n",
    "    cmif.count_images(df_img)\n",
    "    preprocess.check_names(df_img,s_type='czi')\n",
    "    #Example: change file name and change back\n",
    "    d_rename = {'CK5R':'CK5Rename','CK5Rename':'CK5R'} \n",
    "    preprocess.dchange_fname(d_rename)#,b_test=False)\n",
    "    \n",
    "    #3 Export useful imaging metadata (done)\n",
    "    df_img = metadata.scene_position(f'{czidir}/{s_sample}',type='r')\n",
    "    df_img.to_csv(f'{codedir}/{s_sample}_ScenePositions.csv')\n",
    "    metadata.exposure_times_slide(df_img,codedir,czidir=f'{czidir}/{s_sample}')\n",
    "javabridge.kill_vm()"
   ]
  },
  {
   "cell_type": "markdown",
   "metadata": {},
   "source": [
    "## 3   QC Tiff Images <a name=\"qc1\"></a>\n",
    "\n",
    "[contents](#contents)\n",
    "\n",
    "Unregistered raw tiff format is 16 bit (`uint16`) single channel grayscale tiff, for example, exported from .czi using Zeiss' Zen software. \n",
    "This section QC's files/naming and generates overviews of all rounds for visual inspection.\n",
    "\n",
    "FILE STRUCTURE: Each sample's tiff image stack should be in a separate subfolder named by sample ID within `rootdir`/RawImages. \n"
   ]
  },
  {
   "cell_type": "code",
   "execution_count": null,
   "metadata": {},
   "outputs": [],
   "source": [
    "# 2 Raw tiffs: check/change names\n",
    "for s_sample in ls_sample: \n",
    "    os.chdir(f'{tiffdir}/{s_sample}')\n",
    "    #Example: change file name and change back\n",
    "    d_rename = {'CK5R':'CK5Rename','CK5Rename':'CK5R'} \n",
    "    preprocess.dchange_fname(d_rename) #,b_test=False)\n",
    "    #sort and count images \n",
    "    df_img = mpimage.parse_org(s_end = \"ORG.tif\",type='raw') \n",
    "    cmif.count_images(df_img[df_img.slide==s_sample])\n",
    "    preprocess.check_names(df_img,s_type='tiff')"
   ]
  },
  {
   "cell_type": "code",
   "execution_count": null,
   "metadata": {},
   "outputs": [],
   "source": [
    "# 3 QC Raw tiffs: visual inspection #\n",
    "preprocess.cmif_mkdir([f'{qcdir}/RawImages'])\n",
    "\n",
    "for s_sample in ls_sample:\n",
    "    os.chdir(f'{tiffdir}/{s_sample}')\n",
    "    #investigate tissues\n",
    "    df_img = mpimage.parse_org(s_end=\"ORG.tif\",type='raw')\n",
    "    cmif.visualize_raw_images(df_img,qcdir,color='c1')"
   ]
  },
  {
   "cell_type": "markdown",
   "metadata": {},
   "source": [
    "## 4   Register Images <a name=\"reg\"></a>\n",
    "\n",
    "[contents](#contents)\n",
    "\n",
    "This section registers all images to round 1 (R1), based on DAPI staining in each round. \n",
    "\n",
    "FILE STRUCTURE: Registered tiff images are generated and saved in `regdir` in subfolders named by sample ID and scene.\n"
   ]
  },
  {
   "cell_type": "code",
   "execution_count": null,
   "metadata": {},
   "outputs": [],
   "source": [
    "for s_sample in ls_sample:\n",
    "    cmif.registration_python(s_sample,tiffdir,regdir,qcdir)"
   ]
  },
  {
   "cell_type": "code",
   "execution_count": null,
   "metadata": {},
   "outputs": [],
   "source": [
    "#### 4 (optional) Register Matlab ####\n",
    "'''\n",
    "d_register = {#'BC44290-146':{},\n",
    "    'BC44290-146':{1:'[2000 7000 500 500]',2:'[1800 9000 500 500]'}, #[x y w h] (crop)\n",
    " }\n",
    "ls_order = ['R1','R0','R2','R3','R4','R5','R6','R7','R8','R8Q'] \n",
    "\n",
    "for key,item in d_register.items():\n",
    "   #run registration\n",
    "   cmif.run_registration_matlab(d_register, ls_order, f'{tiffdir}/{key}', f'{regdir}/')\n",
    "'''\n",
    "#### "
   ]
  },
  {
   "cell_type": "markdown",
   "metadata": {},
   "source": [
    "## 5   Check Registration <a name=\"qcreg\"></a>\n",
    "\n",
    "[contents](#contents)\n",
    "\n",
    "This section generates overviews of all rounds of each registered image stack, for QC purposes.\n"
   ]
  },
  {
   "cell_type": "code",
   "execution_count": null,
   "metadata": {},
   "outputs": [],
   "source": [
    "cmif.visualize_reg_images(f'{regdir}',qcdir,color='c1')"
   ]
  },
  {
   "cell_type": "markdown",
   "metadata": {},
   "source": [
    "## 6 Create AF Subtracted Images <a name=\"afsub\"></a>\n",
    "\n",
    "[contents](#contents)\n",
    "\n",
    "Images acquired of background autofluorescence by are scaled by exposure time and subtracted from the respective channel, producing a new image. `d_channel` specifies the name of the background marker to subtract from each channel. `ls_exclude` lists which markers for which AF subtraction is skipped(typically c5 images).\n",
    "A companion csv listing channels and corresponding markers is generated to reflect this fully processed (i.e. level-2) image data.\n",
    " \n",
    "FILE STRUCTURE: AF substracted tiff images are output to `subdir` in subfolders nemed by sample ID and scene\n"
   ]
  },
  {
   "cell_type": "code",
   "execution_count": null,
   "metadata": {},
   "outputs": [],
   "source": [
    "#parameters\n",
    "d_channel = {'c2':'R8Qc2','c3':'R8Qc3','c4':'R8Qc4','c5':'R8Qc5'}\n",
    "d_early={'c2':'R0c2','c3':'R0c3','c4':'R0c4','c5':'R0c5'}\n",
    "\n",
    "for s_sample in ls_sample:\n",
    "    preprocess.cmif_mkdir([f'{subdir}/{s_sample}'])\n",
    "    os.chdir(f'{regdir}')\n",
    "    for s_file in os.listdir():\n",
    "        if s_file.find(s_sample) > -1:\n",
    "            os.chdir(s_file)\n",
    "            df_img = mpimage.parse_org()\n",
    "            ls_exclude = sorted(set(df_img[df_img.color=='c5'].marker)) + ['DAPI'] + [item for key, item in d_channel.items()] + [item for key, item in d_early.items()]\n",
    "            #subtract\n",
    "            df_markers = cmif.autofluorescence_subtract(s_sample,df_img,codedir,d_channel,ls_exclude,subdir=f'{subdir}/{s_sample}',d_early=d_early) #\n",
    "            os.chdir('..')\n",
    "#generate channel/marker metadata csv\n",
    "cmif.metadata_table(regdir,segdir)"
   ]
  },
  {
   "cell_type": "markdown",
   "metadata": {},
   "source": [
    "##  7  Cellpose Segmentation <a name=\"seg\"></a>\n",
    "\n",
    "[contents](#contents)\n",
    "\n",
    "The generalist segmentation algorithim `cellpose` is used for nuclear and cell segmentation. Custom python/numba code matches labelled nuclei and cells that overlap from the two segmentation results.\n",
    "Note: the `cellpose_segment_job` is a spawner that starts a job for each slide/scene on the server. \n",
    "\n",
    "FILE STRUCTURE: Labelled tiffs (`uint32`) with each pixel's grayscale value reflecting the label, are output as \"Nuclei Segmentation Basins\" and \"Matched Cell Segmentation Basins\" in `segdir` sample ID subfolders.\n",
    " \n"
   ]
  },
  {
   "cell_type": "code",
   "execution_count": null,
   "metadata": {},
   "outputs": [],
   "source": [
    "#change kernel/environment to cellpose\n",
    "from mplex_image import segment\n",
    "nuc_diam = 30\n",
    "cell_diam = 30 \n",
    "\n",
    "s_seg_markers = \"['Ecad']\"\n",
    "s_type = 'cell' #'nuclei'#\n",
    "\n",
    "print(f'Predicting {s_type}')\n",
    "for s_sample in ls_sample:\n",
    "    segment.segment_spawner(s_sample,segdir,regdir,nuc_diam,cell_diam,s_type,s_seg_markers,s_job='short',s_match='both')"
   ]
  },
  {
   "cell_type": "markdown",
   "metadata": {},
   "source": [
    "##  8  Extract features <a name=\"feat\"></a>\n",
    "\n",
    "[contents](#contents)\n",
    "\n",
    "Extract intesity, shape and location features from each AF subtracted image. \n"
   ]
  },
  {
   "cell_type": "code",
   "execution_count": null,
   "metadata": {},
   "outputs": [],
   "source": [
    "from mplex_image import features\n",
    "\n",
    "nuc_diam = 30\n",
    "cell_diam = 30 \n",
    "ls_seg_markers = ['Ecad']\n",
    "\n",
    "for s_sample in ls_sample: \n",
    "    df_sample, df_thresh = features.extract_cellpose_features(s_sample, segdir, subdir, ls_seg_markers, nuc_diam, cell_diam)\n",
    "    df_sample.to_csv(f'{segdir}/features_{s_sample}_MeanIntensity_Centroid_Shape.csv')\n",
    "    df_thresh.to_csv(f'{segdir}/thresh_{s_sample}_ThresholdLi.csv')"
   ]
  },
  {
   "cell_type": "markdown",
   "metadata": {},
   "source": [
    "### 8b (optional) Enhanced Features Extraction \n",
    "When we know that segmentation is not entirely accurate, e.g. the cell membrane, we can extract \"enhanced\" features, that is, the brightest 25% of pixels within the segmentation region."
   ]
  },
  {
   "cell_type": "code",
   "execution_count": null,
   "metadata": {},
   "outputs": [],
   "source": [
    "nuc_diam = 30\n",
    "cell_diam = 30 \n",
    "ls_seg_markers = ['Ecad']\n",
    "ls_membrane = ['HER2','EGFR']\n",
    "\n",
    "for s_sample in ls_sample: \n",
    "    df_sample = features.extract_bright_features(s_sample, segdir, subdir, ls_seg_markers, nuc_diam, cell_diam,ls_membrane)\n",
    "    df_sample.to_csv(f'{segdir}/features_{s_sample}_BrightMeanIntensity.csv')"
   ]
  },
  {
   "cell_type": "markdown",
   "metadata": {},
   "source": [
    "## 9  Filter Data <a name=\"filter\"></a>\n",
    "\n",
    "[contents](#contents)\n",
    "\n",
    "Post-processing includes filling in any missing data (since cellpose typically segments more nuclei than cells) filtering out lost cells based on last round DAPI staining and selection of dataframe columns based on desired biomarker sub-cellular location."
   ]
  },
  {
   "cell_type": "code",
   "execution_count": null,
   "metadata": {},
   "outputs": [],
   "source": [
    "from mplex_image import process, features\n",
    "#parameters\n",
    "nuc_diam = 30\n",
    "cell_diam = 30 \n",
    "ls_seg_markers = ['Ecad']\n",
    "s_thresh='Ecad'\n",
    "ls_membrane = ['HER2']\n",
    "ls_marker_cyto = ['CK14','CK5','CK17','CK19','CK7','CK5R','Ecad','HER2']\n",
    "ls_custom = ['CD8R_perinuc5','CD20R_perinuc5','CD4R_perinuc5']\n",
    "ls_filter = ['DAPI11_nuclei','DAPI2_nuclei']\n",
    "ls_shrunk = ['Vim_perinuc3','CD44_perinuc3']\n",
    "man_thresh = 600\n",
    "\n",
    "#filtering\n",
    "for s_sample in ls_sample: \n",
    "    os.chdir(segdir)\n",
    "    #replace nas, select segmentation region and filter cells negative for dapi\n",
    "    df_mi_full,df_img_all = process.filter_cellpose_df(s_sample,segdir,qcdir,s_thresh,ls_membrane,ls_marker_cyto,\n",
    "     ls_custom,ls_filter,ls_shrunk,man_thresh)\n",
    "    #Expand nuclei without matching cell labels for cells touching analysis\n",
    "    __ = features.combine_labels(s_sample,segdir, subdir, ls_seg_markers, nuc_diam, cell_diam, df_mi_full,s_thresh)\n",
    "    process.marker_table(df_img_all,qcdir)\n",
    "\n",
    "#Expand nuclei without matching cell labels for cells' touching analysis\n",
    "for s_sample in ls_sample:\n",
    "    se_neg = df_mi_full[df_mi_full.slide==s_sample].Ecad_negative\n",
    "    labels,combine,dd_result = features.combine_labels(s_sample, segdir, subdir, ls_seg_markers, nuc_diam, cell_diam, se_neg)\n"
   ]
  },
  {
   "cell_type": "markdown",
   "metadata": {},
   "source": [
    "## 10 Generate multicolor pngs and ome-tiff overlays (cropped)\n",
    "\n",
    "Crop smaller regions of images and segmentation basins and create custom overlays for efficient viewing of related markers."
   ]
  },
  {
   "cell_type": "code",
   "execution_count": null,
   "metadata": {},
   "outputs": [],
   "source": [
    "#crop coordinates  x, y upper corner\n",
    "d_crop = {'BC44290-146-Scene-1': (1800,9000)}\n",
    "\n",
    "#10-1 PNGs: nice images for powerpoint presentations\n",
    "\n",
    "#PNG parameters\n",
    "d_overlay = {'R1':['CD20','CD8','CD4','CK19'],\n",
    "     'R2':[ 'PCNA','HER2','ER','CD45'],\n",
    "     'R3':['pHH3', 'CK14', 'CD44', 'CK5'],\n",
    "     'R4':[ 'Vim', 'CK7', 'PD1', 'LamAC',],\n",
    "     'R5':['aSMA', 'CD68', 'Ki67', 'Ecad'],\n",
    "     'R6':['CK17','PDPN','CD31','CD3'],\n",
    "     'R7':['CK5R','CD8R','CD4R','CD20R'],\n",
    "     'R8':['LamB1','AR','ColIV','ColI'],\n",
    "     'subtype':['PCNA','HER2','ER','Ki67'],\n",
    "     'diff':['Ecad', 'CK14', 'CD44', 'CK5'],\n",
    "     'immune':['PD1','CD8R','CD4R','CD20R'],\n",
    "     'stromal':['aSMA','Vim','CD68','CD31'],\n",
    "     }\n",
    "es_bright = {'pHH3','CD68','CK14','CK5','CK17'} \n",
    "high_thresh=0.999\n",
    "\n",
    "for s_scene in sorted(d_crop.keys()):\n",
    "    cmif.visualize_multicolor_overlay(s_scene,subdir,qcdir,d_overlay,d_crop,es_bright,high_thresh)"
   ]
  },
  {
   "cell_type": "code",
   "execution_count": null,
   "metadata": {},
   "outputs": [],
   "source": [
    "#10 -2 ome-tiff\n",
    "\n",
    "#ome-tiff parameters\n",
    "s_dapi = 'DAPI1'\n",
    "d_combos = {'AF':{'R0c2','R0c3','R0c4','R0c5'}, \n",
    "        'Stromal':{'PDPN','Vim','CD31','aSMA'}, \n",
    "        'Tumor':{'HER2','ER','AR','Ecad','CD44','Ki67','pHH3','PCNA'},\n",
    "        'Immune':{'CD45','CD20R','CD68','PD1', 'CD8R', 'CD4R','CD3',},\n",
    "        'Differentiation':{'CK7','CK19','CK14','CK17','CK5','CD44','Vim'},\n",
    "        'Nuclear_ImmuneEarly':{ 'LamB1', 'LamAC','CD20','CD8', 'CD4',},\n",
    "    }\n",
    "\n",
    "for s_scene in sorted(d_crop.keys()):\n",
    "    cmif.cropped_ometiff(s_scene,subdir,cropdir,d_crop,d_combos,s_dapi,tu_dim)\n"
   ]
  },
  {
   "cell_type": "code",
   "execution_count": null,
   "metadata": {},
   "outputs": [],
   "source": [
    "#10-3 crop basins to match cropped overlays\n",
    "\n",
    "cmif.load_crop_labels(d_crop,tu_dim,segdir,cropdir,s_find='exp5_CellSegmentationBasins')\n",
    "cmif.load_crop_labels(d_crop,tu_dim,segdir,cropdir,s_find='Nuclei Segmentation Basins')\n"
   ]
  },
  {
   "cell_type": "markdown",
   "metadata": {},
   "source": [
    "## 11 Tissue edge detection\n",
    "\n",
    "\"Edge-effect\" is a common artifact in FFPE tissues. Here we detect cells on edge of tissue.\n"
   ]
  },
  {
   "cell_type": "code",
   "execution_count": null,
   "metadata": {},
   "outputs": [],
   "source": [
    "from mplex_image import features\n",
    "nuc_diam = 30\n",
    "i_pixel = 308\n",
    "for s_sample in ls_sample:\n",
    "    features.edge_mask(s_sample,segdir,subdir,i_pixel=i_pixel, dapi_thresh=350)\n",
    "    df_sample = features.edge_cells(s_sample,segdir,nuc_diam,i_pixel=i_pixel)\n",
    "    df_sample.to_csv(f'{segdir}/features_{s_sample}_EdgeCells{i_pixel}pixels_CentroidXY.csv')\n"
   ]
  },
  {
   "cell_type": "markdown",
   "metadata": {},
   "source": [
    "##  Next Steps\n",
    "\n",
    "Filtered data from step 9 and cropped overlays from step 10 are used for [manual thresholding](https://gitlab.com/engje/cmif/-/blob/master/PipelineExample/PipelineExample_ThresholdPositive.ipynb) and [gating](https://gitlab.com/engje/cmif/-/blob/master/PipelineExample/PipelineExample_GateCellTypes.ipynb). Unsupervised clustering may be run on filtered data.  Images, segmentation, and clustering or thresholding results are viewed in [napari](https://gitlab.com/engje/cmif/-/blob/master/PipelineExample/PipelineExample_napari.py).\n"
   ]
  },
  {
   "cell_type": "code",
   "execution_count": null,
   "metadata": {},
   "outputs": [],
   "source": []
  }
 ],
 "metadata": {
  "kernelspec": {
   "display_name": "Python 3.8.3",
   "language": "python",
   "name": "python3.8.3"
  },
  "language_info": {
   "codemirror_mode": {
    "name": "ipython",
    "version": 3
   },
   "file_extension": ".py",
   "mimetype": "text/x-python",
   "name": "python",
   "nbconvert_exporter": "python",
   "pygments_lexer": "ipython3",
   "version": "3.8.3"
  }
 },
 "nbformat": 4,
 "nbformat_minor": 4
}
