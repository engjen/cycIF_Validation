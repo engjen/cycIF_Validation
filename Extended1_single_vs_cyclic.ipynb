{
 "cells": [
  {
   "cell_type": "markdown",
   "metadata": {},
   "source": [
    "# Comparison of Standard IF to Cyclic IF\n",
    "\n",
    "**Question:** How does the signal-to-background ratio and staining specificity compare in standard IF vs. cyclic IF?\n",
    "\n",
    "**Samples:** \n",
    "- Tissue ID 44290: HER2+/ER+ breast cancer. Section 112 stained with a 5 round cyclic IF protocol, sections 113 to 116 stained with the same antibodies in a standard IF protocol.\n",
    "- Tissue ID 44294: Adjacent normal breast from the patient above. Section 116 is cyclic, section 117 to 120 are standard IF.\n",
    "\n",
    "**Method**: For each stain, pixel intensity was manually thresholded to separate the positive pixels from the negative. Visualizations produced include:\n",
    "1. Autoscaled overview of stain, with dynamic range of 0 - 99th percentile displayed in legend.\n",
    "2. Mask of positive pixels, so that masks from standard and corresponding cyclic stains can be compared for specificity.\n",
    "3. Measure mean intensity in mask area and background, and output values to .csv for downstream analysis."
   ]
  },
  {
   "cell_type": "markdown",
   "metadata": {},
   "source": [
    "### reviewer comments\n",
    "\n",
    "Define in legend the scale (e.g. scale bar needed) for the tissue images shown throughout "
   ]
  },
  {
   "cell_type": "code",
   "execution_count": null,
   "metadata": {},
   "outputs": [],
   "source": [
    "pwd"
   ]
  },
  {
   "cell_type": "code",
   "execution_count": null,
   "metadata": {},
   "outputs": [],
   "source": [
    "#paths\n",
    "import os\n",
    "#os.chdir('/home/groups/graylab_share/OMERO.rdsStore/engje/Data/cycIF_ValidationStudies/cycIF_Validation')\n",
    "codedir = os.getcwd()"
   ]
  },
  {
   "cell_type": "code",
   "execution_count": null,
   "metadata": {},
   "outputs": [],
   "source": [
    "#libraries \n",
    "import importlib\n",
    "import util\n",
    "import pandas as pd\n",
    "import numpy as np\n",
    "import shutil\n",
    "import skimage\n",
    "import matplotlib as mpl\n",
    "import matplotlib.pyplot as plt\n",
    "from matplotlib import patches\n",
    "#os.chdir('/home/groups/graylab_share/OMERO.rdsStore/engje/Data/mplex_image')\n",
    "#import analyze, mpimage #, cmif"
   ]
  },
  {
   "cell_type": "code",
   "execution_count": null,
   "metadata": {},
   "outputs": [],
   "source": [
    "os.chdir(codedir)\n",
    "%matplotlib inline\n",
    "rootdir = '/home/groups/graylab_share/OMERO.rdsStore/engje/Data/cycIF_ValidationStudies/cycIF_Validation'"
   ]
  },
  {
   "cell_type": "markdown",
   "metadata": {},
   "source": [
    "## Accessing Images\n",
    "\n",
    "To run this code, first download necessary images from synapse.org, ID =  'syn23644791'\n",
    "\n",
    "https://www.synapse.org/#!Synapse:syn23644791\n"
   ]
  },
  {
   "cell_type": "code",
   "execution_count": null,
   "metadata": {},
   "outputs": [],
   "source": [
    "importlib.reload(util)"
   ]
  },
  {
   "cell_type": "code",
   "execution_count": null,
   "metadata": {},
   "outputs": [],
   "source": [
    "#analyze regions in crop (20191209)\n",
    "%matplotlib inline\n",
    "d_crop = {'44290-112':(5000,8800,1300,1800),\n",
    " '44290-113':(5886,8111,1300,1800),\n",
    " '44290-114':(5010,9242,1300,1800),\n",
    " '44290-115':(5975,10490,1300,1800),\n",
    " '44290-116':(6336,9174,1300,1800),\n",
    " '44294-116':(9547,5459,1300,1800),\n",
    " '44294-117':(12180,6092, 1300,1800),\n",
    " '44294-118':(10901, 6582, 1300,1800),\n",
    " '44294-119':(9853,5557, 1300,1800),\n",
    " '44294-120':(10250,5510, 1300,1800),\n",
    " }\n",
    "\n",
    "d_rename = {#'Her2':'HER2', 'pH3':'pHH3', 'LaminAC':'LamAC',\n",
    " '(R2)':'R2', '(R3)':'R3', '(R4)':'R4', '(R5)':'R5', '(R6)':'R6'}\n",
    "\n",
    "s_thresh='minimum90' #'minimum'#\n",
    "k=4\n",
    "df_result = pd.DataFrame()\n",
    "dd_result = {}\n",
    "#run\n",
    "d_process = {'44290-112':f'{rootdir}/Images/tiff/44290/44290-112',\n",
    "    '44290':f'{rootdir}/Images/tiff/44290',\n",
    "    '44290-116':f'{rootdir}/Images/tiff/44290/44294-116',\n",
    " }\n",
    "\n",
    "for idx,(s_sample, s_path) in enumerate(d_process.items()):\n",
    "    print(s_sample)\n",
    "    os.chdir(s_path)\n",
    "    df_img = util.parse_org()\n",
    "    df_img = df_img.replace(d_rename)\n",
    "    df_img['slide_marker'] = df_img.scene + '_' + df_img.marker\n",
    "    df_img['img_index'] = df_img.index\n",
    "    df_thresh = pd.read_csv(f'{rootdir}/Metadata/44290/metadata_single_vs_cyclic.csv',index_col=0)\n",
    "    df_thresh['slide_marker'] = df_thresh.slide + '_' + df_thresh.marker\n",
    "    df_thresh = df_img.merge(df_thresh, how='inner', on='slide_marker',suffixes=('','_y'))\n",
    "    df_thresh.index = df_thresh.img_index\n",
    "    df_thresh['minimum110'] = df_thresh.minimum + df_thresh.minimum/10\n",
    "    df_thresh['minimum90'] = df_thresh.minimum - df_thresh.minimum/10\n",
    "    #results\n",
    "    for s_marker in sorted(set(df_thresh.marker)):      \n",
    "        df_marker = df_thresh[(df_thresh.marker==s_marker) & (df_thresh.rounds !='R6')]\n",
    "        print(f'{s_marker}  {len(df_marker)}')\n",
    "        #plot the images\n",
    "        #fig = util.array_img(df_marker.sort_values('condition'),s_xlabel='marker',ls_ylabel=['scene','color'],s_title='condition',tu_array=(2,len(df_marker)//2),tu_fig=(8,8),cmap='inferno')\n",
    "        #fig.savefig(f'{codedir}/Figures/{s_sample}/SinglevsCyclic_TissueLoss_Background_{s_marker}.png')\n",
    "        df_marker_thresh,d_mask = util.thresh_erode(df_marker.sort_values('condition'),d_crop,s_thresh=s_thresh,k=k)\n",
    "        df_result=df_result.append(df_marker_thresh)\n",
    "        dd_result.update({f'{s_sample}_{s_marker}':d_mask})\n",
    "        #plot the mask\n",
    "        if s_marker == 'CD44':\n",
    "            i_plot=2\n",
    "            fig, ax = plt.subplots(2,i_plot,figsize=(6,8)) #len(df_marker)//2\n",
    "            ax=ax.ravel()\n",
    "            for idx,(s_index, a_mask) in enumerate(d_mask.items()):\n",
    "                stacked_img = np.stack((a_mask[0],)*3, axis=-1).astype('uint8')\n",
    "                for i in np.unique(a_mask[0]):\n",
    "                    stacked_img = np.where(stacked_img == i, (i+1)*(255/(len(np.unique(a_mask[0])+1))), stacked_img)\n",
    "                stacked_img = stacked_img.astype('uint8')\n",
    "                stacked_img[:,:,0][1600:1633,1000:1153] = 255\n",
    "                ax[idx].imshow(stacked_img)\n",
    "                ax[idx].set_title(f\"{df_thresh.loc[s_index,'condition']}\\n{df_thresh.loc[s_index,'marker']}\")\n",
    "            #fig.savefig(f'{rootdir}/Figures/SinglevsCyclic_Thresholding_{s_marker}.png')\n",
    "            #plot the mask (bg)\n",
    "            for idx,(s_index, a_mask) in enumerate(d_mask.items()):\n",
    "                stacked_img = np.stack((a_mask[1],)*3, axis=-1).astype('uint8')\n",
    "                for i in np.unique(a_mask[0]):\n",
    "                    stacked_img = np.where(stacked_img == i, (i+1)*(255/(len(np.unique(a_mask[0])+1))), stacked_img)\n",
    "                stacked_img = stacked_img.astype('uint8')\n",
    "                stacked_img[:,:,0][1600:1633,1000:1153] = 255\n",
    "                ax[idx+2].imshow(stacked_img)\n",
    "                ax[idx+2].set_title(f\"{df_thresh.loc[s_index,'condition']}\\n{df_thresh.loc[s_index,'marker']}\")\n",
    "            fig.savefig(f'{codedir}/Figures/SinglevsCyclic_Thresholding_{s_marker}_{s_thresh}_{k}.png')\n",
    "        #break"
   ]
  },
  {
   "cell_type": "code",
   "execution_count": null,
   "metadata": {},
   "outputs": [],
   "source": [
    "#save superpixel results\n",
    "df_result.reset_index().to_csv(f'{codedir}/single_vs_cyclic_SBR_SP{k}_{s_thresh}.csv')"
   ]
  },
  {
   "cell_type": "code",
   "execution_count": null,
   "metadata": {},
   "outputs": [],
   "source": []
  }
 ],
 "metadata": {
  "kernelspec": {
   "display_name": "Python3.9.5",
   "language": "python",
   "name": "python3.9.5"
  },
  "language_info": {
   "codemirror_mode": {
    "name": "ipython",
    "version": 3
   },
   "file_extension": ".py",
   "mimetype": "text/x-python",
   "name": "python",
   "nbconvert_exporter": "python",
   "pygments_lexer": "ipython3",
   "version": "3.9.5"
  }
 },
 "nbformat": 4,
 "nbformat_minor": 2
}
