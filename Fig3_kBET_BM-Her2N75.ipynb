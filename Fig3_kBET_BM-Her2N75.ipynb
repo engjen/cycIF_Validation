{
 "cells": [
  {
   "cell_type": "code",
   "execution_count": null,
   "metadata": {},
   "outputs": [],
   "source": [
    "library(kBET)\n",
    "library(dplyr)\n",
    "library(ggplot2)\n",
    "ulimit::memory_limit(6000)"
   ]
  },
  {
   "cell_type": "code",
   "execution_count": null,
   "metadata": {},
   "outputs": [],
   "source": [
    "##change to correct directory\n",
    "#dir = '/home/groups/graylab_share/OMERO.rdsStore/engje/Data/cycIF_ValidationStudies/cycIF_Validation/Data/filtered_data'\n",
    "dir = './Data/filtered_data'\n",
    "setwd(dir)"
   ]
  },
  {
   "cell_type": "code",
   "execution_count": null,
   "metadata": {},
   "outputs": [],
   "source": [
    "#data files to process\n",
    "file_list = c(#'20201207_BM-Her2N75-15-17-18_SampledMeanIntensity_raw_restore.csv',\n",
    " #'20201208_BM-Her2N75-15-17-18_SampledMeanIntensity_raw_restore.csv',\n",
    " #'20201209_BM-Her2N75-15-17-18_SampledMeanIntensity_raw_restore.csv'\n",
    " #'20201207_BM-Her2N75-15-17-18_SampledMeanIntensity_raw_restore_combat.csv',\n",
    " #'20201207_BM-Her2N75-15-17-18_SampledMeanIntensity_raw_combat.csv',\n",
    " #'20201207_BM-Her2N75-15-17-18_SampledMeanIntensity_raw_regress_out.csv',\n",
    " #'20201207_BM-Her2N75-15-17-18_SampledMeanIntensity_raw_restore_regress_out.csv',\n",
    " #'20201208_BM-Her2N75-15-17-18_SampledMeanIntensity_raw_restore_combat.csv',\n",
    " #'20201208_BM-Her2N75-15-17-18_SampledMeanIntensity_raw_combat.csv',\n",
    " #'20201208_BM-Her2N75-15-17-18_SampledMeanIntensity_raw_regress_out.csv',\n",
    " #'20201208_BM-Her2N75-15-17-18_SampledMeanIntensity_raw_restore_regress_out.csv',\n",
    " #'20201209_BM-Her2N75-15-17-18_SampledMeanIntensity_raw_restore_combat.csv',\n",
    " #'20201209_BM-Her2N75-15-17-18_SampledMeanIntensity_raw_combat.csv',\n",
    " #'20201209_BM-Her2N75-15-17-18_SampledMeanIntensity_raw_regress_out.csv',\n",
    " #'20201209_BM-Her2N75-15-17-18_SampledMeanIntensity_raw_restore_regress_out.csv',\n",
    " #'20201207_BM-Her2N75-15-17-18_SampledMeanIntensity_raw.csv',\n",
    " #'20201208_BM-Her2N75-15-17-18_SampledMeanIntensity_raw.csv',\n",
    " #'20201209_BM-Her2N75-15-17-18_SampledMeanIntensity_raw.csv'\n",
    " #'20201207_BM-Her2N75_SampledMeanIntensity_restore_scale.csv',\n",
    " #'20201208_BM-Her2N75_SampledMeanIntensity_restore_scale.csv',\n",
    " #'20201209_BM-Her2N75_SampledMeanIntensity_restore_scale.csv',\n",
    " #'20201207_BM-Her2N75_SampledMeanIntensity_restore_div.csv',\n",
    " #'20201208_BM-Her2N75_SampledMeanIntensity_restore_div.csv',\n",
    " #'20201209_BM-Her2N75_SampledMeanIntensity_restore_div.csv',\n",
    " #'20201207_BM-Her2N75_SampledMeanIntensity_restore_div_arcsinh.csv',\n",
    " #'20201208_BM-Her2N75_SampledMeanIntensity_restore_div_arcsinh.csv',\n",
    " #'20201209_BM-Her2N75_SampledMeanIntensity_restore_div_arcsinh.csv',\n",
    " '20201207_BM-Her2N75_SampledMeanIntensity_restore_local.csv',\n",
    " '20201208_BM-Her2N75_SampledMeanIntensity_restore_local.csv',\n",
    " '20201209_BM-Her2N75_SampledMeanIntensity_restore_local.csv'\n",
    " #'20201229-0_BM-Her2N75_SampledMeanIntensity_diff_train.csv',\n",
    " #'20201229-1_BM-Her2N75_SampledMeanIntensity_diff_train.csv',\n",
    " #'20201229-2_BM-Her2N75_SampledMeanIntensity_diff_train.csv',\n",
    " #'20201229-0_BM-Her2N75_SampledMeanIntensity_same_train.csv',\n",
    " #'20201229-1_BM-Her2N75_SampledMeanIntensity_same_train.csv',\n",
    " #'20201229-2_BM-Her2N75_SampledMeanIntensity_same_train.csv'\n",
    "  #'20201229-0_BM-Her2N75_SampledMeanIntensity_sampled_train.csv',\n",
    "  #'20201229-1_BM-Her2N75_SampledMeanIntensity_sampled_train.csv',\n",
    "  #'20201229-2_BM-Her2N75_SampledMeanIntensity_sampled_train.csv'   \n",
    " )"
   ]
  },
  {
   "cell_type": "code",
   "execution_count": null,
   "metadata": {},
   "outputs": [],
   "source": [
    "for (file in file_list){\n",
    "print(file)\n",
    "data  <- read.csv(file)\n",
    "strs <- strsplit(file, \"Intensity_\")\n",
    "strs2 <- strsplit(file, \"_BM-Her\")\n",
    "data_test <- data %>% select(which(sapply(.,is.numeric)))\n",
    "avector <- data[['batch']]\n",
    "start_time <- Sys.time()\n",
    "batch.estimate <- kBET(data_test, avector)\n",
    "end_time <- Sys.time()\n",
    "end_time - start_time\n",
    "batch.estimate$summary\n",
    "write.csv(batch.estimate$summary,sprintf(\"%s_BM-Her2N75-15-17-18_kbet_%s\", strs2[[1]][1] ,strs[[1]][2]))\n",
    "    }"
   ]
  },
  {
   "cell_type": "code",
   "execution_count": null,
   "metadata": {},
   "outputs": [],
   "source": [
    "plot.data <- data.frame(class=rep(c('observed', 'expected'), \n",
    "                                  each=length(batch.estimate$stats$kBET.observed)), \n",
    "                        data =  c(batch.estimate$stats$kBET.observed,\n",
    "                                  batch.estimate$stats$kBET.expected))\n",
    "g <- ggplot(plot.data, aes(class, data)) + geom_boxplot() + \n",
    "     labs(x='Test', y='Rejection rate',title='kBET test results') +\n",
    "     theme_bw() +  \n",
    "     scale_y_continuous(limits=c(0,1))"
   ]
  },
  {
   "cell_type": "code",
   "execution_count": null,
   "metadata": {},
   "outputs": [],
   "source": [
    "g"
   ]
  },
  {
   "cell_type": "code",
   "execution_count": null,
   "metadata": {},
   "outputs": [],
   "source": []
  }
 ],
 "metadata": {
  "kernelspec": {
   "display_name": "R",
   "language": "R",
   "name": "ir"
  },
  "language_info": {
   "codemirror_mode": "r",
   "file_extension": ".r",
   "mimetype": "text/x-r-source",
   "name": "R",
   "pygments_lexer": "r",
   "version": "3.6.1"
  }
 },
 "nbformat": 4,
 "nbformat_minor": 4
}
