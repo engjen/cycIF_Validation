{
 "cells": [
  {
   "cell_type": "markdown",
   "metadata": {},
   "source": [
    "# Comparison of Adjacent TMA sections\n",
    "\n",
    "**Question:** How does the signal-to-background ratio and staining specificity compare across experimental replicates?\n",
    "\n",
    "**Samples:** \n",
    "- TMA: Purchased from biomax: https://www.biomax.us/tissue-arrays/Breast/BR1506\n",
    "- Adjacent Sections: BM-Her2N75-15, BM-Her2N75-17, BM-Her2N75-18 (section 16 skipped.)\n",
    "- Scenes: (i.e. TMA cores) \n",
    "  - 17: ER+/HER2+, immune rich. \n",
    "  - 49: ER+/HER2+\n",
    "  - 59: HER2+ immune rich\n",
    "\n",
    "**Method**: For each stain, pixel intensity was manually thresholded to separate the positive pixels from the negative. Visualizations produced include:\n",
    "1. Autoscaled overview of stain, with dynamic range of 0 - 99th percentile displayed in legend.\n",
    "2. Mask of positive pixels, so that masks from adjacent section stains can be compared for specificity.\n",
    "3. Measure mean intensity in mask area and background, and output values to .csv for downstream analysis."
   ]
  },
  {
   "cell_type": "markdown",
   "metadata": {},
   "source": [
    "## Accessing Images\n",
    "\n",
    "To run this code, first download necessary images from synapse.org\n",
    "\n",
    "https://www.synapse.org/#!Synapse:syn23644810\n",
    "\n",
    "https://www.synapse.org/#!Synapse:syn23644811\n",
    "\n",
    "\n",
    "https://www.synapse.org/#!Synapse:syn23644812"
   ]
  },
  {
   "cell_type": "code",
   "execution_count": 1,
   "metadata": {},
   "outputs": [],
   "source": [
    "#libraries \n",
    "import os\n",
    "import pandas as pd\n",
    "import numpy as np\n",
    "import shutil\n",
    "import skimage\n",
    "import matplotlib as mpl\n",
    "import matplotlib.pyplot as plt\n",
    "import util"
   ]
  },
  {
   "cell_type": "code",
   "execution_count": 2,
   "metadata": {},
   "outputs": [],
   "source": [
    "#paths\n",
    "#os.chdir('/home/groups/graylab_share/OMERO.rdsStore/engje/Data/cycIF_ValidationStudies/cycIF_Validation')\n",
    "codedir = os.getcwd()"
   ]
  },
  {
   "cell_type": "code",
   "execution_count": 4,
   "metadata": {},
   "outputs": [],
   "source": [
    "%matplotlib inline\n",
    "import warnings;\n",
    "warnings.filterwarnings('ignore')"
   ]
  },
  {
   "cell_type": "code",
   "execution_count": null,
   "metadata": {},
   "outputs": [],
   "source": [
    "#Reproducibility \n",
    "#analyze full TMA core\n",
    "\n",
    "d_crop ={\n",
    "    'BM-Her2N75-15-Scene-017':(1160,500,4000,4000),\n",
    "    'BM-Her2N75-17-Scene-017':(1107,1095,4000,4000),\n",
    "    'BM-Her2N75-18-Scene-017':(2189,2082,4000,4000),\n",
    "\n",
    "    'BM-Her2N75-15-Scene-049':(2066,879,4000,4000),\n",
    "    'BM-Her2N75-17-Scene-049':(2009,1397,4000,4000),\n",
    "    'BM-Her2N75-18-Scene-049':(1148,699,4000,4000),\n",
    "\n",
    "    'BM-Her2N75-15-Scene-059':(460,950,4000,4000),\n",
    "    'BM-Her2N75-17-Scene-059':(449,1353,4000,4000),\n",
    "    'BM-Her2N75-18-Scene-059':(1400,700,4000,4000),\n",
    "\n",
    "  }"
   ]
  },
  {
   "cell_type": "code",
   "execution_count": null,
   "metadata": {},
   "outputs": [],
   "source": [
    "#load thresholds, rename some columns\n",
    "\n",
    "\n",
    "df_thresh = pd.read_csv(f'{codedir}/Metadata/BM-Her2N75/SNR_jenny_replicates.csv',index_col=0)\n",
    "df_thresh['scene_num'] = 'Scene-' + df_thresh.scene.astype('str')\n",
    "df_thresh['scene'] = df_thresh.tissue\n",
    "df_thresh['minimum'] = df_thresh.threshold\n",
    "d_process = {\n",
    "    'BM-Her2N75':f'{codedir}/Images/tiff',\n",
    " }\n",
    "#results\n",
    "df_result = pd.DataFrame()\n",
    "\n",
    "for idx,(s_sample, s_path) in enumerate(d_process.items()):\n",
    "    df_thresh.index = [item.split('/')[-1] for item in df_thresh.index]\n",
    "    df_thresh['path'] = f'{s_path}/' + df_thresh.slide + '/' + df_thresh.index\n",
    "    df_thresh.index = df_thresh.path\n",
    "    \n",
    "    for s_marker in sorted(set(df_thresh.marker)):\n",
    "        \n",
    "        df_marker = df_thresh[(df_thresh.marker==s_marker)]\n",
    "        print(f'{s_marker}  {len(df_marker)}')\n",
    "        #plot the images\n",
    "        fig = util.array_img(df_marker.sort_values(['scene_num','slide']),s_xlabel='marker',ls_ylabel=['slide','scene_num'],\n",
    "            s_title='scene',tu_array=(3,len(df_marker)//3),tu_fig=(9,8),cmap='inferno',d_crop=d_crop)\n",
    "        #fig.savefig(f'{codedir}/Figures/{s_sample}/Replicate_TissueLoss_Background_{s_marker}.png')\n",
    "        plt.close(fig)\n",
    "        df_marker_thresh,d_mask = util.thresh_meanint(df_marker,d_crop)\n",
    "        df_result =df_result.append(df_marker_thresh)\n",
    "        #plot the mask\n",
    "        fig, ax = plt.subplots(3,len(df_marker)//3,figsize=(10,10))\n",
    "        ax=ax.ravel()\n",
    "        for idx,(s_index, a_mask) in enumerate(d_mask.items()):\n",
    "            ax[idx].imshow(a_mask)\n",
    "            ax[idx].set_title(df_thresh.loc[s_index,'scene'])\n",
    "        #fig.savefig(f'{codedir}/Figures/{s_sample}/Replicate_Thresholding_{s_marker}.png')\n"
   ]
  },
  {
   "cell_type": "code",
   "execution_count": null,
   "metadata": {},
   "outputs": [],
   "source": []
  }
 ],
 "metadata": {
  "kernelspec": {
   "display_name": "Python3.9.5",
   "language": "python",
   "name": "python3.9.5"
  },
  "language_info": {
   "codemirror_mode": {
    "name": "ipython",
    "version": 3
   },
   "file_extension": ".py",
   "mimetype": "text/x-python",
   "name": "python",
   "nbconvert_exporter": "python",
   "pygments_lexer": "ipython3",
   "version": "3.9.5"
  }
 },
 "nbformat": 4,
 "nbformat_minor": 2
}
