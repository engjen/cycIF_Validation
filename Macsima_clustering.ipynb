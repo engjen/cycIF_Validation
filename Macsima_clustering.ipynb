{
 "cells": [
  {
   "cell_type": "markdown",
   "metadata": {},
   "source": [
    "## Cluster Macsima \n",
    "\n",
    "**Samples:** \n",
    "- Breast cancer tissue from Miltenyi \n",
    "\n",
    "**Method**: Leiden clustering"
   ]
  },
  {
   "cell_type": "code",
   "execution_count": null,
   "metadata": {},
   "outputs": [],
   "source": [
    "#load libraries\n",
    "import pandas as pd\n",
    "import matplotlib.pyplot as plt\n",
    "import numpy as np\n",
    "import os\n",
    "import seaborn as sns\n",
    "import scipy\n",
    "import scanpy as sc\n",
    "import matplotlib as mpl\n",
    "mpl.rc('figure', max_open_warning = 0)\n",
    "os.chdir('/home/groups/graylab_share/OMERO.rdsStore/engje/Data/cmIF')\n",
    "from mplex_image import visualize as viz, process, preprocess, normalize, mics, mpimage\n",
    "np.random.seed(121)"
   ]
  },
  {
   "cell_type": "code",
   "execution_count": null,
   "metadata": {},
   "outputs": [],
   "source": [
    "#change to correct directory\n",
    "s_dataset = 'MICS_2020-12-14_19-22-05_OHSU_ValII/run_20201214_jenny'\n",
    "s_dataset = 'MICS_2021-03-04_15-18-22_OHSU_ValIII/run_20210331_jenny'\n",
    "rootdir = f'/home/groups/graylab_share/Chin_Lab/ChinData/Cyclic_Workflow/{s_dataset}'\n",
    "s_date = '20200121'\n",
    "os.chdir(rootdir)\n",
    "%matplotlib inline"
   ]
  },
  {
   "cell_type": "code",
   "execution_count": null,
   "metadata": {},
   "outputs": [],
   "source": [
    "# load data\n",
    "df=pd.read_csv(f'{rootdir}/Segmentation/features_R-1_W-A-1_G-1_FilteredMeanIntensity_.csv',index_col=0)\n",
    "df.columns = [item.split('_')[0] for item in df.columns]\n",
    "len(df)"
   ]
  },
  {
   "cell_type": "code",
   "execution_count": null,
   "metadata": {},
   "outputs": [],
   "source": [
    "df_xy = pd.read_csv(f'{rootdir}/Segmentation/features_R-1_W-A-1_G-1_CentroidXY.csv',index_col=0)\n",
    "df_xy.columns = [item.split('_')[1] for item in df_xy.columns]\n",
    "df = df.merge(df_xy.loc[:,['area','eccentricity']],left_index=True,right_index=True)\n",
    "df = df.astype({'area': 'float64'})"
   ]
  },
  {
   "cell_type": "code",
   "execution_count": null,
   "metadata": {},
   "outputs": [],
   "source": [
    "marker_genes = df.columns[df.dtypes=='float64'].tolist()\n",
    "adata = sc.AnnData(df.loc[:,df.dtypes=='float64'])\n",
    "adata.raw = adata\n",
    "#reduce dimensionality\n",
    "sc.tl.pca(adata, svd_solver='auto')"
   ]
  },
  {
   "cell_type": "code",
   "execution_count": null,
   "metadata": {},
   "outputs": [],
   "source": [
    "fig,ax=plt.subplots(figsize=(3.5,9))\n",
    "sc.pl.highest_expr_genes(adata, n_top=48,ax=ax,save=f'Expression.png')\n",
    "plt.tight_layout()"
   ]
  },
  {
   "cell_type": "code",
   "execution_count": null,
   "metadata": {},
   "outputs": [],
   "source": [
    "sc.pl.pca_variance_ratio(adata, log=True)"
   ]
  },
  {
   "cell_type": "code",
   "execution_count": null,
   "metadata": {},
   "outputs": [],
   "source": [
    "#sc.set_figure_params(scanpy=True, fontsize=14)\n",
    "#df_pearson = pd.DataFrame()\n",
    "marker_genes = df.columns[df.dtypes=='float64'].tolist()\n",
    "adata = sc.AnnData(df.loc[:,df.dtypes=='float64'])\n",
    "adata.raw = adata\n",
    "#reduce dimensionality\n",
    "sc.tl.pca(adata, svd_solver='auto')\n",
    "# calculate neighbors \n",
    "sc.pp.neighbors(adata, n_neighbors=10, n_pcs=31)\n",
    "sc.tl.umap(adata)"
   ]
  },
  {
   "cell_type": "code",
   "execution_count": null,
   "metadata": {},
   "outputs": [],
   "source": [
    "ls_marker = adata.var.index.tolist()"
   ]
  },
  {
   "cell_type": "code",
   "execution_count": null,
   "metadata": {},
   "outputs": [],
   "source": [
    "#umap plot\n",
    "figname = f\"Umap.png\"\n",
    "#fig,ax = plt.subplots(figsize=(5,5), dpi=200)\n",
    "sc.pl.umap(adata, color=ls_marker,wspace=.25,save=figname)"
   ]
  },
  {
   "cell_type": "code",
   "execution_count": null,
   "metadata": {},
   "outputs": [],
   "source": [
    "ls_marker = ['Vimentin','Cytokeratin-7','eccentricity','area','CD45RO','CD3','HLA-DR-DP-DQ',\n",
    " 'Actin-SmoothM']"
   ]
  },
  {
   "cell_type": "code",
   "execution_count": null,
   "metadata": {},
   "outputs": [],
   "source": [
    "#umap plot\n",
    "figname = f\"Umap_select.png\"\n",
    "#fig,ax = plt.subplots(figsize=(5,5), dpi=200)\n",
    "sc.pl.umap(adata, color=ls_marker,wspace=.25,save=figname,vmin='p1.5',vmax='p98.5',ncols=3)"
   ]
  },
  {
   "cell_type": "code",
   "execution_count": null,
   "metadata": {},
   "outputs": [],
   "source": [
    "#leiden\n",
    "sc.tl.leiden(adata,resolution=0.6)\n",
    "fig,ax = plt.subplots(figsize=(3,3),dpi=200)\n",
    "figname=f'leiden.png'\n",
    "sc.pl.umap(adata, color='leiden',ax=ax,save=figname)"
   ]
  },
  {
   "cell_type": "code",
   "execution_count": null,
   "metadata": {},
   "outputs": [],
   "source": [
    "adata_select = adata[adata.obs.leiden!='14',:]\n",
    "sc.tl.dendrogram(adata_select,groupby='leiden')"
   ]
  },
  {
   "cell_type": "code",
   "execution_count": null,
   "metadata": {},
   "outputs": [],
   "source": [
    "df_a = pd.read_csv(f'{rootdir}/Segmentation/macsima.csv',index_col=0)\n",
    "lut = dict(zip(set(df_a.Expr),palette))\n",
    "col_colors = df_a.Expr.map(lut)\n",
    "palette = sns.color_palette()\n",
    "sns.palplot(palette)"
   ]
  },
  {
   "cell_type": "code",
   "execution_count": null,
   "metadata": {},
   "outputs": [],
   "source": [
    "lut"
   ]
  },
  {
   "cell_type": "code",
   "execution_count": null,
   "metadata": {},
   "outputs": [],
   "source": [
    "df_p = pd.DataFrame(data=adata_select.raw.X,index=adata_select.obs.index,columns=adata_select.var.index)\n",
    "df_p['leiden'] = adata_select.obs['leiden']\n",
    "g = sns.clustermap(df_p.groupby('leiden').mean(),z_score=1,figsize=(14,6),cmap='viridis',\n",
    "                   vmin=-1.5,vmax=1.5, col_colors=col_colors) #cbar_kws={'center':0}\n",
    "g.savefig(f'{rootdir}/figures/clustermap.png')\n",
    "marker_genes = df_p.groupby('leiden').mean().iloc[:,g.dendrogram_col.reordered_ind].columns.tolist()\n",
    "categories_order = df_p.groupby('leiden').mean().iloc[g.dendrogram_row.reordered_ind,:].index.tolist()"
   ]
  },
  {
   "cell_type": "code",
   "execution_count": null,
   "metadata": {},
   "outputs": [],
   "source": [
    "fig,ax = plt.subplots(figsize=(9,4), dpi=200)\n",
    "figname=f'Matrixplot_leiden.png'\n",
    "sc.pl.matrixplot(adata_select, var_names=marker_genes, groupby=f'leiden',title='',categories_order=categories_order,\n",
    "                 ax=ax,save=figname,standard_scale='var',colorbar_title='Relative\\nintensity',\n",
    "                var_group_positions=[(3,23),(24,31),(32,42),(43,51)],\n",
    "                 var_group_labels=['tumor','T-cell','muscle\\n +AF','immune\\n+stroma'],\n",
    "                var_group_rotation=0)"
   ]
  },
  {
   "cell_type": "code",
   "execution_count": null,
   "metadata": {},
   "outputs": [],
   "source": [
    "\n",
    "df_p['scene'] = [item.split('_')[2] for item in df_p.index]\n",
    "df_prop = (df_p.groupby([f'leiden','scene']).CD3.count())/(df_p.groupby(['scene']).CD3.count())\n",
    "df_prop = df_prop.unstack().fillna(value=0).T\n",
    "#barplot\n",
    "fig,ax=plt.subplots(figsize=(3,3), dpi=200)\n",
    "df_prop.plot(kind='bar',stacked=True,ax=ax,legend=True,cmap='tab20',width=.8)\n",
    "ax.set_ylabel('Fraction Positive')\n",
    "ax.legend(bbox_to_anchor=(1.02, .9), ncol=2,fontsize=10)\n",
    "plt.tight_layout()\n",
    "ax.set_title(f\"Cluster Composition\")\n",
    "fig.savefig(f'./figures/StackedBar_Leiden.png')"
   ]
  },
  {
   "cell_type": "code",
   "execution_count": null,
   "metadata": {},
   "outputs": [],
   "source": [
    "#df_p.to_csv(f'{rootdir}/Segmentation/R-1_W-A-1_G-1_Leiden.csv')"
   ]
  },
  {
   "cell_type": "code",
   "execution_count": null,
   "metadata": {},
   "outputs": [],
   "source": [
    "df = pd.read_csv(f'{rootdir}/Segmentation/R-1_W-A-1_G-1_Leiden.csv',index_col=0)\n",
    "df['slide_scene'] = 'R-1_W-A-1_' + df.scene\n",
    "#df.head()\n",
    "df_xy['slide_scene'] = df_xy.scene\n",
    "df_xy['DAPI_Y'] = df_xy.Y\n",
    "df_xy['DAPI_X'] = df_xy.X\n",
    "#df_xy.head()"
   ]
  },
  {
   "cell_type": "code",
   "execution_count": null,
   "metadata": {},
   "outputs": [],
   "source": [
    "ls_fig = viz.plot_clusters(df,df_xy)\n",
    "for idx, fig in enumerate(ls_fig):\n",
    "    ls_fig['R-1_W-A-1_G-1'].savefig(f'{rootdir}/QC/SpatialPlots__Leiden.png')\n",
    "    plt.show(fig)"
   ]
  },
  {
   "cell_type": "code",
   "execution_count": null,
   "metadata": {},
   "outputs": [],
   "source": [
    "os.chdir(f'{rootdir}/RegisteredImages/R-1_W-A-1_G-1')\n",
    "df_img = mics.parse_org()"
   ]
  },
  {
   "cell_type": "code",
   "execution_count": null,
   "metadata": {},
   "outputs": [],
   "source": [
    "#d_annot = {0:'tumor',1:'stroma',2:'tumor',3:'tumor',4:'tumor',5:'stroma'\n",
    "# 6:'stroma',7:'muscle',8:'Tcell'} #resolution = 0.4\n",
    "d_annot= {'tumor':[1,2,4,5,6,8,10,12],\n",
    "         'stroma':[0,3,7,9,13],\n",
    "         'muscle':[11]}"
   ]
  },
  {
   "cell_type": "code",
   "execution_count": null,
   "metadata": {},
   "outputs": [],
   "source": [
    "ls_marker = df.columns[df.dtypes=='float64'].tolist()\n",
    "ls_marker.remove('DAPI0')\n",
    "ls_marker.remove('DAPI24')\n",
    "ls_marker.remove('area')\n",
    "ls_marker.remove('eccentricity')"
   ]
  },
  {
   "cell_type": "code",
   "execution_count": null,
   "metadata": {},
   "outputs": [],
   "source": [
    "for s_marker in df.columns[df.dtypes=='float64'].tolist():\n",
    "    if s_marker == 'eccentricity':\n",
    "        pass\n",
    "    elif s_marker == 'area':\n",
    "        pass    \n",
    "    elif s_marker.find('DAPI') > -1:\n",
    "        pass    \n",
    "    else:\n",
    "        try:\n",
    "            s_channel = df_img[df_img.marker==s_marker].channel[0]\n",
    "        except IndexError:\n",
    "            pass\n",
    "        fig,ax = plt.subplots(figsize=(3,2))\n",
    "        for idx,(s_part,ls_ids) in enumerate(d_annot.items()):\n",
    "            se_mi = df.loc[df.leiden.isin(ls_ids),s_marker]\n",
    "            x = df.loc[df.leiden.isin(ls_ids),f'autofluorescence-{s_channel}'].median()\n",
    "            ax.hist(se_mi,bins=50,alpha=0.4, color=f'C{idx}',label=s_part)\n",
    "            #ax.vlines(x=x, ymin=0, ymax=ax.get_ylim()[1], colors=f'C{idx}', linestyles='dashed')\n",
    "        ax.set_yscale('log')\n",
    "        ax.legend()\n",
    "        ax.set_title(s_marker)\n",
    "        plt.tight_layout()\n",
    "        fig.savefig(f'{rootdir}/figures/no_lines_histogram_{s_marker}.png')\n",
    "        #break"
   ]
  },
  {
   "cell_type": "code",
   "execution_count": null,
   "metadata": {},
   "outputs": [],
   "source": [
    "#1\n",
    "fig,ax = plt.subplots(4,6,figsize=(12,7))\n",
    "ax=ax.ravel()\n",
    "for idxs,s_marker in enumerate(ls_marker[:24]):\n",
    "    try:\n",
    "        s_channel = df_img[df_img.marker==s_marker].channel[0]\n",
    "    except IndexError:\n",
    "        pass\n",
    "    for idx,(s_part,ls_ids) in enumerate(d_annot.items()):\n",
    "        se_mi = df.loc[df.leiden.isin(ls_ids),s_marker]\n",
    "        ax[idxs].hist(se_mi,bins=50,alpha=0.4, color=f'C{idx}',label=s_part)\n",
    "    if not idxs == 23:\n",
    "        ax[idxs].legend('',frameon=False)\n",
    "    else:\n",
    "        ax[idxs].legend()\n",
    "    ax[idxs].set_yscale('log')\n",
    "    ax[idxs].set_title(s_marker)\n",
    "plt.tight_layout()\n",
    "fig.savefig(f'{rootdir}/figures/histogramI.png')"
   ]
  },
  {
   "cell_type": "code",
   "execution_count": null,
   "metadata": {},
   "outputs": [],
   "source": [
    "#2\n",
    "fig,ax = plt.subplots(4,6,figsize=(12,7))\n",
    "ax=ax.ravel()\n",
    "for idxs,s_marker in enumerate(ls_marker[24:]):\n",
    "    try:\n",
    "        s_channel = df_img[df_img.marker==s_marker].channel[0]\n",
    "    except IndexError:\n",
    "        pass\n",
    "    for idx,(s_part,ls_ids) in enumerate(d_annot.items()):\n",
    "        se_mi = df.loc[df.leiden.isin(ls_ids),s_marker]\n",
    "        ax[idxs].hist(se_mi,bins=50,alpha=0.4, color=f'C{idx}',label=s_part)\n",
    "    if not idxs == 23:\n",
    "        ax[idxs].legend('',frameon=False)\n",
    "    else:\n",
    "        ax[idxs].legend()\n",
    "    ax[idxs].set_yscale('log')\n",
    "    ax[idxs].set_title(s_marker)\n",
    "plt.tight_layout()\n",
    "fig.savefig(f'{rootdir}/figures/histogramII.png')"
   ]
  },
  {
   "cell_type": "markdown",
   "metadata": {},
   "source": [
    "# normalize"
   ]
  },
  {
   "cell_type": "code",
   "execution_count": null,
   "metadata": {},
   "outputs": [],
   "source": [
    "def plot_histograms(df_norm,df,s_train,s_tissue):\n",
    "    df_norm['batch'] = [item.split('_')[0] for item in df_norm.index]\n",
    "    bins=50\n",
    "    for s_marker in df_norm.columns[df_norm.dtypes=='float64']:\n",
    "        #print(s_marker)\n",
    "        fig,ax=plt.subplots(figsize = (3,2))\n",
    "        for idxs, s_batch in enumerate(sorted(set(df_norm.batch))):\n",
    "            df_batch = df_norm[(df_norm.batch==s_batch)].loc[:,s_marker] \n",
    "            if len(df_batch.dropna()) == 0:\n",
    "                continue\n",
    "            ax.hist(df.loc[df.index.str.contains(s_batch),s_marker],bins=bins,alpha=0.4, color=f'C{idxs}')\n",
    "            #ax[1].hist(df_batch,bins=bins,alpha=0.4, color=f'C{idxs}',label=s_batch)\n",
    "            ax.set_yscale('log')\n",
    "            #ax[1].set_yscale('log')\n",
    "            ax.set_title(f'{s_marker.split(\"_\")[0]}: Raw Data')\n",
    "            #ax[1].set_title(f'{s_marker.split(\"_\")[0]}: Combat')\n",
    "            #ax.legend()\n",
    "        plt.tight_layout()\n",
    "        fig.savefig(f'{rootdir}/figures/{s_date}/Different_Scaling_combat_training_{s_train}_{s_marker}_{s_tissue}.png')\n",
    "        #break\n",
    "#all cores\n",
    "data = df.loc[:,df.dtypes=='float64'].T\n",
    "batch = df.slide\n",
    "gamma_star, delta_star = normalize.combat_fit(data, batch)\n",
    "#transform\n",
    "bayesdata = normalize.combat_transform(data,batch,gamma_star, delta_star)\n",
    "df_norm=bayesdata.T\n",
    "s_train='all'\n",
    "s_tissue = 'all'\n",
    "plot_histograms(df_norm,df,s_train,s_tissue)"
   ]
  },
  {
   "cell_type": "markdown",
   "metadata": {},
   "source": [
    "# visualize"
   ]
  },
  {
   "cell_type": "code",
   "execution_count": null,
   "metadata": {},
   "outputs": [],
   "source": [
    "#change to correct directory\n",
    "s_dataset = 'MICS_2020-12-14_19-22-05_OHSU_ValII/run_20201214_jenny'\n",
    "s_dataset = 'MICS_2021-03-04_15-18-22_OHSU_ValIII/run_20210331_jenny'\n",
    "rootdir = f'/home/groups/graylab_share/Chin_Lab/ChinData/Cyclic_Workflow/{s_dataset}'\n",
    "s_date = '20200121'\n",
    "os.chdir(rootdir)\n",
    "%matplotlib inline"
   ]
  },
  {
   "cell_type": "code",
   "execution_count": null,
   "metadata": {},
   "outputs": [],
   "source": [
    "#visualization\n",
    "%matplotlib inline\n",
    "import warnings;\n",
    "warnings.filterwarnings('ignore')\n",
    "os.chdir(f'{rootdir}/RegisteredImages/R-1_W-A-1_G-1/')\n",
    "#antibody order: double application (K157), original (K154), optimized (K175)\n",
    "d_crop ={#'G-1':(3024,1350,1800,900),\n",
    "         #'G-1':(3300,1500,1200,800), #valII\n",
    "         'G-1':(2800,1300,1200,800), #valIII\n",
    "  }\n",
    "os.chdir(f'{rootdir}/RegisteredImages/R-1_W-A-1_G-1/')\n",
    "df_img = mics.parse_org()\n",
    "df_img[' '] = df_img.channel\n",
    "tu_array=(1,1)\n",
    "tu_fig=(6,4.3)\n",
    "#make arrays\n",
    "for s_index in df_img.index: \n",
    "    s_marker = df_img.loc[s_index,'marker']\n",
    "    s_scene = df_img.loc[s_index,'scene']\n",
    "    s_round = df_img.loc[s_index,'rounds']\n",
    "    if s_marker == 'DAPI':\n",
    "        continue\n",
    "    df_dapi = df_img[(df_img.scene==s_scene) & (df_img.rounds=='R24') & (df_img.color == 'c1')]\n",
    "    df_et = df_img[df_img.index==s_index]\n",
    "    #print(f'{s_marker}  {len(df_et)}')\n",
    "    tu_crop = d_crop[s_scene]\n",
    "    if s_marker == 'CD44':\n",
    "        tu_crop = (tu_crop[0] + 2400, tu_crop[1], tu_crop[2], tu_crop[3]) #1500 valII\n",
    "    elif s_marker == 'CD8':\n",
    "        tu_crop = (tu_crop[0], tu_crop[1] - 800, tu_crop[2], tu_crop[3]) #1500 valII\n",
    "    #visualize IF roi\n",
    "    tu_rescale = (0,0)\n",
    "    if s_marker == 'CD8':\n",
    "        tu_rescale=(0,2500)\n",
    "    fig, ax = mpimage.array_roi_if(df_et,df_dapi,s_label='rounds',s_title=s_marker,tu_crop=tu_crop,\n",
    "            tu_array=tu_array,tu_fig=tu_fig,tu_rescale=tu_rescale,i_expnorm=0)\n",
    "    fig.savefig(f'{rootdir}/QC/{s_round}_{s_scene}_{s_marker}_pixelunits.png')\n",
    "    #break"
   ]
  },
  {
   "cell_type": "markdown",
   "metadata": {},
   "source": [
    "## data analysis"
   ]
  },
  {
   "cell_type": "code",
   "execution_count": null,
   "metadata": {},
   "outputs": [],
   "source": [
    "os.chdir('/home/groups/graylab_share/OMERO.rdsStore/engje/Data/cycIF_ValidationStudies/cycIF_Validation')"
   ]
  },
  {
   "cell_type": "code",
   "execution_count": null,
   "metadata": {},
   "outputs": [],
   "source": [
    "df_mi = pd.DataFrame()\n",
    "for s_val in ['ValII','ValIII']:\n",
    "    df = pd.read_csv(f'Data/features_{s_val}_FilteredMeanIntensity_.csv',index_col=0)\n",
    "    df['slide'] = s_val\n",
    "    df_mi=df_mi.append(df)\n",
    "df_mi = df_mi.loc[:,df_mi.isna().sum()==0]"
   ]
  },
  {
   "cell_type": "code",
   "execution_count": null,
   "metadata": {},
   "outputs": [],
   "source": [
    "df_img = pd.DataFrame()\n",
    "for s_val in ['ValII','ValIII']:\n",
    "    df = pd.read_csv(f'Data/Marker_Round_Table_{s_val}.csv',index_col=0)\n",
    "    df['slide'] = s_val\n",
    "    df_img=df_img.append(df)"
   ]
  },
  {
   "cell_type": "code",
   "execution_count": null,
   "metadata": {},
   "outputs": [],
   "source": [
    "df_img = df_img[df_img.rounds!='R24']"
   ]
  },
  {
   "cell_type": "code",
   "execution_count": null,
   "metadata": {},
   "outputs": [],
   "source": [
    "for s_marker in df_mi.columns[df_mi.dtypes=='float64']:\n",
    "    if len(df_img[(df_img.marker==s_marker.split('_')[0])&(df_img.slide==s_val)])>0:\n",
    "        fig, ax = plt.subplots(figsize=(3,2.5),dpi=200)\n",
    "        for s_val in ['ValII','ValIII']:        \n",
    "            i_max = np.quantile(df_mi.loc[:,s_marker],.998)\n",
    "            s_label = df_img[(df_img.marker==s_marker.split('_')[0])&(df_img.slide==s_val)].rounds[0]\n",
    "            sns.kdeplot(df_mi.loc[df_mi.slide==s_val,s_marker],ax=ax,shade=True,label=s_label,alpha=0.4,clip=(0,i_max))                       \n",
    "            ax.legend()\n",
    "            ax.set_title(f'{s_marker.split(\"_\")[0]}')\n",
    "            ax.set_yticklabels('')\n",
    "            ax.set_xlabel('Intensity')\n",
    "            ax.set_xlim(0,i_max)\n",
    "        plt.tight_layout()\n",
    "        fig.savefig(f'Figures/Macsima_{s_marker}_kde.png')"
   ]
  },
  {
   "cell_type": "code",
   "execution_count": null,
   "metadata": {},
   "outputs": [],
   "source": [
    "#CD8 BG from napari\n",
    "df_result = pd.DataFrame()\n",
    "for s_val in ['ValII','ValIII']:\n",
    "    for s_gr in ['bg','fg']:\n",
    "        df = pd.read_csv(f'Data/result_{s_val}_CD8_{s_gr}.csv',index_col=0)\n",
    "        df['panel'] = s_val\n",
    "        df['region'] = s_gr\n",
    "        df_result = df_result.append(df)"
   ]
  },
  {
   "cell_type": "code",
   "execution_count": null,
   "metadata": {},
   "outputs": [],
   "source": [
    "df_result['mean_intensity'] = df_result.mean_intensity*256"
   ]
  },
  {
   "cell_type": "code",
   "execution_count": null,
   "metadata": {},
   "outputs": [],
   "source": [
    "fig, ax = plt.subplots(figsize=(3,2.5),dpi=150)\n",
    "sns.boxplot(x='panel', y='mean_intensity', hue='region', data=df_result, fliersize=0, ax=ax)\n",
    "#sns.stripplot(x='panel', y='mean_intensity', hue='region', data=df_result,ax=ax,palette='dark')\n",
    "ax.legend(bbox_to_anchor=(.79,.35)) #loc=4\n",
    "ax.set_title('CD8 Signal-to-Background')\n",
    "ax.set_xticklabels(['R6','R17'])\n",
    "plt.tight_layout()\n",
    "fig.savefig('./Figures/MICS_CD8_SBR.png')"
   ]
  },
  {
   "cell_type": "code",
   "execution_count": null,
   "metadata": {},
   "outputs": [],
   "source": []
  }
 ],
 "metadata": {
  "kernelspec": {
   "display_name": "Python3.9.5",
   "language": "python",
   "name": "python3.9.5"
  },
  "language_info": {
   "codemirror_mode": {
    "name": "ipython",
    "version": 3
   },
   "file_extension": ".py",
   "mimetype": "text/x-python",
   "name": "python",
   "nbconvert_exporter": "python",
   "pygments_lexer": "ipython3",
   "version": "3.9.5"
  }
 },
 "nbformat": 4,
 "nbformat_minor": 4
}
