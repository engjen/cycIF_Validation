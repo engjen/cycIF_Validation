{
 "cells": [
  {
   "cell_type": "markdown",
   "metadata": {},
   "source": [
    "# Comparison of Last Round AF Subtraction vs. Combined First and Last\n",
    "\n",
    "**Question:** How should blank images be used for AF subtraction? The last round qunched image can be used, to minimize over subtraction. Or, based on the round, a combination of round zero and last round (\"scaled\") may be used.\n",
    "\n",
    "**Samples:** \n",
    "- Tissue ID 44290: HER2+/ER+ breast cancer. Section 146 stained with a 8 round cyclic IF protocol, blank images collected at round 0 (after a pre-quenching step) and after R8 stain and quench.\n",
    "\n",
    "**Method**: AF subtraction performed with two conditions (above), and single cell intensity features were extracted from each image set and analyzed."
   ]
  },
  {
   "cell_type": "markdown",
   "metadata": {},
   "source": [
    "### reviewer comments\n",
    "\n",
    "AF subtraction only showed marginal difference, as shown in Ext Fig 5, with few markers. Why? Any possibility of overcompensation and over-subtraction? \n",
    "\n",
    "Can the authors provide more guidance on when to implement scaled vs. baseline algorithm for autofluorescence subtraction? (**show more example images?**)\n",
    "\n",
    "based on the results shown in figure 2.g, the assumption that AF decays linearly for other components seems to be oversimplifying. Image intensities are affected by a large series of variables including: noise caused by imperfections in image acquisition (see: https://ieeexplore.ieee.org/document/5590292) This might affect markers with low SNR where true positives are slightly above background. \n",
    "\n",
    "but what do they consider as “false negative”? No definition is given.\n"
   ]
  },
  {
   "cell_type": "code",
   "execution_count": null,
   "metadata": {},
   "outputs": [],
   "source": [
    "#load libraries\n",
    "import pandas as pd\n",
    "import matplotlib.pyplot as plt\n",
    "import matplotlib\n",
    "import numpy as np\n",
    "import os\n",
    "import copy\n",
    "import seaborn as sns\n",
    "matplotlib.rcParams.update({'font.size': 22})\n",
    "import numpy as np\n",
    "import json\n",
    "from scipy import stats"
   ]
  },
  {
   "cell_type": "markdown",
   "metadata": {},
   "source": [
    "# AF Subtraction Scaled vs R8Q Analysis Steps\n",
    "\n",
    "1. threshold and annotate subtracted data R8Q to get positive ground truth\n",
    "\n",
    "2. Compare to positve calls when same thresholds are applied to the scaled AF subtracted images\n",
    "\n",
    "3. calculate F1: TP/TP + 1/2(FP + FN)\n"
   ]
  },
  {
   "cell_type": "markdown",
   "metadata": {},
   "source": [
    "## Load Data\n"
   ]
  },
  {
   "cell_type": "code",
   "execution_count": null,
   "metadata": {},
   "outputs": [],
   "source": [
    "#set location of files\n",
    "#os.chdir('/home/groups/graylab_share/OMERO.rdsStore/engje/Data/cycIF_ValidationStudies/cycIF_Validation')\n",
    "codedir = os.getcwd()"
   ]
  },
  {
   "cell_type": "code",
   "execution_count": null,
   "metadata": {},
   "outputs": [],
   "source": [
    "#based on R8Q subtraction\n",
    "df_pos = pd.read_csv(\n",
    "        f'{codedir}/Data/20200826_BC44290-146_ManualPositive.csv',\n",
    "        index_col=0\n",
    "    )\n",
    "#df_pos.head()"
   ]
  },
  {
   "cell_type": "code",
   "execution_count": null,
   "metadata": {},
   "outputs": [],
   "source": [
    "# AF subtracted images version\n",
    "df_pos_scale = pd.read_csv(\n",
    "        f'{codedir}/Data/20200911_BC44290-146_ManualPositive.csv',\n",
    "        index_col=0\n",
    "    )"
   ]
  },
  {
   "cell_type": "code",
   "execution_count": null,
   "metadata": {},
   "outputs": [],
   "source": [
    "#channel metadata\n",
    "df_t = pd.read_csv(f'{codedir}/Metadata/44290-146/metadata_BC44290-146_RoundsCyclesTable_ExposureTimes.csv',\n",
    "                  index_col=0)"
   ]
  },
  {
   "cell_type": "code",
   "execution_count": null,
   "metadata": {},
   "outputs": [],
   "source": [
    "df_edge = pd.read_csv(f'{codedir}/Data/features_BC44290-146_EdgeCells308pixels_CentroidXY.csv', index_col=0)\n",
    "#drop edge cells\n",
    "df_pos_scale = df_pos_scale[~df_pos_scale.index.isin(df_edge.index.tolist())]\n",
    "df_pos = df_pos[~df_pos.index.isin(df_edge.index.tolist())]"
   ]
  },
  {
   "cell_type": "markdown",
   "metadata": {},
   "source": [
    "## False Postives\n",
    "\n",
    "These are eay to calculate across entire tissue, by using a threshold on the AF images (Round 0) to determine bright autofluorescent cells."
   ]
  },
  {
   "cell_type": "code",
   "execution_count": null,
   "metadata": {},
   "outputs": [],
   "source": [
    "#cell types\n",
    "\n",
    "#define AF\n",
    "ls_af = ['R0c2_Nuclei','R0c3_Nuclei','R0c4_Nuclei','R0c2_Ring','R0c3_Ring','R0c4_Ring'] \n",
    "df_pos['AF'] = df_pos.loc[:,ls_af].sum(axis=1)>=1 \n"
   ]
  },
  {
   "cell_type": "code",
   "execution_count": null,
   "metadata": {},
   "outputs": [],
   "source": [
    "#Whole tissue false positive\n",
    "ls_marker = df_t[(df_t.colors!='c5') & ~df_t.rounds.isin(['R0','R8Q'])& ~df_t.index.isin(['CD20'])].index\n",
    "for s_marker in ls_marker:\n",
    "    if df_pos_scale.loc[:,df_pos_scale.columns.str.contains(f'{s_marker}_')].shape[1] > 0:\n",
    "        #print(s_marker)\n",
    "        df_marker = df_pos.loc[:,df_pos.columns.str.contains(f'{s_marker}_')]\n",
    "        df_scale = df_pos_scale.loc[:,df_pos_scale.columns.str.contains(f'{s_marker}_')]\n",
    "        df_fp = df_marker[(df_marker.iloc[:,0]==True) & (df_pos.loc[:,'AF']==True)]\n",
    "        df_tp = df_marker[(df_marker.iloc[:,0]==True) & (df_pos.loc[:,'AF']==False)]\n",
    "        df_t.loc[s_marker,'R8Q_FP'] = len(df_fp)\n",
    "        df_fn = df_scale[(df_scale.iloc[:,0]==False) & (df_marker.iloc[:,0]==True) & (df_pos.loc[:,'AF']==False)]\n",
    "        df_tp_scale = df_scale[(df_scale.iloc[:,0]==True) & (df_marker.iloc[:,0]==True) & (df_pos.loc[:,'AF']==False)]\n",
    "        df_fp_scale = df_scale[(df_scale.iloc[:,0]==True) & (df_pos.loc[:,'AF']==True)]\n",
    "        df_t.loc[s_marker,'Scaled_FP'] = len(df_fp_scale)\n",
    "        #these may be fales neg/ or true neg. need to annotate sinlge cells in Napari\n",
    "        df_t.loc[s_marker,'Scaled_FN'] = len(df_fn)\n",
    "        df_pos[f'{s_marker}_FalseNegative'] = ((df_scale.iloc[:,0]==False) & (df_marker.iloc[:,0]==True) & (df_pos.loc[:,'AF']==False))\n",
    "        f1_baseline = df_tp.sum()[0]/(df_tp.sum()[0] + 0.5*(len(df_fp)))\n",
    "        f1_scale = df_tp_scale.sum()[0]/(df_tp_scale.sum()[0] + 0.5*(len(df_fp_scale) + len(df_fn)))\n",
    "        #print(f1_baseline)\n",
    "        #print(f1_scale)\n",
    "    "
   ]
  },
  {
   "cell_type": "code",
   "execution_count": null,
   "metadata": {},
   "outputs": [],
   "source": [
    "df_t['Diff'] = df_t.R8Q_FP - df_t.Scaled_FP"
   ]
  },
  {
   "cell_type": "code",
   "execution_count": null,
   "metadata": {},
   "outputs": [],
   "source": [
    "#plot false positives\n",
    "ls_labels = df_t.loc[ls_marker,:].sort_values('R8Q_FP',ascending=False).loc[:,['R8Q_FP','Scaled_FP']].dropna().index.tolist()\n",
    "ls_labels.insert(0,'')\n",
    "fig, ax = plt.subplots(figsize=(14,5),dpi=200)\n",
    "df_t.loc[ls_marker,:].sort_values('R8Q_FP',ascending=False).loc[:,['R8Q_FP','Scaled_FP']].dropna().plot(ax=ax,rot=90,alpha=0.8)\n",
    "ax.xaxis.set_major_locator(plt.MaxNLocator(22))\n",
    "ax.set_xticklabels(ls_labels)\n",
    "ax.set_title('False Positives in Tissue')\n",
    "ax.set_ylabel('No. of Cells')\n",
    "ax.set_xlabel('Marker')\n",
    "ax.legend(['Baseline','Scaled'])\n",
    "plt.tight_layout()\n",
    "fig.savefig(f'{codedir}/Figures/44290-146/ScaledvsR8Q_44290_lineplot.png')"
   ]
  },
  {
   "cell_type": "code",
   "execution_count": null,
   "metadata": {},
   "outputs": [],
   "source": [
    "ls_marker = ['CD8', 'CD4', 'PCNA', 'HER2', 'ER', 'pHH3', 'CK14', 'CD44', \n",
    "       'CK7', 'PD1', 'aSMA', 'CD68', 'Ki67', 'CK17', 'PDPN', 'CD31', \n",
    "       'CD8R', 'CD4R',  'AR']\n",
    "#'Vim','LamB1',# segmentation of nuclear envelope and fibroblasts not very good, these FP are unreliable"
   ]
  },
  {
   "cell_type": "code",
   "execution_count": null,
   "metadata": {},
   "outputs": [],
   "source": [
    "#not significant in this tissue\n",
    "stat, p = stats.mannwhitneyu(x=df_t.loc[ls_marker,'R8Q_FP'].values, y=df_t.loc[ls_marker,'Scaled_FP'].values)\n",
    "p"
   ]
  },
  {
   "cell_type": "code",
   "execution_count": null,
   "metadata": {},
   "outputs": [],
   "source": [
    "#plot false positives\n",
    "fig, ax = plt.subplots(figsize=(5,5),dpi=200)\n",
    "df_long = df_t.loc[ls_marker,['R8Q_FP','Scaled_FP']].melt()\n",
    "sns.boxplot(data=df_long,x='variable',y='value',showfliers=False, boxprops=dict(alpha=.7))\n",
    "sns.stripplot(data=df_long,x='variable',y='value')\n",
    "ax.set_xticklabels(['Baseline','Scaled'])\n",
    "ax.set_title('False Positives',fontsize=25)\n",
    "ax.set_ylabel('No. of Cells')\n",
    "ax.set_xlabel('Strategy')\n",
    "#ax.legend(['Baseline','Scaled'])\n",
    "plt.tight_layout()\n",
    "fig.savefig(f'{codedir}/Figures/44290-146/ScaledvsR8Q_44290_boxplot.png')\n"
   ]
  },
  {
   "cell_type": "code",
   "execution_count": null,
   "metadata": {},
   "outputs": [],
   "source": [
    "#plot false positives\n",
    "ls_labels = df_t.loc[ls_marker,'Diff'].sort_values(ascending=False).dropna().index.tolist()\n",
    "ls_labels.insert(0,'')\n",
    "fig, ax = plt.subplots(figsize=(14,5),dpi=200)\n",
    "df_t.loc[ls_marker,'Diff'].sort_values(ascending=False).dropna().plot(ax=ax,rot=90,alpha=0.8)\n",
    "ax.xaxis.set_major_locator(plt.MaxNLocator(22))\n",
    "ax.set_xticklabels(ls_labels)\n",
    "ax.set_title('False Positives: Baseline - Scaled')\n",
    "ax.set_ylabel('No. of Cells')\n",
    "ax.set_xlabel('Marker')\n",
    "ax.legend(['Difference'])\n",
    "plt.tight_layout()\n",
    "fig.savefig(f'{codedir}/Figures/44290-146/ScaledvsR8Q_diff_44290_lineplot.png')"
   ]
  },
  {
   "cell_type": "markdown",
   "metadata": {},
   "source": [
    "# Single Cell Annotation of False Negatives\n",
    "\n",
    "Calling false negatives requires comparing images and labels in Napari, here. Only 2000 X 2000 pixel ROIs were analyzed"
   ]
  },
  {
   "cell_type": "code",
   "execution_count": null,
   "metadata": {},
   "outputs": [],
   "source": [
    "#save potential false negatives for annotation\n",
    "#df_pos.to_csv(f'{codedir}/Data/20200911_BC44290-146_PositiveNegative.csv')"
   ]
  },
  {
   "cell_type": "code",
   "execution_count": null,
   "metadata": {},
   "outputs": [],
   "source": [
    "#load annotated (in Napari)\n",
    "dd_result = {}\n",
    "for s_crop in ['x2000y5000','x2000y7000','x1800y9000']:\n",
    "    with open(f'{codedir}/Data/TrueNegatives_CellIDs_44290-146_scaledAF_{s_crop}.json','r') as f:\n",
    "        d_result = json.load(f)\n",
    "    dd_result.update({s_crop:d_result})"
   ]
  },
  {
   "cell_type": "code",
   "execution_count": null,
   "metadata": {},
   "outputs": [],
   "source": [
    "d_index = {}\n",
    "for s_crop in ['x2000y5000','x2000y7000','x1800y9000']:\n",
    "    idx_x = df_pos[(df_pos.DAPI_X > int(s_crop.split('x')[1].split('y')[0])) & (df_pos.DAPI_X < (2000 + int(s_crop.split('x')[1].split('y')[0])))].index\n",
    "    idx_y =df_pos[(df_pos.DAPI_Y > int(s_crop.split('y')[1])) & (df_pos.DAPI_Y < (2000 + int(s_crop.split('y')[1])))].index\n",
    "    index_crop = idx_x.intersection(idx_y)\n",
    "    d_index.update({s_crop:index_crop})"
   ]
  },
  {
   "cell_type": "code",
   "execution_count": null,
   "metadata": {},
   "outputs": [],
   "source": [
    "#calculate F1 in annotated crop\n",
    "df_result = pd.DataFrame()\n",
    "ls_marker = df_t[(df_t.colors!='c5') & ~df_t.rounds.isin(['R0','R8Q'])& ~df_t.index.isin(['LamB1','Vim','CD20'])].index\n",
    "for s_marker in ls_marker:\n",
    "    for s_crop, d_result in dd_result.items():\n",
    "        index_crop = d_index[s_crop]\n",
    "        if df_pos_scale.loc[:,df_pos_scale.columns.str.contains(f'{s_marker}_')].shape[1] > 0:\n",
    "            df_marker = df_pos.loc[index_crop,df_pos.columns.str.contains(f'{s_marker}_')]\n",
    "            df_scale = df_pos_scale.loc[index_crop,df_pos_scale.columns.str.contains(f'{s_marker}_')]\n",
    "            df_fp = df_marker[(df_marker.iloc[:,0]==True) & (df_pos.loc[index_crop,'AF']==True)]\n",
    "            df_tp = df_marker[(df_marker.iloc[:,0]==True) & (df_pos.loc[index_crop,'AF']==False)]\n",
    "            df_t.loc[s_marker,'R8Q_FP'] = len(df_fp)\n",
    "            df_fn = df_scale[(df_scale.iloc[:,0]==False) & (df_marker.iloc[:,0]==True) & (df_pos.loc[index_crop,'AF']==False)]\n",
    "            df_tp_scale = df_scale[(df_scale.iloc[:,0]==True) & (df_marker.iloc[:,0]==True) & (df_pos.loc[index_crop,'AF']==False)]\n",
    "            df_fp_scale = df_scale[(df_scale.iloc[:,0]==True) & (df_pos.loc[index_crop,'AF']==True)]\n",
    "            df_t.loc[s_marker,'Scaled_FP'] = len(df_fp_scale)\n",
    "            #these may be fales neg/ or true neg. need to annotate sinlge cells in Napari\n",
    "            if len(set(d_result.keys()).intersection(set([s_marker.split('_')[0]]))) > 0:\n",
    "                print(s_marker)\n",
    "                i_fn = len(d_result[s_marker.split('_')[0]])\n",
    "            else:\n",
    "                i_fn = 0\n",
    "            df_t.loc[s_marker,'R8Q_FN'] = i_fn\n",
    "            df_t.loc[s_marker,'Scaled_FN'] = len(df_fn) - i_fn\n",
    "            # calculate F1\n",
    "            f1_baseline = df_tp.sum()[0]/(df_tp.sum()[0] + 0.5*(len(df_fp) + i_fn))\n",
    "            f1_scale = df_tp_scale.sum()[0]/(df_tp_scale.sum()[0] + 0.5*(len(df_fp_scale) + len(df_fn) - i_fn))\n",
    "            print(f1_baseline)\n",
    "            print(f1_scale)\n",
    "            df_result.loc[f\"{s_marker.split('_')[0]}_{s_crop}\",'Baseline'] = f1_baseline\n",
    "            df_result.loc[f\"{s_marker.split('_')[0]}_{s_crop}\",'Scaled'] = f1_scale\n",
    "            df_result.loc[f\"{s_marker.split('_')[0]}_{s_crop}\",'Marker'] = s_marker.split('_')[0]\n"
   ]
  },
  {
   "cell_type": "code",
   "execution_count": null,
   "metadata": {},
   "outputs": [],
   "source": [
    "#plot false positives\n",
    "ls_labels = df_result.groupby('Marker').mean().sort_values('Baseline').index.tolist()\n",
    "df_std = df_result.groupby('Marker').std().loc[ls_labels]\n",
    "ls_labels.insert(0,'')\n",
    "fig, ax = plt.subplots(figsize=(14,5),dpi=200)\n",
    "df_result.groupby('Marker').mean().sort_values('Baseline').plot(ax=ax,rot=90,alpha=0.8,yerr=df_std)\n",
    "ax.xaxis.set_major_locator(plt.MaxNLocator(21))\n",
    "ax.set_xticklabels(ls_labels)\n",
    "ax.set_title('Mean F1 Score in ROI (n=3)')\n",
    "ax.set_ylabel('F1')\n",
    "ax.set_xlabel('Marker')\n",
    "plt.tight_layout()\n",
    "fig.savefig(f'{codedir}/Figures/44290-146/ScaledvsR8Q_F1_44290_lineplot.png')\n"
   ]
  },
  {
   "cell_type": "code",
   "execution_count": null,
   "metadata": {},
   "outputs": [],
   "source": [
    "#total cells in 3 rois\n",
    "i_result = 0\n",
    "for s_crop, d_result in dd_result.items():\n",
    "    index_crop = d_index[s_crop]\n",
    "    i_result = i_result + len(index_crop)\n",
    "print(i_result)"
   ]
  },
  {
   "cell_type": "code",
   "execution_count": null,
   "metadata": {},
   "outputs": [],
   "source": [
    "len(ls_labels)"
   ]
  },
  {
   "cell_type": "code",
   "execution_count": null,
   "metadata": {},
   "outputs": [],
   "source": []
  }
 ],
 "metadata": {
  "kernelspec": {
   "display_name": "Python3.8.3",
   "language": "python",
   "name": "python3.8.3"
  },
  "language_info": {
   "codemirror_mode": {
    "name": "ipython",
    "version": 3
   },
   "file_extension": ".py",
   "mimetype": "text/x-python",
   "name": "python",
   "nbconvert_exporter": "python",
   "pygments_lexer": "ipython3",
   "version": "3.8.3"
  }
 },
 "nbformat": 4,
 "nbformat_minor": 2
}
