{
 "cells": [
  {
   "cell_type": "code",
   "execution_count": 1,
   "metadata": {},
   "outputs": [],
   "source": [
    "#load libraries\n",
    "import pandas as pd\n",
    "import matplotlib.pyplot as plt\n",
    "import matplotlib\n",
    "import sys\n",
    "import numpy as np\n",
    "import os\n",
    "from scipy.stats.stats import pearsonr\n",
    "import itertools\n",
    "from scipy import stats\n",
    "import seaborn as sns\n",
    "\n",
    "matplotlib.rcParams.update({'font.size': 12})"
   ]
  },
  {
   "cell_type": "markdown",
   "metadata": {},
   "source": [
    "## Original vs. Optimized Antibody Order\n",
    "\n",
    "\n",
    "round changes, old (K154) to new (K175)\n",
    "\n",
    "same- CK19, ER, HER2\n",
    "\n",
    "CD4 R3 > R7 ***\n",
    "\n",
    "CD8 R1 > R7 ***\n",
    "\n",
    "CD20 R6 > R8 \n",
    "\n",
    "CD31 R4 > R10 ***\n",
    "\n",
    "CD44 R4 < R3 \n",
    "\n",
    "CD45 R2 > R6 ***\n",
    "\n",
    "CD68 R2 > R6 ***\n",
    "\n",
    "CK14 R5 < R1 ***\n",
    "\n",
    "CK5 R2 > R4 \n",
    "\n",
    "CK7 R5 > R6\n",
    "\n",
    "CK8 R9 < R8\n",
    "\n",
    "CK17 R7 > R9\n",
    "\n",
    "ColI R8 > R9\n",
    "\n",
    "ColIV R10 > R8\n",
    "\n",
    "Ecad R3 > R2\n",
    "\n",
    "EGFR R7 < R4 ***\n",
    "\n",
    "FoxP3 R10 < R5 ***\n",
    "\n",
    "GRNZB R7 > R10 ***\n",
    "\n",
    "H3K4 R10 < R9\n",
    "\n",
    "H3K27 R8 > R10\n",
    "\n",
    "Ki67 R5 < R1 ***\n",
    "\n",
    "LamAC R11 < R4 ***\n",
    "\n",
    "LamB1 R11 < R10\n",
    "\n",
    "Lam B2 R11 > R12\n",
    "\n",
    "PCNA R1 > R2\n",
    "\n",
    "PD1 R1 > R6 ***\n",
    "\n",
    "PDPN R8 < R5 ***\n",
    "\n",
    "PgR R5 > R7\n",
    "\n",
    "pAKT R7 < R3 ***\n",
    "\n",
    "pERK R6 < R5\n",
    "\n",
    "pHH3 R6 < R5\n",
    "\n",
    "pRB R9 < R4 ***\n",
    "\n",
    "pS6 R6 > R10 ***\n",
    "\n",
    "Vim R4 > R7 ***\n",
    "\n",
    "\n",
    "*** more than 2 rounds difference\n"
   ]
  },
  {
   "cell_type": "code",
   "execution_count": 2,
   "metadata": {},
   "outputs": [],
   "source": [
    "#set location of files\n",
    "codedir = '/home/groups/graylab_share/OMERO.rdsStore/engje/Data/cycIF_ValidationStudies'"
   ]
  },
  {
   "cell_type": "code",
   "execution_count": 3,
   "metadata": {},
   "outputs": [],
   "source": [
    "#load positive (thresholded using AF subtracted for K154/ non AF sub for K175)\n",
    "df_pos = pd.read_csv(f'{codedir}/Data/Her2B-K154-6S_DAPI11_Nuclei1000_ManualPositive.txt',index_col=0,sep='\\t')\n",
    "df_pos['scene'] = ['scene'+ item.split('_')[1].split('scene0')[1] for item in df_pos.index]\n",
    "\n",
    "df_pos_new = pd.read_csv(f'{codedir}/Data/Her2B-K175_DAPI12_Nuclei1000_ManualPositive.csv',index_col=0)\n",
    "\n",
    "\n",
    "#read in full features (all locations, cells)\n",
    "df_mi = pd.read_csv(f'{codedir}/Data/features_Her2B-K154-6S_MeanIntensity.tsv',index_col=0,sep='\\t')\n",
    "df_mi['scene'] = ['scene'+ item.split('_')[0].split('scene0')[1] for item in df_mi.index]\n",
    "\n",
    "df_mi_new = pd.read_csv(f'{codedir}/Data/features_HER2B-K175_MeanIntensity.tsv',index_col=0,sep='\\t')\n",
    "df_mi_new['scene'] = [item.split('_')[0] for item in df_mi_new.index]"
   ]
  },
  {
   "cell_type": "code",
   "execution_count": null,
   "metadata": {},
   "outputs": [],
   "source": [
    "df_mi_new = df_mi_new[df_mi_new.scene.isin(['scene02', 'scene04', 'scene05', 'scene06', 'scene08', 'scene09'])]\n",
    "df_pos_new = df_pos_new[df_pos_new.scene.isin(['scene02', 'scene04', 'scene05', 'scene06', 'scene08', 'scene09'])]"
   ]
  },
  {
   "cell_type": "code",
   "execution_count": null,
   "metadata": {},
   "outputs": [],
   "source": [
    "print(len(df_mi))\n",
    "print(len(df_pos))\n",
    "print(len(df_mi_new))\n",
    "print(len(df_pos_new))"
   ]
  },
  {
   "cell_type": "markdown",
   "metadata": {},
   "source": [
    "# K154 and K175 analysis plan\n",
    "\n",
    "1 - use \"good\" markers (based on visual estimation of staining; low background markers) to define 5 tissue compartments.\n",
    "\n",
    "2 - calculate the signal for each marker (expression in correct compartment) e.g. for CD45, T-cell cytoplasm\n",
    "\n",
    "3 - calculate the background for each marker (expression in incorrect compartment) - e.g. for CD45, tumor nuclei\n",
    "\n",
    "4 - Visualize intensity distribution of early and late signal and background"
   ]
  },
  {
   "cell_type": "code",
   "execution_count": 7,
   "metadata": {},
   "outputs": [],
   "source": [
    "#compartments\n",
    "\n",
    "#define tumor and immune cell types\n",
    "ls_tumor = ['CK19_Ring','CK5_Ring','Ecad_Ring','CK14_Ring'] # #'CK7_Ring'= poor quench, CK17_Ring = too many pos comapred to CK5 and CK14\n",
    "ls_exclude = ['CD31_Ring','CD68_Ring','CD4_Ring'] # cd45 not good?\n",
    "df_pos['all-tumor'] = df_pos.loc[:,ls_tumor].sum(axis=1)>=1 \n",
    "df_pos['not-tumor'] = df_pos.loc[:,ls_exclude].sum(axis=1)>=1\n",
    "df_pos['not-tumor-not-Tcell'] = df_pos.loc[:,['CD31_Ring','CD68_Ring',]].sum(axis=1)>=1\n",
    "df_pos['tumor'] = (df_pos.loc[:,'all-tumor'].astype(int) -  df_pos.loc[:,'not-tumor'].astype(int))==1\n",
    "df_pos['Endothelial'] = df_pos.loc[:,'CD31_Ring']\n",
    "df_pos['Macrophage'] = (df_pos.loc[:,'CD68_Ring'].astype(int) - df_pos.loc[:,'CD31_Ring'].astype(int)) == 1\n",
    "#df_pos['Tcell'] = (df_pos.loc[:,'CD4_Ring'].astype(int) -  df_pos.loc[:,'not-tumor-not-Tcell'].astype(int))==1\n",
    "df_pos['CD4Tcell'] = (df_pos.loc[:,'CD4_Ring'].astype(int) -  df_pos.loc[:,'not-tumor-not-Tcell'].astype(int))==1\n",
    "df_pos['CD8Tcell'] = (df_pos.loc[:,'CD8_Ring'].astype(int) + df_pos.loc[:,'CD45_Ring'].astype(int) -  df_pos.loc[:,'not-tumor-not-Tcell'].astype(int))==2\n",
    "df_pos['T-cell'] = (df_pos.loc[:,'CD8Tcell'].astype(int) + df_pos.loc[:,'CD4Tcell'].astype(int)) >= 1\n",
    "df_pos['Basal'] = (df_pos.loc[:,'tumor'].astype(int) - df_pos.loc[:,'CK19_Ring'].astype(int)) == 1\n",
    "\n",
    "df_pos['Stromal'] = (df_pos.loc[:,['tumor']].sum(axis=1) ==0)#,'Tcell','Mac','Endothelial'\n",
    "df_pos = df_pos.drop(['all-tumor','not-tumor','not-tumor-not-Tcell'],axis=1)\n",
    "\n",
    "#new order\n",
    "df_pos_new['all-tumor'] = df_pos_new.loc[:,ls_tumor].sum(axis=1)>=1 \n",
    "df_pos_new['not-tumor'] = df_pos_new.loc[:,ls_exclude].sum(axis=1)>=1\n",
    "df_pos_new['not-tumor-not-Tcell'] = df_pos_new.loc[:,['CD31_Ring','CD68_Ring',]].sum(axis=1)>=1\n",
    "df_pos_new['tumor'] = (df_pos_new.loc[:,'all-tumor'].astype(int) -  df_pos_new.loc[:,'not-tumor'].astype(int))==1\n",
    "df_pos_new['Endothelial'] = df_pos_new.loc[:,'CD31_Ring']\n",
    "df_pos_new['Macrophage'] = (df_pos_new.loc[:,'CD68_Ring'].astype(int) - df_pos_new.loc[:,'CD31_Ring'].astype(int)) == 1\n",
    "df_pos_new['CD4Tcell'] = (df_pos_new.loc[:,'CD4_Ring'].astype(int) -  df_pos_new.loc[:,'not-tumor-not-Tcell'].astype(int))==1\n",
    "df_pos_new['CD8Tcell'] = (df_pos_new.loc[:,'CD8_Ring'].astype(int) + df_pos_new.loc[:,'CD45_Ring'].astype(int) -  df_pos_new.loc[:,'not-tumor-not-Tcell'].astype(int))==2\n",
    "df_pos_new['T-cell'] = (df_pos_new.loc[:,'CD8Tcell'].astype(int) + df_pos_new.loc[:,'CD4Tcell'].astype(int)) >= 1\n",
    "df_pos_new['Basal'] = (df_pos_new.loc[:,'tumor'].astype(int) - df_pos_new.loc[:,'CK19_Ring'].astype(int)) == 1\n",
    "\n",
    "df_pos_new['Stromal'] = (df_pos_new.loc[:,['tumor']].sum(axis=1) ==0)\n",
    "df_pos_new = df_pos_new.drop(['all-tumor','not-tumor','not-tumor-not-Tcell'],axis=1)\n"
   ]
  },
  {
   "cell_type": "code",
   "execution_count": 8,
   "metadata": {},
   "outputs": [
    {
     "data": {
      "text/plain": [
       "tumor          31905\n",
       "CD4Tcell        9166\n",
       "CD8Tcell        2170\n",
       "Macrophage      5630\n",
       "Endothelial     4276\n",
       "Stromal        34602\n",
       "Basal           3204\n",
       "dtype: int64"
      ]
     },
     "execution_count": 8,
     "metadata": {},
     "output_type": "execute_result"
    }
   ],
   "source": [
    "#five compartments\n",
    "df_pos.loc[:,['tumor','CD4Tcell','CD8Tcell','Macrophage','Endothelial','Stromal','Basal']].sum()"
   ]
  },
  {
   "cell_type": "code",
   "execution_count": 9,
   "metadata": {},
   "outputs": [
    {
     "data": {
      "text/plain": [
       "tumor          20978\n",
       "T-cell          5257\n",
       "Macrophage      3771\n",
       "Endothelial     3117\n",
       "Stromal        43906\n",
       "Basal          11829\n",
       "dtype: int64"
      ]
     },
     "execution_count": 9,
     "metadata": {},
     "output_type": "execute_result"
    }
   ],
   "source": [
    "#five compartments\n",
    "df_pos_new.loc[:,['tumor','T-cell','Macrophage','Endothelial','Stromal','Basal']].sum()"
   ]
  },
  {
   "cell_type": "code",
   "execution_count": 10,
   "metadata": {},
   "outputs": [],
   "source": [
    "#Annotate the compartment of signal and background for each marker\n",
    "#dd key is forground, d key is cell type, d item is bg\n",
    "dd_exclusive = {'CD4Tcell':{ 'FoxP3_Nuclei':'tumor',\n",
    "    'GRNZB_Nuclei':'tumor',\n",
    "    'PD1_Ring':'tumor',\n",
    "    'CD20_Ring':'tumor',\n",
    "    'CD45_Ring':'tumor',\n",
    "    'CD4_Ring':'tumor'},\n",
    " 'CD8Tcell': {'CD8_Ring':'tumor',},\n",
    "'tumor':{'CK8_Ring':'Stromal',\n",
    "    'Ecad_Ring':'Stromal',\n",
    "    'PgR_Nuclei':'Stromal',\n",
    "        'LamAC_Nuclei':'Stromal',\n",
    "        'pRB_Nuclei':'Stromal',\n",
    "        'Ki67_Nuclei':'Stromal'},\n",
    "'Basal':{    'CK5_Ring':'Stromal',\n",
    "    'CK17_Ring':'Stromal',\n",
    "    'CK14_Ring':'Stromal',\n",
    "    'aSMA_Ring':'T-cell',\n",
    "    'ColIV_Ring':'tumor',},\n",
    "'Endothelial': {'CD31_Ring':'tumor',},\n",
    "'Mac':{'CD68_Ring':'tumor',},\n",
    "'Stromal':{\n",
    "        'PDPN_Ring':'tumor',\n",
    "        'CD44_Ring':'Endothelial',\n",
    "        'Vim_Ring':'tumor',}\n",
    "               }"
   ]
  },
  {
   "cell_type": "code",
   "execution_count": 19,
   "metadata": {},
   "outputs": [
    {
     "data": {
      "image/png": "[encoded data removed]",
      "text/plain": [
       "<Figure size 600x700 with 2 Axes>"
      ]
     },
     "metadata": {
      "needs_background": "light"
     },
     "output_type": "display_data"
    }
   ],
   "source": [
    "#produce single cell histograms\n",
    "\n",
    "for s_fg, d_exclusive in dd_exclusive.items():\n",
    "    for s_marker, s_bg in d_exclusive.items():  \n",
    "        s_marker = 'CD45_Ring'\n",
    "        boolx = True\n",
    "        if s_marker=='CD45_Ring':\n",
    "            boolx=False\n",
    "        fig, ax = plt.subplots(2,1, figsize=(3,3.5),sharex=boolx,sharey=boolx,dpi=200)\n",
    "        ax=ax.ravel()\n",
    "        fg_index = [item.split('Her2B-K154-6S_')[1] for item in  df_pos[df_pos.loc[:,s_marker]].index]\n",
    "        #old\n",
    "        i_bins = 500\n",
    "        bg_index = [item.split('Her2B-K154-6S_')[1] for item in  df_pos[df_pos.loc[:,s_bg]].index]\n",
    "        se_fg = df_mi.loc[fg_index,s_marker]\n",
    "        se_bg = df_mi.loc[bg_index,f\"{s_marker.split('_')[0]}_{s_marker.split('_')[1].replace('Ring','Nucleus').replace('Nuclei','Ring').replace('Nucleus','Nuclei')}\"]\n",
    "        sns.distplot(se_fg,bins=i_bins,ax=ax[0],kde=False,label='S',hist_kws=dict(alpha=0.4))                       \n",
    "        sns.distplot(se_bg,bins=i_bins,ax=ax[0],kde=False,label='BG',hist_kws=dict(alpha=0.4))\n",
    "        ax[0].legend()\n",
    "        ax[0].set_title(f'{s_marker.split(\"_\")[0]}')\n",
    "        ax[0].set_xlabel('Original')\n",
    "        #new\n",
    "        fg_index = [item.split('HER2B-K175_')[1] for item in  df_pos_new[df_pos_new.loc[:,s_marker]].index]\n",
    "        bg_index = [item.split('HER2B-K175_')[1] for item in  df_pos_new[df_pos_new.loc[:,s_bg]].index]\n",
    "        if s_marker == 'CD45_Ring':\n",
    "            i_bins=300\n",
    "        se_fg = df_mi_new.loc[fg_index,f'{s_marker.split(\"_\")[0]}_{s_marker.split(\"_\")[1]}']\n",
    "        se_bg = df_mi_new.loc[bg_index,f\"{s_marker.split('_')[0]}_{s_marker.split('_')[1].replace('Ring','Nucleus').replace('Nuclei','Ring').replace('Nucleus','Nuclei')}\"]\n",
    "        sns.distplot(se_fg,bins=i_bins,ax=ax[1],kde=False,label='S',hist_kws=dict(alpha=0.4))                       \n",
    "        sns.distplot(se_bg,bins=i_bins,ax=ax[1],kde=False,label='BG',hist_kws=dict(alpha=0.4))\n",
    "        ax[1].legend()\n",
    "        ax[1].set_xlabel('Optimized')\n",
    "        plt.tight_layout()\n",
    "        fig.savefig(f'{codedir}/Figures/Her2B-K175/K154vs175_histogram_{s_marker.split(\"_\")[0]}.png')\n",
    "        if s_marker == 'CD45_Ring':\n",
    "            ax[1].set_xlim(0,5000)\n",
    "            ax[1].set_ylim(0,650)\n",
    "            ax[0].set_xlim(0,15000)\n",
    "            ax[0].set_ylim(0,500)\n",
    "            fig.savefig(f'{codedir}/Figures/Her2B-K175/K154vs175_Zoomedhistogram_{s_marker.split(\"_\")[0]}.png')\n",
    "        else:\n",
    "            plt.close(fig)\n",
    "        break\n",
    "    break\n",
    "                    \n",
    "\n",
    "    "
   ]
  },
  {
   "cell_type": "code",
   "execution_count": null,
   "metadata": {},
   "outputs": [],
   "source": [
    "#PD1\n",
    "for s_fg, d_exclusive in dd_exclusive.items():\n",
    "    for s_marker, s_bg in d_exclusive.items():     \n",
    "        s_marker='PD1_Ring'\n",
    "        fig, ax = plt.subplots(2,1, figsize=(3,3.5),sharex=True,sharey=True,dpi=200)\n",
    "        ax=ax.ravel()\n",
    "        fg_index = [item.split('Her2B-K154-6S_')[1] for item in  df_pos[df_pos.loc[:,s_marker]].index]\n",
    "        #old\n",
    "        bg_index = [item.split('Her2B-K154-6S_')[1] for item in  df_pos[df_pos.loc[:,s_bg]].index]\n",
    "        i_bins = 500\n",
    "        se_fg = df_mi.loc[fg_index,s_marker]\n",
    "        se_bg = df_mi.loc[bg_index,f\"{s_marker.split('_')[0]}_{s_marker.split('_')[1]}\"]\n",
    "        sns.distplot(se_fg,bins=i_bins,ax=ax[0],kde=False,label='S',hist_kws=dict(alpha=0.4))                       \n",
    "        sns.distplot(se_bg,bins=i_bins,ax=ax[0],kde=False,label='BG',hist_kws=dict(alpha=0.4))\n",
    "        ax[0].legend()\n",
    "        ax[0].set_title(f'{s_marker.split(\"_\")[0]}')\n",
    "        ax[0].set_xlabel('Original')\n",
    "        #new\n",
    "        fg_index = [item.split('HER2B-K175_')[1] for item in  df_pos_new[df_pos_new.loc[:,s_marker]].index]\n",
    "        bg_index = [item.split('HER2B-K175_')[1] for item in  df_pos_new[df_pos_new.loc[:,s_bg]].index]\n",
    "        #fg_index = set(marker_index) - set(bg_index)\n",
    "        se_fg = df_mi_new.loc[fg_index,f'{s_marker.split(\"_\")[0]}_{s_marker.split(\"_\")[1]}']\n",
    "        se_bg = df_mi_new.loc[bg_index,f\"{s_marker.split('_')[0]}_{s_marker.split('_')[1]}\"]\n",
    "        sns.distplot(se_fg,bins=i_bins,ax=ax[1],kde=False,label='S',hist_kws=dict(alpha=0.4))                       \n",
    "        sns.distplot(se_bg,bins=i_bins,ax=ax[1],kde=False,label='BG',hist_kws=dict(alpha=0.4))\n",
    "        ax[1].legend()\n",
    "        ax[1].set_xlabel('Optimized')\n",
    "        ax[1].set_xlim(0,10000)\n",
    "        ax[1].set_ylim(0,500)\n",
    "        ax[0].set_xlim(0,10000)\n",
    "        ax[0].set_ylim(0,500)\n",
    "        plt.tight_layout()\n",
    "        fig.savefig(f'{codedir}/Figures/Her2B-K175/K154vs175_histogram_{s_marker.split(\"_\")[0]}_Ring.png')\n",
    "        break\n",
    "    break"
   ]
  },
  {
   "cell_type": "code",
   "execution_count": null,
   "metadata": {},
   "outputs": [],
   "source": []
  }
 ],
 "metadata": {
  "kernelspec": {
   "display_name": "Python 3.x.y",
   "language": "python",
   "name": "python3.x.y"
  },
  "language_info": {
   "codemirror_mode": {
    "name": "ipython",
    "version": 3
   },
   "file_extension": ".py",
   "mimetype": "text/x-python",
   "name": "python",
   "nbconvert_exporter": "python",
   "pygments_lexer": "ipython3",
   "version": "3.7.4"
  }
 },
 "nbformat": 4,
 "nbformat_minor": 2
}
