{
 "cells": [
  {
   "cell_type": "markdown",
   "metadata": {},
   "source": [
    "# Comparison of two antibody panels with different order. <a name=\"contents\"></a>\n",
    "\n",
    "**Question:** How does the stain sensitivity and specificity change when you apply the same antibodies in a different order? \n",
    "\n",
    "**Samples:** \n",
    "- A TMA containing HER2+ breast cancer tissue, purchased from Biomax. https://www.biomax.us/tissue-arrays/Breast/Her2B\n",
    "- Sections:\n",
    "    - K154 is the original order\n",
    "    - K175 is the optimized order.\n",
    "\n",
    "**Method**: Cells were classified as tumor, endothelial, immune (T cell or macrophage) and stormal. For each stain, single cell pixel intensity in cells that should be positive was compared to cells that should be negative. For example, CD45 in T cells (i.e. specicifc signal) was compared to CD45 in tumor cells (i.e. non-specific background). The original antibody order was compared to the optimized order.\n",
    "\n",
    "**[Napari Analysis](#napari)**\n",
    "\n",
    "In order to compare background in specific areas of the tissue, e.g. nuclear non specific staining in tumor cells, we manually defined faorground and background regions using the napari image viewer. Foreground and background masks were saved for repoducing this analysis.\n"
   ]
  },
  {
   "cell_type": "markdown",
   "metadata": {},
   "source": [
    "### reviewer comments\n",
    "\n",
    "The panel optimization in cyclic staining protocol is important. The authors provide only one example here. I still do not quite understand the principle behind. Could you elaborate more on the method you used? "
   ]
  },
  {
   "cell_type": "code",
   "execution_count": 1,
   "metadata": {},
   "outputs": [],
   "source": [
    "#load libraries\n",
    "import pandas as pd\n",
    "import matplotlib.pyplot as plt\n",
    "import matplotlib\n",
    "import sys\n",
    "import numpy as np\n",
    "import os\n",
    "from scipy.stats.stats import pearsonr\n",
    "import itertools\n",
    "from scipy import stats\n",
    "import seaborn as sns\n",
    "from sklearn import preprocessing\n",
    "matplotlib.rcParams.update({'font.size': 12})"
   ]
  },
  {
   "cell_type": "markdown",
   "metadata": {},
   "source": [
    "\n",
    "round changes, old (K154) to new (K175)\n",
    "\n",
    "same- CK19, ER, HER2\n",
    "\n",
    "\n",
    "| Marker | Original | Optimized |\n",
    "|--------|----------|-----------|\n",
    "| CD4    | 3        | 7         |\n",
    "| CD8    | 1        | 7         |\n",
    "| CD20   | 6        | 8         |\n",
    "| CD31   | 4        | 10        |\n",
    "| CD44   | 4        | 3         |\n",
    "| CD45   | 2        | 6         |\n",
    "| CD68   | 2        | 6         |\n",
    "| CK14   | 5        | 1         |\n",
    "| CK5    | 2        | 4         |\n",
    "| CK7    | 5        | 6         |\n",
    "| CK8    | 9        | 8         |\n",
    "| CK17   | 7        | 9         |\n",
    "| ColI   | 8        | 9         |\n",
    "| ColIV  | 10       | 8         |\n",
    "| Ecad   | 3        | 2         |\n",
    "| EGFR   | 7        | 4         |\n",
    "| FoxP3  | 10       | 5         |\n",
    "| GRNZB  | 7        | 10        |\n",
    "| H3K4   | 10       | 9         |\n",
    "| H3K27  | 8        | 10        |\n",
    "|Ki67|      5    |   1        |\n",
    "|LamAC|     11     |    4       |\n",
    "|LamB1|     11     |    10       |\n",
    "|Lam B2|    11      |     12      |\n",
    "|PCNA|    1      |     2      |\n",
    "|PD1|    1      |    6       |\n",
    "|PDPN|    8      |    5       |\n",
    "|PgR|    5      |      7     |\n",
    "|pAKT|    7      |     3      |\n",
    "|pERK|    6      |     5     |\n",
    "|pHH3|    6      |     5     |\n",
    "|pRB|     9     |     4     |\n",
    "|  pS6    |    6      |     10      |\n",
    "|Vim|     4     |     7      |"
   ]
  },
  {
   "cell_type": "code",
   "execution_count": 2,
   "metadata": {},
   "outputs": [],
   "source": [
    "#set location of files\n",
    "os.chdir('/home/groups/graylab_share/OMERO.rdsStore/engje/Data/cycIF_ValidationStudies/cycIF_Validation')\n",
    "codedir = os.getcwd()"
   ]
  },
  {
   "cell_type": "code",
   "execution_count": null,
   "metadata": {},
   "outputs": [],
   "source": [
    "#load positive (thresholded using AF subtracted for K154/ non AF sub for K175)\n",
    "df_pos = pd.read_csv(f'{codedir}/Data/Her2B-K154-6S_DAPI11_Nuclei1000_ManualPositive.txt',index_col=0,sep='\\t')\n",
    "df_pos['scene'] = ['scene'+ item.split('_')[1].split('scene0')[1] for item in df_pos.index]\n",
    "\n",
    "df_pos_new = pd.read_csv(f'{codedir}/Data/Her2B-K175_DAPI12_Nuclei1000_ManualPositive.csv',index_col=0)\n",
    "\n",
    "\n",
    "#read in full features (all locations, cells) ***data too big***\n",
    "#df_mi = pd.read_csv(f'{codedir}/BigData/features_Her2B-K154-6S_MeanIntensity.tsv',index_col=0,sep='\\t')\n",
    "#df_mi['scene'] = ['scene'+ item.split('_')[0].split('scene0')[1] for item in df_mi.index]\n",
    "\n",
    "#df_mi_new = pd.read_csv(f'{codedir}/BigData/features_HER2B-K175_MeanIntensity.tsv',index_col=0,sep='\\t')\n",
    "#df_mi_new['scene'] = [item.split('_')[0] for item in df_mi_new.index]\n",
    "#save smaller dataframes\n",
    "#for s_slide in sorted(set(df_mi.scene)):\n",
    "#    df_mi[df_mi.scene==s_slide].to_csv(f'{codedir}/Data/features_Her2B-K154-6S-{s_slide}_MeanIntensity.csv')\n",
    "#save smaller dataframes\n",
    "#for s_slide in sorted(set(df_mi_new.scene)):\n",
    "#    df_mi_new[df_mi_new.scene==s_slide].to_csv(f'{codedir}/Data/features_HER2B-K175-{s_slide}_MeanIntensity.csv')\n",
    "#df_mi_new = df_mi_new[df_mi_new.scene.isin(['scene02', 'scene04', 'scene05', 'scene06', 'scene08', 'scene09'])]\n",
    "#df_pos_new = df_pos_new[df_pos_new.scene.isin(['scene02', 'scene04', 'scene05', 'scene06', 'scene08', 'scene09'])]"
   ]
  },
  {
   "cell_type": "code",
   "execution_count": null,
   "metadata": {},
   "outputs": [],
   "source": [
    "df_mi = pd.DataFrame()\n",
    "df_mi_new = pd.DataFrame()\n",
    "for s_scene in ['scene02', 'scene04', 'scene05', 'scene06', 'scene08', 'scene09']:\n",
    "    df_mi = df_mi.append(pd.read_csv(f'{codedir}/Data/features_Her2B-K154-6S-{s_scene}_MeanIntensity.csv',index_col=0))\n",
    "    df_mi_new = df_mi_new.append(pd.read_csv(f'{codedir}/Data/features_HER2B-K175-{s_scene}_MeanIntensity.csv',index_col=0))\n"
   ]
  },
  {
   "cell_type": "code",
   "execution_count": null,
   "metadata": {},
   "outputs": [],
   "source": [
    "set(df_mi.scene)"
   ]
  },
  {
   "cell_type": "code",
   "execution_count": null,
   "metadata": {},
   "outputs": [],
   "source": []
  },
  {
   "cell_type": "code",
   "execution_count": null,
   "metadata": {},
   "outputs": [],
   "source": [
    "print(len(df_mi))\n",
    "print(len(df_pos))\n",
    "print(len(df_mi_new))\n",
    "print(len(df_pos_new))"
   ]
  },
  {
   "cell_type": "markdown",
   "metadata": {},
   "source": [
    "# K154 and K175 analysis plan\n",
    "\n",
    "1 - use \"good\" markers (based on visual estimation of staining; low background markers) to define 5 tissue compartments.\n",
    "\n",
    "2 - calculate the signal for each marker (expression in correct compartment) e.g. for CD45, T-cell cytoplasm\n",
    "\n",
    "3 - calculate the background for each marker (expression in incorrect compartment) - e.g. for CD45, tumor nuclei\n",
    "\n",
    "4 - Visualize intensity distribution of early and late signal and background\n",
    "\n",
    "5 - Also estimate dynamic range and early/late correlation in ROIs using percentile (4th and 99th) \n"
   ]
  },
  {
   "cell_type": "code",
   "execution_count": null,
   "metadata": {},
   "outputs": [],
   "source": [
    "d_scene = {'AR_Nuclei':['scene008'],\n",
    "           'aSMA_Ring':['scene002','scene006'],\n",
    "           'CD4_Ring':['scene002','scene008'],\n",
    "           'CD8_Ring':['scene002','scene008'],\n",
    "           'CD20_Ring':['scene008'], #'scene002',\n",
    "           'CD31_Ring':['scene002','scene006','scene008'],\n",
    "           'CD44_Ring':['scene002','scene006','scene008'],\n",
    "           'CD45_Ring':['scene002','scene008','scene006'],\n",
    "           'CD68_Ring':['scene002','scene006','scene008'],\n",
    "           'CK5_Ring':['scene006'],\n",
    "           'CK7_Ring':['scene002','scene006'],\n",
    "           'CK8_Ring':['scene002','scene006','scene008'],\n",
    "           'CK14_Ring':['scene006'],\n",
    "           'CK17_Ring':['scene006'],\n",
    "           'CK19_Ring':['scene002','scene006','scene008'],\n",
    "           'ColI_Ring':['scene006'],\n",
    "           'ColIV_Ring':['scene006'],\n",
    "           'cPARP_Nuclei':['scene002'],\n",
    "           'Ecad_Ring':['scene002','scene008'],\n",
    "           'ER_Nuclei':['scene008'],\n",
    "           'FoxP3_Nuclei':['scene002','scene008'],\n",
    "           'GRNZB_Nuclei':['scene002','scene006'],\n",
    "           'H3K4_Nuclei':['scene002','scene008'],\n",
    "           'H3K27_Nuclei':['scene002','scene008'],\n",
    "           'HER2_Ring':['scene002','scene006'],\n",
    "           'Ki67_Nuclei':['scene002','scene006','scene008'],\n",
    "           'LamAC_Nuclei':['scene002','scene006','scene008'],\n",
    "           'LamB1_Nuclei':['scene002','scene008'],\n",
    "           'LamB2_Nuclei':['scene002','scene006','scene008'],\n",
    "           'PCNA_Nuclei':['scene002','scene008'],\n",
    "           'PD1_Ring':['scene008'],\n",
    "           'PDPN_Ring':['scene002','scene008'],\n",
    "           'PgR_Nuclei':['scene008'],\n",
    "           'pRB_Nuclei':['scene008'],\n",
    "           'pS6RP_Ring':['scene008'],\n",
    "           'S100_Nuclei':['scene006'],\n",
    "           'Vim_Ring':['scene002','scene006','scene008'],\n",
    "          }"
   ]
  },
  {
   "cell_type": "markdown",
   "metadata": {},
   "source": [
    "# dynamic range and SBR"
   ]
  },
  {
   "cell_type": "code",
   "execution_count": null,
   "metadata": {},
   "outputs": [],
   "source": [
    "# ROIs that have known positive cells\n",
    "#crop\n",
    "d_crop = {\n",
    "    'Her2B-K154-Scene-002':(3014,3437),\n",
    "    'Her2B-K154-Scene-006':(4154,4909),\n",
    "    'Her2B-K154-Scene-008':(3101,1923),\n",
    "    'HER2B-K175-Scene-02':(3443,3970),\n",
    "    'HER2B-K175-Scene-06':(2925,4671),\n",
    "    'HER2B-K175-Scene-08':(4593,4000),\n",
    "  }\n",
    "\n",
    "\n",
    "df_xy = df_pos.loc[:,['DAPI_X','DAPI_Y','scene']]\n",
    "df_xy['slide'] = [item.split(\"-6S\")[0] for item in df_xy.index] \n",
    "df_xy['slide_scene'] = df_xy.slide + '_' + df_xy.scene\n",
    "\n",
    "df_rois = pd.DataFrame()\n",
    "for s_scene, t_coord in d_crop.items():\n",
    "        x_min = t_coord[0]\n",
    "        x_max = t_coord[0] + 800\n",
    "        y_min = t_coord[1]\n",
    "        y_max = t_coord[1] + 800\n",
    "        df_scene = df_xy[df_xy.slide_scene==s_scene]\n",
    "        df_scene = df_scene.loc[(x_max > df_scene.DAPI_X) & (df_scene.DAPI_X > x_min)]\n",
    "        df_scene = df_scene.loc[(y_max > df_scene.DAPI_Y) & (df_scene.DAPI_Y > y_min)]\n",
    "        df_rois = df_rois.append(df_mi.loc[[item.split(\"6S_\")[1] for item in df_scene.index],:])"
   ]
  },
  {
   "cell_type": "code",
   "execution_count": null,
   "metadata": {},
   "outputs": [],
   "source": [
    "#compartments\n",
    "\n",
    "#define tumor and immune cell types\n",
    "ls_tumor = ['CK19_Ring','CK5_Ring','Ecad_Ring','CK14_Ring'] # #'CK7_Ring'= poor quench, CK17_Ring = too many pos comapred to CK5 and CK14\n",
    "ls_exclude = ['CD31_Ring','CD68_Ring','CD4_Ring'] # cd45 not good?\n",
    "df_pos['all-tumor'] = df_pos.loc[:,ls_tumor].sum(axis=1)>=1 \n",
    "df_pos['not-tumor'] = df_pos.loc[:,ls_exclude].sum(axis=1)>=1\n",
    "df_pos['not-tumor-not-Tcell'] = df_pos.loc[:,['CD31_Ring','CD68_Ring',]].sum(axis=1)>=1\n",
    "df_pos['tumor'] = (df_pos.loc[:,'all-tumor'].astype(int) -  df_pos.loc[:,'not-tumor'].astype(int))==1\n",
    "df_pos['Endothelial'] = df_pos.loc[:,'CD31_Ring']\n",
    "df_pos['Macrophage'] = (df_pos.loc[:,'CD68_Ring'].astype(int) - df_pos.loc[:,'CD31_Ring'].astype(int)) == 1\n",
    "#df_pos['Tcell'] = (df_pos.loc[:,'CD4_Ring'].astype(int) -  df_pos.loc[:,'not-tumor-not-Tcell'].astype(int))==1\n",
    "df_pos['CD4Tcell'] = (df_pos.loc[:,'CD4_Ring'].astype(int) -  df_pos.loc[:,'not-tumor-not-Tcell'].astype(int))==1\n",
    "df_pos['CD8Tcell'] = (df_pos.loc[:,'CD8_Ring'].astype(int) + df_pos.loc[:,'CD45_Ring'].astype(int) -  df_pos.loc[:,'not-tumor-not-Tcell'].astype(int))==2\n",
    "df_pos['T-cell'] = (df_pos.loc[:,'CD8Tcell'].astype(int) + df_pos.loc[:,'CD4Tcell'].astype(int)) >= 1\n",
    "df_pos['Basal'] = (df_pos.loc[:,'tumor'].astype(int) - df_pos.loc[:,'CK19_Ring'].astype(int)) == 1\n",
    "\n",
    "df_pos['Stromal'] = (df_pos.loc[:,['tumor']].sum(axis=1) ==0)#,'Tcell','Mac','Endothelial'\n",
    "df_pos = df_pos.drop(['all-tumor','not-tumor','not-tumor-not-Tcell'],axis=1)\n",
    "\n",
    "#new order\n",
    "df_pos_new['all-tumor'] = df_pos_new.loc[:,ls_tumor].sum(axis=1)>=1 \n",
    "df_pos_new['not-tumor'] = df_pos_new.loc[:,ls_exclude].sum(axis=1)>=1\n",
    "df_pos_new['not-tumor-not-Tcell'] = df_pos_new.loc[:,['CD31_Ring','CD68_Ring',]].sum(axis=1)>=1\n",
    "df_pos_new['tumor'] = (df_pos_new.loc[:,'all-tumor'].astype(int) -  df_pos_new.loc[:,'not-tumor'].astype(int))==1\n",
    "df_pos_new['Endothelial'] = df_pos_new.loc[:,'CD31_Ring']\n",
    "df_pos_new['Macrophage'] = (df_pos_new.loc[:,'CD68_Ring'].astype(int) - df_pos_new.loc[:,'CD31_Ring'].astype(int)) == 1\n",
    "df_pos_new['CD4Tcell'] = (df_pos_new.loc[:,'CD4_Ring'].astype(int) -  df_pos_new.loc[:,'not-tumor-not-Tcell'].astype(int))==1\n",
    "df_pos_new['CD8Tcell'] = (df_pos_new.loc[:,'CD8_Ring'].astype(int) + df_pos_new.loc[:,'CD45_Ring'].astype(int) -  df_pos_new.loc[:,'not-tumor-not-Tcell'].astype(int))==2\n",
    "df_pos_new['T-cell'] = (df_pos_new.loc[:,'CD8Tcell'].astype(int) + df_pos_new.loc[:,'CD4Tcell'].astype(int)) >= 1\n",
    "df_pos_new['Basal'] = (df_pos_new.loc[:,'tumor'].astype(int) - df_pos_new.loc[:,'CK19_Ring'].astype(int)) == 1\n",
    "\n",
    "df_pos_new['Stromal'] = (df_pos_new.loc[:,['tumor']].sum(axis=1) ==0)\n",
    "df_pos_new = df_pos_new.drop(['all-tumor','not-tumor','not-tumor-not-Tcell'],axis=1)\n"
   ]
  },
  {
   "cell_type": "code",
   "execution_count": null,
   "metadata": {},
   "outputs": [],
   "source": [
    "#five compartments\n",
    "df_pos.loc[:,['tumor','CD4Tcell','CD8Tcell','Macrophage','Endothelial','Stromal','Basal']].sum()"
   ]
  },
  {
   "cell_type": "code",
   "execution_count": null,
   "metadata": {},
   "outputs": [],
   "source": [
    "#five compartments\n",
    "df_pos_new.loc[:,['tumor','T-cell','Macrophage','Endothelial','Stromal','Basal']].sum()"
   ]
  },
  {
   "cell_type": "code",
   "execution_count": null,
   "metadata": {},
   "outputs": [],
   "source": [
    "#Annotate the compartment of signal and background for each marker\n",
    "#dd key is forground, d key is cell type, d item is bg\n",
    "dd_exclusive = {'CD4Tcell':{ 'FoxP3_Nuclei':'tumor',\n",
    "    'GRNZB_Nuclei':'tumor',\n",
    "    'PD1_Ring':'tumor',\n",
    "    'CD20_Ring':'tumor',\n",
    "    'CD45_Ring':'tumor',\n",
    "    'CD4_Ring':'tumor'},\n",
    " 'CD8Tcell': {'CD8_Ring':'tumor'},\n",
    "'tumor':{'CK8_Ring':'Stromal',\n",
    "    'Ecad_Ring':'Stromal',\n",
    "    'PgR_Nuclei':'Stromal',\n",
    "        'LamAC_Nuclei':'Stromal',\n",
    "        'pRB_Nuclei':'Stromal',\n",
    "        'Ki67_Nuclei':'Stromal'},\n",
    "'Basal':{    'CK5_Ring':'Stromal',\n",
    "    'CK17_Ring':'Stromal',\n",
    "    'CK14_Ring':'Stromal',\n",
    "    'aSMA_Ring':'T-cell',\n",
    "    'ColIV_Ring':'tumor',},\n",
    "'Endothelial': {'CD31_Ring':'tumor',},\n",
    "'Mac':{'CD68_Ring':'tumor',},\n",
    "'Stromal':{\n",
    "        'PDPN_Ring':'tumor',\n",
    "        'CD44_Ring':'Endothelial',\n",
    "        'Vim_Ring':'tumor',}\n",
    "               }"
   ]
  },
  {
   "cell_type": "code",
   "execution_count": null,
   "metadata": {},
   "outputs": [],
   "source": [
    "#produce single cell histograms\n",
    "\n",
    "for s_fg, d_exclusive in dd_exclusive.items():\n",
    "    for s_marker, s_bg in d_exclusive.items():  \n",
    "        s_marker = 'CD45_Ring'\n",
    "        boolx = True\n",
    "        if s_marker=='CD45_Ring':\n",
    "            boolx=False\n",
    "        fig, ax = plt.subplots(2,1, figsize=(3,3.5),sharex=boolx,sharey=boolx,dpi=200)\n",
    "        ax=ax.ravel()\n",
    "        fg_index = [item.split('Her2B-K154-6S_')[1] for item in  df_pos[df_pos.loc[:,s_marker]].index]\n",
    "        #old\n",
    "        i_bins = 500\n",
    "        bg_index = [item.split('Her2B-K154-6S_')[1] for item in  df_pos[df_pos.loc[:,s_bg]].index]\n",
    "        se_fg = df_mi.loc[fg_index,s_marker]\n",
    "        se_bg = df_mi.loc[bg_index,f\"{s_marker.split('_')[0]}_{s_marker.split('_')[1].replace('Ring','Nucleus').replace('Nuclei','Ring').replace('Nucleus','Nuclei')}\"]\n",
    "        sns.distplot(se_fg,bins=i_bins,ax=ax[0],kde=False,label='S',hist_kws=dict(alpha=0.4))                       \n",
    "        sns.distplot(se_bg,bins=i_bins,ax=ax[0],kde=False,label='BG',hist_kws=dict(alpha=0.4))\n",
    "        ax[0].legend()\n",
    "        ax[0].set_title(f'{s_marker.split(\"_\")[0]}')\n",
    "        ax[0].set_xlabel('Original')\n",
    "        #new\n",
    "        fg_index = [item.split('HER2B-K175_')[1] for item in  df_pos_new[df_pos_new.loc[:,s_marker]].index]\n",
    "        bg_index = [item.split('HER2B-K175_')[1] for item in  df_pos_new[df_pos_new.loc[:,s_bg]].index]\n",
    "        if s_marker == 'CD45_Ring':\n",
    "            i_bins=300\n",
    "        se_fg = df_mi_new.loc[fg_index,f'{s_marker.split(\"_\")[0]}_{s_marker.split(\"_\")[1]}']\n",
    "        se_bg = df_mi_new.loc[bg_index,f\"{s_marker.split('_')[0]}_{s_marker.split('_')[1].replace('Ring','Nucleus').replace('Nuclei','Ring').replace('Nucleus','Nuclei')}\"]\n",
    "        sns.distplot(se_fg,bins=i_bins,ax=ax[1],kde=False,label='S',hist_kws=dict(alpha=0.4))                       \n",
    "        sns.distplot(se_bg,bins=i_bins,ax=ax[1],kde=False,label='BG',hist_kws=dict(alpha=0.4))\n",
    "        ax[1].legend()\n",
    "        ax[1].set_xlabel('Optimized')\n",
    "        plt.tight_layout()\n",
    "        fig.savefig(f'{codedir}/Figures/Her2B-K175/K154vs175_histogram_{s_marker.split(\"_\")[0]}.png')\n",
    "        if s_marker == 'CD45_Ring':\n",
    "            ax[1].set_xlim(0,5000)\n",
    "            ax[1].set_ylim(0,650)\n",
    "            ax[0].set_xlim(0,15000)\n",
    "            ax[0].set_ylim(0,500)\n",
    "            fig.savefig(f'{codedir}/Figures/Her2B-K175/K154vs175_Zoomedhistogram_{s_marker.split(\"_\")[0]}.png')\n",
    "        else:\n",
    "            plt.close(fig)\n",
    "        break\n",
    "    break\n",
    "                    \n",
    "\n",
    "    "
   ]
  },
  {
   "cell_type": "code",
   "execution_count": null,
   "metadata": {},
   "outputs": [],
   "source": [
    "#plot\n",
    "df_result = pd.DataFrame(index=sorted(d_scene.keys()))\n",
    "#histogram intersection\n",
    "def histogram_intersection(h1, h2, bins):\n",
    "    bins = np.diff(bins)\n",
    "    sm = 0\n",
    "    for i in range(len(bins)):\n",
    "        sm += min(bins[i]*h1[i], bins[i]*h2[i])\n",
    "    return sm\n",
    "\n",
    "bins=400\n",
    "for s_fg, d_exclusive in dd_exclusive.items():\n",
    "    for s_marker, s_bg in d_exclusive.items(): \n",
    "        fg_index = [item.split('Her2B-K154-6S_')[1] for item in  df_pos[df_pos.loc[:,s_marker]].index]\n",
    "        bg_index = [item.split('Her2B-K154-6S_')[1] for item in  df_pos[df_pos.loc[:,s_bg]].index]\n",
    "        se_fg = df_mi.loc[df_mi.index.isin(fg_index),s_marker]\n",
    "        se_bg = df_mi.loc[df_mi.index.isin(bg_index),f\"{s_marker.split('_')[0]}_{s_marker.split('_')[1].replace('Ring','Nucleus').replace('Nuclei','Ring').replace('Nucleus','Nuclei')}\"]\n",
    "        df_result.loc[s_marker,'Original_S'] = se_fg.mean()\n",
    "        df_result.loc[s_marker,'Original_BG'] = se_bg.mean()   \n",
    "        h1,edges = np.histogram(se_fg.values, bins, range=(se_fg.append(se_bg).min(),se_fg.append(se_bg).max()))\n",
    "        h2,__ = np.histogram(se_bg.values, bins, range=(se_fg.append(se_bg).min(),se_fg.append(se_bg).max()))\n",
    "        #edges = np.interp(edges, (edges.min(), edges.max()), (-1, 1))\n",
    "        #min_max_scaler = preprocessing.MinMaxScaler()\n",
    "        #X_train_minmax = min_max_scaler.fit_transform(edges.reshape(-1, 1))\n",
    "        #edges = X_train_minmax.ravel()\n",
    "        sm = histogram_intersection(h1, h2, edges)\n",
    "        #print(edges.max()-edges.min())\n",
    "        df_result.loc[s_marker,'Original_Intersection'] = sm\n",
    "        #new\n",
    "        fg_index = [item.split('HER2B-K175_')[1] for item in  df_pos_new[df_pos_new.loc[:,s_marker]].index]\n",
    "        bg_index = [item.split('HER2B-K175_')[1] for item in  df_pos_new[df_pos_new.loc[:,s_bg]].index]\n",
    "        se_fg = df_mi_new.loc[df_mi_new.index.isin(fg_index),f'{s_marker.split(\"_\")[0]}_{s_marker.split(\"_\")[1]}']\n",
    "        se_bg = df_mi_new.loc[df_mi_new.index.isin(bg_index),f\"{s_marker.split('_')[0]}_{s_marker.split('_')[1].replace('Ring','Nucleus').replace('Nuclei','Ring').replace('Nucleus','Nuclei')}\"]\n",
    "        df_result.loc[s_marker,'Optimized_S'] = se_fg.mean()\n",
    "        df_result.loc[s_marker,'Optimized_BG'] = se_bg.mean()   \n",
    "        h1,__ = np.histogram(se_fg.values, bins, range=(se_fg.append(se_bg).min(),se_fg.append(se_bg).max()))\n",
    "        h2,edges = np.histogram(se_bg.values, bins, range=(se_fg.append(se_bg).min(),se_fg.append(se_bg).max()))\n",
    "        sm = histogram_intersection(h1, h2, edges)\n",
    "        df_result.loc[s_marker,'Optimized_Intersection'] = sm\n"
   ]
  },
  {
   "cell_type": "code",
   "execution_count": null,
   "metadata": {},
   "outputs": [],
   "source": [
    "ls_marker = ['CD31_Ring', 'CD44_Ring', 'CD45_Ring', 'CD4_Ring',\n",
    "       'Vim_Ring','PD1_Ring']\n",
    "fig,ax=plt.subplots()\n",
    "df_result.loc[ls_marker,['Original_Intersection','Optimized_Intersection']].dropna().plot(kind='bar',log=True,alpha=0.8,ax=ax)"
   ]
  },
  {
   "cell_type": "code",
   "execution_count": null,
   "metadata": {},
   "outputs": [],
   "source": [
    "fig,ax=plt.subplots(figsize=(5,8))\n",
    "df= df_result.loc[:,['Original_Intersection','Optimized_Intersection']].dropna().sort_values('Original_Intersection')\n",
    "df.index = [item.split('_')[0] for item in df.index]\n",
    "df.plot(kind='barh',log=True,alpha=0.8,ax=ax)\n",
    "ax.set_title('Histogram Intersection',fontsize=20)\n",
    "plt.tight_layout()\n",
    "fig.savefig(f'{codedir}/Figures/Her2B-K175/Original_Optimized_barplot.png')"
   ]
  },
  {
   "cell_type": "code",
   "execution_count": null,
   "metadata": {},
   "outputs": [],
   "source": [
    "matplotlib.rcParams.update({'font.size': 18})\n",
    "df_long = df.melt()\n",
    "#plot false positives\n",
    "fig, ax = plt.subplots(figsize=(3.5,4),dpi=200)\n",
    "sns.boxplot(data=df_long,x='variable',y='value',showfliers=False, boxprops=dict(alpha=.7))\n",
    "sns.stripplot(data=df_long,x='variable',y='value')\n",
    "ax.set_xticklabels(['Orig.','Opt.'])\n",
    "ax.set_title('Histogram\\n Intersection',fontsize=22)\n",
    "ax.set_ylabel('Pixel Overlap')\n",
    "ax.set_xlabel('Order')\n",
    "ax.set_yscale('log')\n",
    "plt.tight_layout()\n",
    "fig.savefig(f'{codedir}/Figures/Her2B-K175/Original_Optimized_boxplot.png')"
   ]
  },
  {
   "cell_type": "code",
   "execution_count": null,
   "metadata": {},
   "outputs": [],
   "source": [
    "#not significant in this tissue\n",
    "stat, p = stats.mannwhitneyu(x=df.loc[:,'Original_Intersection'].values, y=df.loc[:,'Optimized_Intersection'].values)\n",
    "p"
   ]
  },
  {
   "cell_type": "code",
   "execution_count": null,
   "metadata": {},
   "outputs": [],
   "source": [
    "#the mean does not capture; use histogram intersection\n",
    "df_result['Original_SBR']=df_result['Original_S']/df_result['Original_BG']\n",
    "df_result['Optimized_SBR']=df_result['Optimized_S']/df_result['Optimized_BG']\n",
    "df_result.loc[:,['Original_SBR','Optimized_SBR']].dropna().plot(rot=90,figsize=(12,3))\n",
    "#plt.xticks(range(len(df_result.loc[:,['Original_SBR','Optimized_SBR']].dropna().index)), df_result.loc[:,['Original_SBR','Optimized_SBR']].dropna().index)"
   ]
  },
  {
   "cell_type": "code",
   "execution_count": null,
   "metadata": {},
   "outputs": [],
   "source": [
    "# kde\n",
    "\n",
    "for s_fg, d_exclusive in dd_exclusive.items():\n",
    "    for s_marker, s_bg in d_exclusive.items():  \n",
    "        fig, ax = plt.subplots(2,1, figsize=(3,3.5),dpi=200)\n",
    "        ax=ax.ravel()\n",
    "        fg_index = [item.split('Her2B-K154-6S_')[1] for item in  df_pos[df_pos.loc[:,s_marker]].index]\n",
    "        #old\n",
    "        i_bins = 500\n",
    "        bg_index = [item.split('Her2B-K154-6S_')[1] for item in  df_pos[df_pos.loc[:,s_bg]].index]\n",
    "        se_fg = df_mi.loc[fg_index,s_marker]\n",
    "        se_bg = df_mi.loc[bg_index,f\"{s_marker.split('_')[0]}_{s_marker.split('_')[1].replace('Ring','Nucleus').replace('Nuclei','Ring').replace('Nucleus','Nuclei')}\"]\n",
    "        i_max = np.quantile(se_fg.append(se_bg),.998)\n",
    "        sns.kdeplot(se_fg,ax=ax[0],shade=True,label='S',alpha=0.4)                       \n",
    "        sns.kdeplot(se_bg,ax=ax[0],shade=True,label='BG',alpha=0.4)\n",
    "        ax[0].legend()\n",
    "        ax[0].set_title(f'{s_marker.split(\"_\")[0]}')\n",
    "        ax[0].set_xlabel('Original')\n",
    "        #new\n",
    "        fg_index = [item.split('HER2B-K175_')[1] for item in  df_pos_new[df_pos_new.loc[:,s_marker]].index]\n",
    "        bg_index = [item.split('HER2B-K175_')[1] for item in  df_pos_new[df_pos_new.loc[:,s_bg]].index]\n",
    "        se_old = se_fg\n",
    "        se_fg = df_mi_new.loc[fg_index,f'{s_marker.split(\"_\")[0]}_{s_marker.split(\"_\")[1]}']\n",
    "        se_bg = df_mi_new.loc[bg_index,f\"{s_marker.split('_')[0]}_{s_marker.split('_')[1].replace('Ring','Nucleus').replace('Nuclei','Ring').replace('Nucleus','Nuclei')}\"]\n",
    "        se_new = se_fg\n",
    "        i_max = np.quantile(se_old.append(se_new),.99)\n",
    "        sns.kdeplot(se_fg,ax=ax[1],shade=True,label='S',alpha=0.4,clip=(0,i_max))                       \n",
    "        sns.kdeplot(se_bg,ax=ax[1],shade=True,label='BG',alpha=0.4,clip=(0,i_max))\n",
    "        ax[1].legend()\n",
    "        ax[1].set_xlim(0,i_max)\n",
    "        ax[0].set_xlim(0,i_max)\n",
    "        ax[0].set_yticklabels('')\n",
    "        ax[1].set_yticklabels('')\n",
    "        ax[1].set_xlabel('Optimized')\n",
    "        plt.tight_layout()\n",
    "        fig.savefig(f'{codedir}/Figures/Her2B-K175/K154vs175_kde_{s_marker.split(\"_\")[0]}.png')\n",
    "        if s_marker == 'CD45_Ring':\n",
    "            ax[1].set_xlim(0,5000)\n",
    "            ax[0].set_xlim(0,16000)\n",
    "            fig.savefig(f'{codedir}/Figures/Her2B-K175/K154vs175_Zoomedkde_{s_marker.split(\"_\")[0]}.png')\n",
    "        else:\n",
    "            plt.close(fig)\n",
    "\n",
    "                  "
   ]
  },
  {
   "cell_type": "code",
   "execution_count": null,
   "metadata": {},
   "outputs": [],
   "source": [
    "#PD1\n",
    "for s_fg, d_exclusive in dd_exclusive.items():\n",
    "    for s_marker, s_bg in d_exclusive.items():     \n",
    "        s_marker='PD1_Ring'\n",
    "        fig, ax = plt.subplots(2,1, figsize=(3,3.5),sharex=True,sharey=True,dpi=200)\n",
    "        ax=ax.ravel()\n",
    "        fg_index = [item.split('Her2B-K154-6S_')[1] for item in  df_pos[df_pos.loc[:,s_marker]].index]\n",
    "        #old\n",
    "        bg_index = [item.split('Her2B-K154-6S_')[1] for item in  df_pos[df_pos.loc[:,s_bg]].index]\n",
    "        i_bins = 500\n",
    "        se_fg = df_mi.loc[fg_index,s_marker]\n",
    "        se_bg = df_mi.loc[bg_index,f\"{s_marker.split('_')[0]}_{s_marker.split('_')[1]}\"]\n",
    "        sns.distplot(se_fg,bins=i_bins,ax=ax[0],kde=False,label='S',hist_kws=dict(alpha=0.4))                       \n",
    "        sns.distplot(se_bg,bins=i_bins,ax=ax[0],kde=False,label='BG',hist_kws=dict(alpha=0.4))\n",
    "        ax[0].legend()\n",
    "        ax[0].set_title(f'{s_marker.split(\"_\")[0]}')\n",
    "        ax[0].set_xlabel('Original')\n",
    "        #new\n",
    "        fg_index = [item.split('HER2B-K175_')[1] for item in  df_pos_new[df_pos_new.loc[:,s_marker]].index]\n",
    "        bg_index = [item.split('HER2B-K175_')[1] for item in  df_pos_new[df_pos_new.loc[:,s_bg]].index]\n",
    "        #fg_index = set(marker_index) - set(bg_index)\n",
    "        se_fg = df_mi_new.loc[fg_index,f'{s_marker.split(\"_\")[0]}_{s_marker.split(\"_\")[1]}']\n",
    "        se_bg = df_mi_new.loc[bg_index,f\"{s_marker.split('_')[0]}_{s_marker.split('_')[1]}\"]\n",
    "        sns.distplot(se_fg,bins=i_bins,ax=ax[1],kde=False,label='S',hist_kws=dict(alpha=0.4))                       \n",
    "        sns.distplot(se_bg,bins=i_bins,ax=ax[1],kde=False,label='BG',hist_kws=dict(alpha=0.4))\n",
    "        ax[1].legend()\n",
    "        ax[1].set_xlabel('Optimized')\n",
    "        ax[1].set_xlim(0,10000)\n",
    "        ax[1].set_ylim(0,500)\n",
    "        ax[0].set_xlim(0,10000)\n",
    "        ax[0].set_ylim(0,500)\n",
    "        plt.tight_layout()\n",
    "        fig.savefig(f'{codedir}/Figures/Her2B-K175/K154vs175_histogram_{s_marker.split(\"_\")[0]}_Ring.png')\n",
    "        break\n",
    "    break"
   ]
  },
  {
   "cell_type": "code",
   "execution_count": null,
   "metadata": {},
   "outputs": [],
   "source": [
    "#PD1\n",
    "for s_fg, d_exclusive in dd_exclusive.items():\n",
    "    for s_marker, s_bg in d_exclusive.items():     \n",
    "        s_marker='PD1_Ring'\n",
    "        fig, ax = plt.subplots(2,1, figsize=(3,3.5),dpi=200)\n",
    "        ax=ax.ravel()\n",
    "        fg_index = [item.split('Her2B-K154-6S_')[1] for item in  df_pos[df_pos.loc[:,s_marker]].index]\n",
    "        #old\n",
    "        bg_index = [item.split('Her2B-K154-6S_')[1] for item in  df_pos[df_pos.loc[:,s_bg]].index]\n",
    "        i_bins = 500\n",
    "        se_fg = df_mi.loc[fg_index,s_marker]\n",
    "        se_bg = df_mi.loc[bg_index,f\"{s_marker.split('_')[0]}_{s_marker.split('_')[1]}\"]\n",
    "        sns.kdeplot(se_fg,ax=ax[0],shade=True,label='S',alpha=0.4)              \n",
    "        sns.kdeplot(se_bg,ax=ax[0],shade=True,label='BG',alpha=0.4)\n",
    "        ax[0].legend()\n",
    "        ax[0].set_title(f'{s_marker.split(\"_\")[0]}')\n",
    "        ax[0].set_xlabel('Original')\n",
    "        #new\n",
    "        fg_index = [item.split('HER2B-K175_')[1] for item in  df_pos_new[df_pos_new.loc[:,s_marker]].index]\n",
    "        bg_index = [item.split('HER2B-K175_')[1] for item in  df_pos_new[df_pos_new.loc[:,s_bg]].index]\n",
    "        #fg_index = set(marker_index) - set(bg_index)\n",
    "        se_fg = df_mi_new.loc[fg_index,f'{s_marker.split(\"_\")[0]}_{s_marker.split(\"_\")[1]}']\n",
    "        se_bg = df_mi_new.loc[bg_index,f\"{s_marker.split('_')[0]}_{s_marker.split('_')[1]}\"]\n",
    "        sns.kdeplot(se_fg,ax=ax[1],shade=True,label='S',alpha=0.4)                   \n",
    "        sns.kdeplot(se_bg,ax=ax[1],shade=True,label='BG',alpha=0.4)\n",
    "        ax[1].legend()\n",
    "        ax[1].set_xlabel('Optimized')\n",
    "        ax[1].set_xlim(0,12000)\n",
    "        ax[0].set_xlim(0,12000)\n",
    "        ax[0].set_yticklabels('')\n",
    "        ax[1].set_yticklabels('')\n",
    "        plt.tight_layout()\n",
    "        fig.savefig(f'{codedir}/Figures/Her2B-K175/K154vs175_kde_{s_marker.split(\"_\")[0]}_Ring.png')\n",
    "        break\n",
    "    break"
   ]
  },
  {
   "cell_type": "markdown",
   "metadata": {},
   "source": [
    "## Napari Analysis <a name=\"napari\"></a>\n",
    "\n",
    "[contents](#contents)\n",
    "\n",
    "Using the interactive image viewer for Python, [napari](https://napari.org/), we manually selected forground and background pixels to quantify SBR in a targeted method. Napari code runs on in-house generated multi-page ometiffs. For each ROI, the foreground and background pixel intensity was saved to csv, which are further analyzed here."
   ]
  },
  {
   "cell_type": "code",
   "execution_count": 4,
   "metadata": {},
   "outputs": [
    {
     "data": {
      "text/plain": [
       "'/home/groups/graylab_share/OMERO.rdsStore/engje/Data/cycIF_ValidationStudies/cycIF_Validation'"
      ]
     },
     "execution_count": 4,
     "metadata": {},
     "output_type": "execute_result"
    }
   ],
   "source": [
    "pwd"
   ]
  },
  {
   "cell_type": "code",
   "execution_count": 6,
   "metadata": {
    "scrolled": true
   },
   "outputs": [
    {
     "name": "stdout",
     "output_type": "stream",
     "text": [
      "result_Her2B-K154-Scene-002_R1_PD1_bg.csv\n",
      "result_Her2B-K154-Scene-002_R2_CD45_bg.csv\n",
      "result_Her2B-K154-Scene-002_R9_CK8_bg.csv\n",
      "result_Her2B-K154-Scene-002_R1_CD8_fg.csv\n",
      "result_Her2B-K154-Scene-002_R2_CD45_fg.csv\n",
      "result_Her2B-K154-Scene-002_R1_CD8_bg.csv\n",
      "result_Her2B-K154-Scene-002_R9_CK8_fg.csv\n",
      "result_Her2B-K154-Scene-002_R1_PD1_fg.csv\n",
      "result_HER2B-K175-Scene-02_R6_CD45_fg.csv\n",
      "result_HER2B-K175-Scene-02_R7_CD8_fg.csv\n",
      "result_HER2B-K175-Scene-02_R6_CD45_bg.csv\n",
      "result_HER2B-K175-Scene-02_R6_PD1_bg.csv\n",
      "result_HER2B-K175-Scene-02_R6_PD1_fg.csv\n",
      "result_HER2B-K175-Scene-02_R7_CD8_bg.csv\n",
      "result_HER2B-K175-Scene-02_R8_CK8_fg.csv\n",
      "result_HER2B-K175-Scene-02_R8_CK8_bg.csv\n"
     ]
    },
    {
     "data": {
      "image/png": "[encoded data removed]",
      "text/plain": [
       "<Figure size 450x375 with 1 Axes>"
      ]
     },
     "metadata": {
      "needs_background": "light"
     },
     "output_type": "display_data"
    },
    {
     "data": {
      "image/png": "[encoded data removed]",
      "text/plain": [
       "<Figure size 450x375 with 1 Axes>"
      ]
     },
     "metadata": {
      "needs_background": "light"
     },
     "output_type": "display_data"
    },
    {
     "data": {
      "image/png": "[encoded data removed]",
      "text/plain": [
       "<Figure size 450x375 with 1 Axes>"
      ]
     },
     "metadata": {
      "needs_background": "light"
     },
     "output_type": "display_data"
    },
    {
     "data": {
      "image/png": "[encoded data removed]",
      "text/plain": [
       "<Figure size 450x375 with 1 Axes>"
      ]
     },
     "metadata": {
      "needs_background": "light"
     },
     "output_type": "display_data"
    }
   ],
   "source": [
    "# lead fg and bg data\n",
    "df_all = pd.DataFrame()\n",
    "ls_sample = ['Her2B-K154','HER2B-K175']\n",
    "for s_sample in ls_sample:\n",
    "    df_data = pd.DataFrame()\n",
    "    for s_dir in os.listdir('./Data/SBR'):\n",
    "        if s_dir.find(f'result_{s_sample}') > -1:\n",
    "            print(s_dir)\n",
    "            df_data.loc[s_dir,'slide'] = s_sample\n",
    "            df_data['scene'] = [item.split('_')[1] for item in df_data.index]\n",
    "    df_data['rounds'] = [item.split('_')[2] for item in df_data.index]\n",
    "    df_data['marker'] = [item.split('_')[3] for item in df_data.index]\n",
    "    df_data['region'] = [item.split('_')[4].split('.')[0] for item in df_data.index]\n",
    "    df_result = pd.DataFrame()\n",
    "    for s_index in df_data.index:\n",
    "        df = pd.read_csv(f'Data/SBR/{s_index}',index_col=0)\n",
    "        df['rounds'] = df_data.loc[s_index,'rounds'] \n",
    "        df['marker'] = df_data.loc[s_index,'marker'] \n",
    "        df['region'] = df_data.loc[s_index,'region']\n",
    "        df_result = df_result.append(df)\n",
    "    df_result['mean_intensity'] = df_result.mean_intensity*256\n",
    "    df_result.reset_index(inplace=True)\n",
    "    for s_marker in ['CD8','CD45']:\n",
    "        fig, ax = plt.subplots(figsize=(3,2.5),dpi=150)\n",
    "        sns.boxplot(x='rounds', y='mean_intensity', hue='region', data=df_result[df_result.marker==s_marker], fliersize=0, ax=ax,hue_order=['fg','bg'])\n",
    "        #sns.stripplot(x='panel', y='mean_intensity', hue='region', data=df_result,ax=ax,palette='dark')\n",
    "        ax.legend(bbox_to_anchor=(.85,.35)) #loc=4\n",
    "        ax.set_title(f'{s_marker} Foreground vs. Background')\n",
    "        plt.tight_layout()\n",
    "        fig.savefig(f'./Figures/cmIF_{s_sample}_{s_marker}_FGvBG.png')\n",
    "    #calculate sbr\n",
    "    df_mean = df_result.groupby(['rounds','marker','region']).mean()\n",
    "    df_bg = df_result.loc[df_result.region=='bg'].copy()\n",
    "    for s_index in df_bg.index:\n",
    "        df_bg.loc[s_index,'fg'] =df_mean.loc[(df_bg.loc[s_index,'rounds'],df_bg.loc[s_index,'marker'],'fg'),'mean_intensity']\n",
    "        df_bg['SBR'] = df_bg.fg/df_bg.mean_intensity\n",
    "    df_bg['slide'] = s_sample\n",
    "    df_all = df_all.append(df_bg)\n",
    "#panel\n",
    "d_slide = {'Her2B-K154':'Orig.', 'HER2B-K175':'Opt.'}\n",
    "df_all['panel'] = df_all.slide.map(d_slide)"
   ]
  },
  {
   "cell_type": "code",
   "execution_count": 7,
   "metadata": {},
   "outputs": [
    {
     "data": {
      "image/png": "[encoded data removed]",
      "text/plain": [
       "<Figure size 450x375 with 1 Axes>"
      ]
     },
     "metadata": {
      "needs_background": "light"
     },
     "output_type": "display_data"
    },
    {
     "data": {
      "image/png": "[encoded data removed]",
      "text/plain": [
       "<Figure size 450x375 with 1 Axes>"
      ]
     },
     "metadata": {
      "needs_background": "light"
     },
     "output_type": "display_data"
    },
    {
     "data": {
      "image/png": "[encoded data removed]",
      "text/plain": [
       "<Figure size 450x375 with 1 Axes>"
      ]
     },
     "metadata": {
      "needs_background": "light"
     },
     "output_type": "display_data"
    },
    {
     "data": {
      "image/png": "[encoded data removed]",
      "text/plain": [
       "<Figure size 450x375 with 1 Axes>"
      ]
     },
     "metadata": {
      "needs_background": "light"
     },
     "output_type": "display_data"
    }
   ],
   "source": [
    "#plot df_all\n",
    "from scipy import stats\n",
    "for s_marker in ['CD8','CD45','PD1','CK8']:\n",
    "    fig, ax = plt.subplots(figsize=(3,2.5),dpi=150)\n",
    "    sns.boxplot(x='panel', y='SBR', data=df_all[df_all.marker==s_marker], fliersize=0, ax=ax)\n",
    "    sns.stripplot(x='panel', y='SBR', data=df_all[df_all.marker==s_marker], palette='dark', ax=ax)\n",
    "    x = df_all[(df_all.marker==s_marker) & (df_all.slide==df_all[df_all.marker==s_marker].groupby('slide').mean().index[0])].SBR\n",
    "    y = df_all[(df_all.marker==s_marker) & (df_all.slide==df_all[df_all.marker==s_marker].groupby('slide').mean().index[1])].SBR\n",
    "    statistic, pvalue = stats.ttest_ind(x,y)\n",
    "    \n",
    "    ax.set_title(f'{s_marker} \\n p = {pvalue:.2}')\n",
    "    plt.tight_layout()\n",
    "    fig.savefig(f'./Figures/cmIF_Optimized_{s_marker}_SBR.png')"
   ]
  },
  {
   "cell_type": "markdown",
   "metadata": {},
   "source": [
    "## Blocking Experiment\n",
    "\n",
    "why do later rounds have lower non-specific BG staining?"
   ]
  },
  {
   "cell_type": "code",
   "execution_count": null,
   "metadata": {},
   "outputs": [],
   "source": [
    "import os\n",
    "import skimage\n",
    "import numpy as np\n",
    "import tifffile\n",
    "import util\n",
    "import importlib\n",
    "#os.chdir('/home/groups/graylab_share/OMERO.rdsStore/engje/Data/cmIF/')\n",
    "#from mplex_image import ometiff\n",
    "rootdir = '/home/groups/graylab_share/Chin_Lab/ChinData/Cyclic_Workflow/cmIF_2021-07-07_HER2A'#os.getcwd()\n",
    "os.chdir(codedir)\n",
    "tiffdir = f'{rootdir}/RawImages'\n",
    "qcdir = f'{rootdir}/QC'\n",
    "regdir = f'{rootdir}/RegisteredImages'\n",
    "subdir = f'{rootdir}/SubtractedRegisteredImages'\n",
    "segdir = f'{rootdir}/Segmentation'\n",
    "cropdir = f'{rootdir}/Cropped'"
   ]
  },
  {
   "cell_type": "code",
   "execution_count": null,
   "metadata": {},
   "outputs": [],
   "source": [
    "import importlib\n",
    "importlib.reload(util)"
   ]
  },
  {
   "cell_type": "code",
   "execution_count": null,
   "metadata": {},
   "outputs": [],
   "source": [
    "''' get crop coords\n",
    "df = pd.DataFrame(index=os.listdir())\n",
    "df = df[(df.index.str.contains('ome.tif')) & (df.index.str.contains('scene004'))]\n",
    "ls_drop = ['HER2A-64_scene004_x2000y2000_c5.ome.tif','HER2A-65_scene004_x2000y2000_c5.ome.tif',\n",
    "          'HER2A-63_scene004_x2000y2000_c5.ome.tif','HER2A-62_scene004_x2000y2000_c5.ome.tif']\n",
    "df.drop(ls_drop,inplace=True)\n",
    "dict(zip([item.split('_')[0] + \"_\" + 'scene004' for item in df.index],[item.split('_')[2].replace('x','').replace('y',',') for item in df.index]))\n",
    "'''\n",
    "\n",
    "d_crop = {'HER2A-63_scene004': (2351,1648),\n",
    " 'HER2A-64_scene004': (2604,1066),\n",
    " 'HER2A-65_scene004': (2837,717),\n",
    " 'HER2A-62_scene004': (2410,683)}\n",
    "tu_array=(1,1)\n",
    "tu_fig=(6,4.2)\n",
    "for s_scene, tu_crop_corner in d_crop.items():\n",
    "    os.chdir(f'{regdir}/{s_scene}')\n",
    "    df_img = util.parse_org(s_end = \"ORG.tif\",s_start='R',type='reg')\n",
    "    df_img[' '] = df_img.rounds\n",
    "    df_img_color = df_img[df_img.color=='c5']\n",
    "    #make arrays\n",
    "    for s_index in df_img_color.index: \n",
    "        s_marker = df_img.loc[s_index,'marker']\n",
    "        s_scene = df_img.loc[s_index,'scene']\n",
    "        s_round = df_img.loc[s_index,'rounds']\n",
    "        if s_marker == 'DAPI':\n",
    "            continue\n",
    "        df_dapi = df_img[(df_img.scene==s_scene) & (df_img.rounds=='R2') & (df_img.color == 'c1')]\n",
    "        df_et = df_img[df_img.index==s_index]\n",
    "        tu_crop = (tu_crop_corner[0] + 1250, tu_crop_corner[1] + 550, 800, 600) #\n",
    "        #visualize IF roi\n",
    "        tu_rescale = (800,3000)#(0,0)\n",
    "        fig, ax = util.array_roi_if(df_et,df_dapi,s_label=' ',s_title=s_marker,tu_crop=tu_crop,\n",
    "                tu_array=tu_array,tu_fig=tu_fig,tu_rescale=tu_rescale,i_expnorm=0)\n",
    "        fig.savefig(f'{rootdir}/QC/{s_round}_{s_scene}_{s_marker}_pixelunits.png')\n",
    "        #break\n",
    "    #break"
   ]
  },
  {
   "cell_type": "code",
   "execution_count": null,
   "metadata": {},
   "outputs": [],
   "source": [
    "os.chdir(codedir)"
   ]
  },
  {
   "cell_type": "code",
   "execution_count": null,
   "metadata": {},
   "outputs": [],
   "source": [
    "pwd"
   ]
  },
  {
   "cell_type": "code",
   "execution_count": null,
   "metadata": {},
   "outputs": [],
   "source": [
    "ls_sample = ['HER2A-62','HER2A-63','HER2A-64','HER2A-65']\n",
    "df_data = pd.DataFrame()\n",
    "for s_sample in ls_sample:\n",
    "    \n",
    "    for s_dir in os.listdir('./Data'):\n",
    "        if s_dir.find(f'result_{s_sample}') > -1:\n",
    "            print(s_dir)\n",
    "            df_data.loc[s_dir,'slide'] = s_sample\n",
    "            #df_data['scene'] = [item.split('_')[1] for item in df_data.index]\n",
    "#\n",
    "df_data['marker_max'] = [item.split('_')[2] for item in df_data.index]\n",
    "df_data['maximum'] = [item.split('-')[-1] for item in df_data.marker_max]\n",
    "df_data['marker'] = [df_data.loc[item, 'marker_max'].replace(f\"-{df_data.loc[item,'maximum']}\",'') for item in df_data.index]\n",
    "df_data['region'] = [item.split('_')[-1].split('.')[0] for item in df_data.index]"
   ]
  },
  {
   "cell_type": "code",
   "execution_count": null,
   "metadata": {},
   "outputs": [],
   "source": [
    "df_result = pd.DataFrame()\n",
    "for s_index in df_data.index:\n",
    "    print(s_index)\n",
    "    df = pd.read_csv(f'Data/{s_index}',index_col=0)\n",
    "    df['maximum'] = int(df_data.loc[s_index,'maximum'])\n",
    "    df['marker'] = df_data.loc[s_index,'marker'] \n",
    "    df['region'] = df_data.loc[s_index,'region']\n",
    "    df['slide'] = df_data.loc[s_index,'slide']\n",
    "    df_result = df_result.append(df)\n",
    "df_result['mean_intensity'] = df_result.mean_intensity*(df_result.maximum/65535)*256\n",
    "df_result.reset_index(inplace=True)"
   ]
  },
  {
   "cell_type": "code",
   "execution_count": null,
   "metadata": {},
   "outputs": [],
   "source": [
    "#df_all=pd.DataFrame()\n",
    "for s_sample in ls_sample:\n",
    "    df_slide = df_result[(df_result.slide==s_sample)]\n",
    "    for s_marker in df_slide.marker.unique():\n",
    "        fig, ax = plt.subplots(figsize=(3,2.5),dpi=150)\n",
    "        df_plot = df_result[(df_result.marker==s_marker) & (df_result.slide==s_sample)]\n",
    "        sns.boxplot(x='region', y='mean_intensity', data=df_plot, fliersize=0, ax=ax,order=['fg','bg'])\n",
    "        #sns.stripplot(x='panel', y='mean_intensity', hue='region', data=df_result,ax=ax,palette='dark')\n",
    "        #ax.legend(bbox_to_anchor=(.85,.35)) #loc=4\n",
    "        ax.set_title(f'{s_sample} \\n {s_marker} Foreground vs. Background')\n",
    "        plt.tight_layout()\n",
    "        fig.savefig(f'./Figures/cmIF_{s_sample}_{s_marker}_FGvBG.png')\n"
   ]
  },
  {
   "cell_type": "code",
   "execution_count": null,
   "metadata": {},
   "outputs": [],
   "source": [
    "#calculate sbr\n",
    "\n",
    "df_mean = df_result.groupby(['slide','marker','region']).mean()\n",
    "df_bg = df_result.loc[df_result.region=='bg'].copy()\n",
    "#break\n",
    "for s_index in df_bg.index:\n",
    "    df_bg.loc[s_index,'fg'] = df_mean.loc[(df_bg.loc[s_index,'slide'],df_bg.loc[s_index,'marker'],'fg'),'mean_intensity']\n",
    "    df_bg['SBR'] = df_bg.fg/df_bg.mean_intensity\n",
    "\n",
    "#fix\n",
    "ls_index = df_bg[df_bg.marker=='CD45b'].index\n",
    "df_bg.loc[ls_index,'marker'] = 'CD45'\n",
    "df_bg.loc[ls_index,'slide'] = 'HER2A-63r'\n",
    "\n",
    "#fix\n",
    "ls_index = df_bg[df_bg.marker=='Rbt-IgG-750'].index\n",
    "df_bg.loc[ls_index,'marker'] = 'CD45'\n",
    "df_bg.loc[ls_index,'slide'] = 'HER2A-64p'"
   ]
  },
  {
   "cell_type": "code",
   "execution_count": null,
   "metadata": {},
   "outputs": [],
   "source": [
    "d_names = {'HER2A-63':'CD45 first',\n",
    "           'HER2A-62':'10x quench', \n",
    "           'HER2A-65':'after IgG',\n",
    "           'HER2A-64':'after IgG-750',\n",
    "           'HER2A-63r':'CD45 repeat', \n",
    "           'HER2A-64p':'IgG-750', \n",
    "           }"
   ]
  },
  {
   "cell_type": "code",
   "execution_count": null,
   "metadata": {},
   "outputs": [],
   "source": [
    "#plot df_bg\n",
    "ls_order = [key for key, item in d_names.items()]\n",
    "ls_label = [item for key, item in d_names.items()]\n",
    "from scipy import stats\n",
    "for s_marker in ['CD45']: #,'CD45b'\n",
    "    fig, ax = plt.subplots(figsize=(5.5,3.3),dpi=150)\n",
    "    sns.boxplot(x='slide', y='SBR', data=df_bg[df_bg.marker==s_marker], fliersize=0, ax=ax, order = ls_order)\n",
    "    sns.stripplot(x='slide', y='SBR', data=df_bg[df_bg.marker==s_marker], palette='dark', ax=ax, order = ls_order)\n",
    "    if s_marker=='CD45':\n",
    "        x = df_bg[(df_bg.marker==s_marker) & (df_bg.slide==df_bg[df_bg.marker==s_marker].groupby('slide').mean().index[0])].SBR\n",
    "        y = df_bg[(df_bg.marker==s_marker) & (df_bg.slide==df_bg[df_bg.marker==s_marker].groupby('slide').mean().index[1])].SBR\n",
    "        z = df_bg[(df_bg.marker==s_marker) & (df_bg.slide==df_bg[df_bg.marker==s_marker].groupby('slide').mean().index[2])].SBR\n",
    "        a = df_bg[(df_bg.marker==s_marker) & (df_bg.slide==df_bg[df_bg.marker==s_marker].groupby('slide').mean().index[3])].SBR\n",
    "        b = df_bg[(df_bg.marker==s_marker) & (df_bg.slide==df_bg[df_bg.marker==s_marker].groupby('slide').mean().index[3])].SBR\n",
    "        c = df_bg[(df_bg.marker==s_marker) & (df_bg.slide==df_bg[df_bg.marker==s_marker].groupby('slide').mean().index[4])].SBR\n",
    "        statistic, pvalue = stats.ttest_ind(x,y)\n",
    "        fstatistic, fpvalue = stats.f_oneway(x,y,z,a,b,c)\n",
    "        print(fpvalue)\n",
    "        ax.set_title(f'{s_marker} \\n p = {fpvalue:.2}')\n",
    "    else:\n",
    "        ax.set_title(f'{s_marker}')\n",
    "    ax.set_xticklabels(ls_label)\n",
    "    ax.tick_params(axis='x', labelrotation=45) \n",
    "    plt.tight_layout()\n",
    "    fig.savefig(f'./Figures/cmIF_Blocking_{s_marker}_SBR.png')"
   ]
  },
  {
   "cell_type": "code",
   "execution_count": null,
   "metadata": {},
   "outputs": [],
   "source": []
  },
  {
   "cell_type": "code",
   "execution_count": null,
   "metadata": {},
   "outputs": [],
   "source": []
  }
 ],
 "metadata": {
  "kernelspec": {
   "display_name": "Python3.9.5",
   "language": "python",
   "name": "python3.9.5"
  },
  "language_info": {
   "codemirror_mode": {
    "name": "ipython",
    "version": 3
   },
   "file_extension": ".py",
   "mimetype": "text/x-python",
   "name": "python",
   "nbconvert_exporter": "python",
   "pygments_lexer": "ipython3",
   "version": "3.9.5"
  }
 },
 "nbformat": 4,
 "nbformat_minor": 2
}
