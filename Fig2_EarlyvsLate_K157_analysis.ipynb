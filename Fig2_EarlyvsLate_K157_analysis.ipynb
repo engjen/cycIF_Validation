{
 "cells": [
  {
   "cell_type": "code",
   "execution_count": 3,
   "metadata": {},
   "outputs": [],
   "source": [
    "#load libraries\n",
    "import pandas as pd\n",
    "import matplotlib.pyplot as plt\n",
    "import matplotlib\n",
    "import sys\n",
    "import numpy as np\n",
    "import os\n",
    "from scipy.stats.stats import pearsonr\n",
    "import itertools\n",
    "from scipy import stats\n",
    "import seaborn as sns\n",
    "\n",
    "matplotlib.rcParams.update({'font.size': 12})"
   ]
  },
  {
   "cell_type": "markdown",
   "metadata": {},
   "source": [
    "# K157 Analysis Steps\n",
    "\n",
    "1 - use \"good\" markers (based on visual estimation of staining; low background markers) to define 5 tissue compartments.\n",
    "\n",
    "2 - calculate the signal for each marker (expression in correct compartment) e.g. for CD45, T-cell cytoplasm\n",
    "\n",
    "3 - calculate the background for each marker (expression in incorrect compartment) - e.g. for CD45, tumor nuclei\n",
    "\n",
    "4 - Visualize intensity distribution of early and late signal and background"
   ]
  },
  {
   "cell_type": "markdown",
   "metadata": {},
   "source": [
    "## Load Data"
   ]
  },
  {
   "cell_type": "code",
   "execution_count": 4,
   "metadata": {},
   "outputs": [],
   "source": [
    "#set location of files\n",
    "codedir = '/home/groups/graylab_share/OMERO.rdsStore/engje/Data/cycIF_ValidationStudies'\n",
    "os.chdir(codedir)"
   ]
  },
  {
   "cell_type": "code",
   "execution_count": 5,
   "metadata": {},
   "outputs": [],
   "source": [
    "#load positive (thresholded using AF subtracted)\n",
    "df_pos = pd.read_csv(f'{codedir}/Data/Her2B-K157-6S_DAPI22Q_Nuclei1000_ManualPositive.txt',index_col=0,sep='\\t')\n",
    "df_pos['slide'] = [item.split('_')[0] for item in df_pos.index]\n",
    "df_pos['scene'] = [item.split('_')[1] for item in df_pos.index]\n",
    "\n",
    "#read in full features (all locations, cells)\n",
    "df_mi = pd.read_csv(f'{codedir}/Data/features_Her2B-K157-6S_MeanIntensity.tsv',index_col=0,sep='\\t')\n",
    "\n",
    "df_mi['scene'] = [item.split('_')[0] for item in df_mi.index]"
   ]
  },
  {
   "cell_type": "code",
   "execution_count": 6,
   "metadata": {},
   "outputs": [],
   "source": [
    "#Define tissue compartments\n",
    "\n",
    "#define tumor and immune cell types\n",
    "ls_tumor = ['CK19_Ring','CK5_Ring','Ecad_Ring','CK14_Ring'] # #'CK7_Ring'= poor quench, CK17_Ring = too many pos comapred to CK5 and CK14\n",
    "ls_exclude = ['CD31_Ring','CD68_Ring','CD4_Ring'] \n",
    "df_pos['all-tumor'] = df_pos.loc[:,ls_tumor].sum(axis=1)>=1 \n",
    "df_pos['not-tumor'] = df_pos.loc[:,ls_exclude].sum(axis=1)>=1\n",
    "df_pos['not-tumor-not-Tcell'] = df_pos.loc[:,['CD31_Ring','CD68_Ring',]].sum(axis=1)>=1\n",
    "df_pos['tumor'] = (df_pos.loc[:,'all-tumor'].astype(int) -  df_pos.loc[:,'not-tumor'].astype(int))==1\n",
    "df_pos['Endothelial'] = df_pos.loc[:,'CD31_Ring']\n",
    "\n",
    "df_pos['Macrophage'] = (df_pos.loc[:,'CD68_Ring'].astype(int) - df_pos.loc[:,'CD31_Ring'].astype(int)) == 1\n",
    "\n",
    "\n",
    "df_pos['Tcell'] = (df_pos.loc[:,'CD4_Ring'].astype(int) -  df_pos.loc[:,'not-tumor-not-Tcell'].astype(int))==1\n",
    "df_pos['Stromal'] = (df_pos.loc[:,['tumor','Tcell','Macrophage','Endothelial']].sum(axis=1) ==0)\n",
    "df_pos = df_pos.drop(['all-tumor','not-tumor','not-tumor-not-Tcell'],axis=1)\n",
    "\n",
    "#check\n",
    "#df_pos.loc[:,['tumor','Tcell','Mac','Endothelial','Stromal']].sum().sum()\n",
    "#len(df_pos)\n",
    "#(df_pos.loc[:,['tumor','Tcell','Mac','Endothelial','Stromal']].sum(axis=1)!=1).sum()"
   ]
  },
  {
   "cell_type": "code",
   "execution_count": 7,
   "metadata": {},
   "outputs": [
    {
     "data": {
      "text/plain": [
       "tumor          30559\n",
       "Tcell           7336\n",
       "Macrophage      2055\n",
       "Endothelial     8739\n",
       "Stromal        13796\n",
       "dtype: int64"
      ]
     },
     "execution_count": 7,
     "metadata": {},
     "output_type": "execute_result"
    }
   ],
   "source": [
    "#five compartments\n",
    "df_pos.loc[:,['tumor','Tcell','Macrophage','Endothelial','Stromal']].sum()"
   ]
  },
  {
   "cell_type": "code",
   "execution_count": 8,
   "metadata": {},
   "outputs": [],
   "source": [
    "#Annotate the compartment of signal and background for each marker\n",
    "#dd key is forground, d key is cell type, d item is bg\n",
    "dd_exclusive = {'Tcell':{ 'FoxP3_Nuclei':'tumor',\n",
    "    'GRNZB_Nuclei':'tumor',\n",
    "    'PD1_Ring':'tumor',\n",
    "    'CD20_Ring':'tumor',\n",
    "    'CD45_Ring':'tumor',\n",
    "    'CD8_Ring':'tumor',\n",
    "    'CD4_Ring':'tumor'},\n",
    "                \n",
    "'tumor':{'CK8_Ring':'Stromal',\n",
    "    'CK5_Ring':'Stromal',\n",
    "    'CK17_Ring':'Stromal',\n",
    "    'HER2_Ring':'Stromal',\n",
    "    'Ecad_Ring':'Stromal',\n",
    "    'CK14_Ring':'Stromal',\n",
    "    'ER_Nuclei':'Stromal',\n",
    "    'PgR_Nuclei':'Stromal',\n",
    "    'CK19_Ring':'Stromal'},\n",
    "'Endothelial': {'CD31_Ring':'tumor',},\n",
    "'Macrophage':{'CD68_Ring':'tumor',},\n",
    "'Stromal':{'ColIV_Ring':'tumor',\n",
    "    'aSMA_Ring':'Tcell',\n",
    "    'PDPN_Ring':'tumor',\n",
    "    #'ColI_Ring':'tumor', #different lot of antibody between early and late\n",
    "    'CD44_Ring':'Endothelial',\n",
    "    'Vim_Ring':'tumor',}\n",
    "               }"
   ]
  },
  {
   "cell_type": "code",
   "execution_count": 9,
   "metadata": {},
   "outputs": [
    {
     "data": {
      "image/png": "[encoded data removed]",
      "text/plain": [
       "<Figure size 600x700 with 2 Axes>"
      ]
     },
     "metadata": {
      "needs_background": "light"
     },
     "output_type": "display_data"
    }
   ],
   "source": [
    "#produce single cell data/histograms\n",
    "\n",
    "for s_fg, d_exclusive in dd_exclusive.items():\n",
    "    fg_index = [item.split('Her2B-K157-6S_')[1] for item in  df_pos[df_pos.loc[:,s_fg]].index]\n",
    "    for s_marker, s_bg in d_exclusive.items():    \n",
    "        fig, ax = plt.subplots(2,1, figsize=(3,3.5),sharex=True,dpi=200)\n",
    "        ax=ax.ravel()\n",
    "        #early\n",
    "        bg_index = [item.split('Her2B-K157-6S_')[1] for item in  df_pos[df_pos.loc[:,s_bg]].index]\n",
    "        se_fg = df_mi.loc[fg_index,s_marker]\n",
    "        se_bg = df_mi.loc[bg_index,f\"{s_marker.split('_')[0]}_{s_marker.split('_')[1].replace('Ring','Nucleus').replace('Nuclei','Ring').replace('Nucleus','Nuclei')}\"]\n",
    "        sns.distplot(se_fg,bins=500,ax=ax[0],kde=False,label='S',hist_kws=dict(alpha=0.4))                       \n",
    "        sns.distplot(se_bg,bins=500,ax=ax[0],kde=False,label='BG',hist_kws=dict(alpha=0.4))\n",
    "        ax[0].legend()\n",
    "        ax[0].set_title(f'{s_marker.split(\"_\")[0]}')\n",
    "        ax[0].set_xlabel('Early')\n",
    "        #late\n",
    "        se_fg = df_mi.loc[fg_index,f'{s_marker.split(\"_\")[0]}b_{s_marker.split(\"_\")[1]}']\n",
    "        se_bg = df_mi.loc[bg_index,f\"{s_marker.split('_')[0]}b_{s_marker.split('_')[1].replace('Ring','Nucleus').replace('Nuclei','Ring').replace('Nucleus','Nuclei')}\"]\n",
    "        sns.distplot(se_fg,bins=500,ax=ax[1],kde=False,label='S',hist_kws=dict(alpha=0.4))                       \n",
    "        sns.distplot(se_bg,bins=500,ax=ax[1],kde=False,label='BG',hist_kws=dict(alpha=0.4))\n",
    "        ax[1].legend()\n",
    "        ax[1].set_xlabel('Late')\n",
    "        plt.tight_layout()\n",
    "        fig.savefig(f'{codedir}/Figures/Her2B-K157/K157_histogram_{s_marker.split(\"_\")[0]}.png')\n",
    "        if s_marker != 'CD45_Ring':\n",
    "            plt.close(fig)\n"
   ]
  },
  {
   "cell_type": "code",
   "execution_count": null,
   "metadata": {},
   "outputs": [],
   "source": []
  }
 ],
 "metadata": {
  "kernelspec": {
   "display_name": "Python 3.x.y",
   "language": "python",
   "name": "python3.x.y"
  },
  "language_info": {
   "codemirror_mode": {
    "name": "ipython",
    "version": 3
   },
   "file_extension": ".py",
   "mimetype": "text/x-python",
   "name": "python",
   "nbconvert_exporter": "python",
   "pygments_lexer": "ipython3",
   "version": "3.7.4"
  }
 },
 "nbformat": 4,
 "nbformat_minor": 2
}
